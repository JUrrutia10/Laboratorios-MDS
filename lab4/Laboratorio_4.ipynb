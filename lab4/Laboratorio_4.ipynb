{
  "nbformat": 4,
  "nbformat_minor": 0,
  "metadata": {
    "colab": {
      "provenance": []
    },
    "kernelspec": {
      "name": "python3",
      "display_name": "Python 3"
    },
    "language_info": {
      "name": "python"
    }
  },
  "cells": [
    {
      "cell_type": "markdown",
      "metadata": {
        "id": "XUZ1dFPHzAHl",
        "cell_id": "e37cb69cb73a49c2ad07cf670e073cb7",
        "deepnote_cell_height": 156.390625,
        "deepnote_cell_type": "markdown"
      },
      "source": [
        "# Laboratorio 4: Spark y EDA 🐼\n",
        "\n",
        "<center><strong>MDS7202: Laboratorio de Programación Científica para Ciencia de Datos</strong></center>"
      ]
    },
    {
      "cell_type": "markdown",
      "source": [
        "### Cuerpo Docente:\n",
        "\n",
        "- Profesores: Ignacio Meza, Sebastián Tinoco\n",
        "- Auxiliar: Catherine Benavides\n",
        "- Ayudante: Nicolás Ojeda, Eduardo Moya"
      ],
      "metadata": {
        "id": "PkEUN6c8S-E_"
      }
    },
    {
      "cell_type": "markdown",
      "metadata": {
        "id": "tXflExjqzAHr",
        "cell_id": "8ebcb0f2f70c43319279fdd28c13fe89",
        "deepnote_cell_height": 171.796875,
        "deepnote_cell_type": "markdown"
      },
      "source": [
        "### Equipo: SUPER IMPORTANTE - notebooks sin nombre no serán revisados\n",
        "\n",
        "- Nombre de alumno 1: Javier Urrutia S\n",
        "- Nombre de alumno 2: Manuel Zamorano\n"
      ]
    },
    {
      "cell_type": "markdown",
      "metadata": {
        "id": "AD-V0bbZzAHr",
        "cell_id": "290822720f3e4484b09e762655bcdb76",
        "deepnote_cell_height": 62,
        "deepnote_cell_type": "markdown"
      },
      "source": [
        "### **Link de repositorio de GitHub:** `https://github.com/JUrrutia10/Laboratorios-MDS`"
      ]
    },
    {
      "cell_type": "markdown",
      "metadata": {
        "tags": [],
        "deepnote_cell_height": 216,
        "cell_id": "60255b81ff0349ad9b18f598a8d71386",
        "deepnote_cell_type": "markdown",
        "id": "hnYD2hBMAwXf"
      },
      "source": [
        "### Reglas:\n",
        "\n",
        "- **Grupos de 2 personas**\n",
        "- Fecha de entrega: 7 días desde la publicación, 3 días de atraso con 1 punto de descuento c/u.\n",
        "- Instrucciones del lab el viernes a las 16:15 en formato online. Asistencia no es obligatoria.\n",
        "- <u>Prohibidas las copias</u>. Cualquier intento de copia será debidamente penalizado con el reglamento de la escuela.\n",
        "- Tienen que subir el laboratorio a u-cursos Y a su repositorio de github. Labs que no estén en u-cursos no serán revisados. Recuerden que el repositorio también tiene nota.\n",
        "- Cualquier duda fuera del horario de clases al foro. Mensajes al equipo docente serán respondidos por este medio.\n",
        "- Pueden usar cualquer material del curso que estimen conveniente."
      ]
    },
    {
      "cell_type": "markdown",
      "metadata": {
        "tags": [],
        "cell_id": "5bf6f5f66dcd4da9a6926774cec108ab",
        "deepnote_cell_height": 114.390625,
        "deepnote_cell_type": "markdown",
        "id": "xzz695obAwXg"
      },
      "source": [
        "### Temas a tratar\n",
        "\n",
        "- Introducción al manejo de datos tabulares por medio de la libreria `pandas`."
      ]
    },
    {
      "cell_type": "markdown",
      "metadata": {
        "id": "6uBLPj1PzAHs",
        "cell_id": "50ec30f08f2548a29bc979ed1741f5a0",
        "deepnote_cell_height": 243.390625,
        "deepnote_cell_type": "markdown"
      },
      "source": [
        "### Objetivos principales del laboratorio\n",
        "\n",
        "- Entender, aplicar y aprovechar las ventajas que nos ofrece la libreria `pyspark` para manejar datos tabulares de gran volúmen.\n",
        "- Crear gráficos para el desarrollo de Análisis de Datos Exploratorios (EDA)."
      ]
    },
    {
      "cell_type": "markdown",
      "source": [
        "### Datos del Lab\n",
        "\n",
        "- Base de datos: https://gitlab.com/imezadelajara/datos_clase_7_mds7202/-/raw/main/datos_lab_spark.parquet\n",
        "- Objeto serializado: https://gitlab.com/imezadelajara/datos_clase_7_mds7202/-/raw/main/object.pkl?inline=false"
      ],
      "metadata": {
        "id": "f7hHEyTgm12s"
      }
    },
    {
      "cell_type": "markdown",
      "source": [
        "## Preguntas Teóricas [12 puntos]\n",
        "(2 por pregunta)"
      ],
      "metadata": {
        "id": "6CrDdk5NRAKe"
      }
    },
    {
      "cell_type": "markdown",
      "source": [
        "<center>\n",
        "<img src=\"https://img.buzzfeed.com/buzzfeed-static/static/2018-08/1/17/enhanced/buzzfeed-prod-web-05/anigif_enhanced-9173-1533160033-1.gif\" width=350 />\n",
        "\n"
      ],
      "metadata": {
        "id": "EmDMGUTxLp7M"
      }
    },
    {
      "cell_type": "markdown",
      "source": [
        "Responda en  máximo 5 líneas las siguientes preguntas:\n",
        "1. ¿Qué es Apache Spark y cuáles son sus principales ventajas sobre Pandas?\n",
        "2. ¿Qué es un RDD en Spark? Describe una de sus principales características. ¿Qué tienen que ver con los dataframes?.\n",
        "3. Diferencia entre transformaciones y acciones en Spark. Proporciona ejemplos de cada una. ¿Qué ocurre internamente cuando se ejecuta una acción?\n",
        "4. Explica la importancia del particionamiento en Spark y cómo afecta el rendimiento del procesamiento de datos.\n",
        "5. ¿Cuáles son las funciones de Spark Driver y Spark Executor?\n",
        "6. ¿Qué es el Catalyst Optimizer en Apache Spark y cuál es su función principal en la optimización de consultas SQL?\n"
      ],
      "metadata": {
        "id": "pGZZcxMWRdIa"
      }
    },
    {
      "cell_type": "markdown",
      "source": [
        "**Respuestas**\n",
        "\n",
        " 1.- Apache Spark es un potente motor unificado, diseñado para el procesamiento de datos a gran escala, tanto en centros de datos físicos como en entornos de nube. Entre los problemas con Pandas se encuentran:\n",
        "*  Al manejar grandes conjuntos de datos el consumo excesivo de memoria puede ser un problema (pues emplea una evaluación ansiosa, que, combinada con la inferencia automática de tipos de datos y el uso de objetos de Python, puede resultar en una gestión ineficiente de la memoria).\n",
        "*  Su desempeño puede verse comprometido al trabajar con volúmenes de datos más grandes dada, en parte, a su dependencia de NumPy, el cual no está optimizado para operar con grandes cantidades de datos ni para ejecutar operaciones de forma paralela o distribuida.\n",
        "*  No está diseñado para soportar computación paralela o distribuida.\n",
        "\n",
        "En cambio, Apache Spark tiene las siguientes ventajas:\n",
        "*   Es más veloz al aprovechar los avances en hardware para maximizar el uso de recursos, y también por construcción de cálculos que optimizan y programan las tareas para una ejecución paralela eficiente.\n",
        "*   Permite la separación entre cómputo y almacenamiento, lo que habilita la lectura de diversos tipos de datos para su procesamiento en memoria.\n",
        "*  Es compatible con múltiples lenguajes de programación, proporcionando una amplia gama de módulos para el manejo de datos y aprendizaje automático, facilitando su integración y uso en diversos contextos.\n",
        "\n",
        "2.- Resilient Distributed Dataset (RDD) es una estructura de datos que simplifica la manipulación de información tabular de forma inmutable. Este modelo permite que Spark realice operaciones de computación en paralelo de manera eficiente, distribuyendo los datos a través del clúster y ejecutando operaciones en paralelo.\n",
        "\n",
        "Una de sus principales características son las particiones. Los RDDs están divididos en estas, y son las unidades básicas de paralelismo en Spark. Cada partición de un RDD se procesa de manera independiente, lo que permite la ejecución eficiente de operaciones en paralelo. Las particiones pueden estar distribuidas en los nodos del clúster y se pueden acceder y manipular de forma independiente.\n",
        "\n",
        "La relación entre RDDs y DataFrames radica en que los DataFrames se construyen sobre los RDDs subyacentes. En otras palabras, los DataFrames son una forma más conveniente de trabajar con datos estructurados que se basa en los principios y la funcionalidad proporcionada por los RDDs. Esto permite que Spark aproveche las optimizaciones y la tolerancia a fallos de los RDDs mientras proporciona una API más amigable para el usuario en la forma de DataFrames.\n",
        "\n",
        " 3.- Las transformaciones en Spark son operaciones que generan un nuevo RDD a partir de uno existente. Sin embargo, los RDDs son inmutables, por lo que no se modifican directamente; en cambio, se crea un nuevo RDD con los resultados de la transformación. Las transformaciones son perezosas (lazy), lo que significa que no se ejecutan de inmediato, sino que se almacenan en un grafo dirigido acíclico (DAG) para su ejecución posterior. Ejemplos de transformaciones incluyen map, filter, flatMap, reduceByKey, join, entre otros. \\\\\n",
        "Por otra parte, las acciones, son operaciones que desencadenan la ejecución de las transformaciones y devuelven un resultado al programa principal o los almacenan en un sistema de almacenamiento externo. Cuando se ejecuta una acción, Spark evalúa todas las transformaciones que se han definido previamente en el grafo DAG y realiza los cálculos necesarios para obtener el resultado final. Ejemplos de acciones incluyen collect, count, take, reduce, saveAsTextFile, entre otros.\n",
        "\n",
        "4.- El particionamiento es importante por varias razones:\n",
        "\n",
        "* Al dividir los datos en particiones y distribuirlas entre los nodos del clúster, Spark puede realizar operaciones en paralelo en cada partición. Esto significa que múltiples tareas pueden ejecutarse simultáneamente en diferentes nodos, lo que aprovecha al máximo los recursos disponibles y acelera el procesamiento de datos.\n",
        "\n",
        "* Permite distribuir uniformemente la carga de trabajo entre los nodos del clúster. Si los datos se distribuyen de manera desigual entre las particiones, algunos nodos pueden terminar con una carga de trabajo desproporcionadamente alta, lo que puede ralentizar el procesamiento. Un particionamiento adecuado garantiza que cada nodo maneje una cantidad similar de datos, lo que mejora el rendimiento general del sistema.\n",
        "\n",
        "* Al organizar los datos en particiones, Spark puede minimizar la cantidad de comunicación necesaria entre los nodos del clúster durante el procesamiento. Esto se debe a que las operaciones que implican datos en la misma partición pueden realizarse localmente en un nodo sin necesidad de transferir datos entre nodos, lo que reduce la sobrecarga de red y mejora la eficiencia.\n",
        "\n",
        "* Puede optimizar el uso de la memoria y el almacenamiento en el clúster. Por ejemplo, al particionar los datos de manera que se ajusten a la memoria disponible en cada nodo, se puede minimizar el uso de memoria virtual y la necesidad de operaciones costosas de lectura y escritura en disco.\n",
        "\n",
        "5.- Spark Driver es responsable de coordinar todo el proceso de ejecución de la aplicación Spark, contiene el programa principal de la aplicación Spark y ejecuta el código del usuario, interactúa con el administrador de clúster para obtener recursos y asignar tareas a los ejecutores y gestiona el estado global de la aplicación Spark, incluidos los RDDs, los DataFrames y otros elementos de la lógica de la aplicación.\n",
        "\n",
        "Por otro lado Spark Executor son procesos que se ejecutan en los nodos del clúster y realizan el trabajo real de procesamiento de datos. Son responsables de ejecutar tareas individuales y mantener los datos en memoria o en disco según sea necesario, comunicándose con el Spark Driver y ejecutando las tareas asignadas por él. Además, administran el ciclo de vida de los RDDs y otros datos en memoria caché o almacenados temporalmente durante la ejecución de la aplicación.\n",
        "\n",
        "6.- El Catalyst Optimizer es un componente  que se encarga de optimizar consultas SQL y expresiones lógicas en el proceso de ejecución de las operaciones sobre datos estructurados. Su función principal es mejorar el rendimiento de las consultas mediante la aplicación de diversas técnicas de optimización. Algunas de las funciones principales del Catalyst Optimizer son:\n",
        "\n",
        "* Optimización de expresiones: El Catalyst Optimizer reescribe y reorganiza las expresiones lógicas de las consultas para mejorar la eficiencia en la ejecución. Esto incluye la simplificación de expresiones redundantes, la reubicación de operaciones costosas y la aplicación de reglas de álgebra relacional para optimizar el plan de ejecución.\n",
        "\n",
        "* Generación de planes de ejecución eficientes: Utilizando información estadística sobre los datos y las operaciones, el Catalyst Optimizer genera planes de ejecución óptimos que minimizan el tiempo de procesamiento y maximizan el uso de recursos del clúster.\n",
        "\n",
        "* Selección de estrategias de ejecución: El Catalyst Optimizer elige las estrategias de ejecución más adecuadas para cada operación en función de las características de los datos y el hardware disponible. Por ejemplo, puede decidir si es más eficiente realizar un join mediante un shuffle o mediante un broadcast, dependiendo del tamaño de los datos involucrados.\n",
        "\n",
        "* Optimización de join: El Catalyst Optimizer optimiza las operaciones de join, como la selección del algoritmo de join más eficiente (sort-merge join, hash join, etc.) y la reordenación de tablas para minimizar el movimiento de datos entre nodos.\n",
        "\n",
        "\n"
      ],
      "metadata": {
        "id": "1elJgE8JRn2O"
      }
    },
    {
      "cell_type": "markdown",
      "metadata": {
        "cell_id": "00002-bf13ea5a-d8bf-4cee-879e-ba1c7035e657",
        "deepnote_cell_type": "markdown",
        "id": "b020ce37"
      },
      "source": [
        "## Parte Práctica\n",
        "\n"
      ]
    },
    {
      "cell_type": "markdown",
      "source": [
        "<center>\n",
        "<img src=\"https://pbs.twimg.com/ad_img/1285681293590749189/kDckYy6Z?format=png&name=900x900\" width=350 />"
      ],
      "metadata": {
        "id": "k0DaDvtgEYTV"
      }
    },
    {
      "cell_type": "markdown",
      "source": [
        "Juan Carlos Bodoque, el famoso periodista y empresario, decidió diversificar su portafolio de negocios y crear su propia plataforma de e-commerce. Después de varios años de investigar y analizar el mercado financiero, finalmente logró fundar Bodoque E-Shop con el objetivo de ofrecer a sus clientes una experiencia personalizada y confiable en sus transacciones.\n",
        "\n",
        "Sin embargo, con la llegada de los aliens al planeta Tierra, aparecen nuevos desafíos para el negocio. Por ello, Bodoque decide invertir en un equipo de expertos en tecnología y comercio interplanetario, para que Bodoque Shop implemente las últimas innovaciones en servicio al cliente para garantizar la satisfacción y fidelización de sus nuevos clientes.\n",
        "\n",
        "El primer objetivo de Bodoque E-Shop será la hacer un análisis exploratorio para entender mejor el comportamiento de los usuarios en la plataforma. Para ello Bodoque les hace entrega de un extenso dataset en el que se registran las actividades que han realizado sus clientes durante los últimos meses. A continuación se presenta un diccionario de variables que levanto el equipo de consultores interplanetarios de Bodoque:\n",
        "\n",
        "1. `Transaction ID`: A unique identifier for each transaction.\n",
        "2. `Customer ID`: A unique identifier for each customer.\n",
        "3. `Transaction Amount`: The total amount of money exchanged in the transaction in USD.\n",
        "4. `Transaction Date`: The date and time when the transaction took place.\n",
        "5. `Payment Method`: The method used to complete the transaction (e.g., credit card, PayPal, etc.).\n",
        "6. `Product Category`: The category of the product involved in the transaction.\n",
        "7. `Quantity`: The number of products involved in the transaction.\n",
        "8. `Customer Age`: The age of the customer making the transaction.\n",
        "9. `Customer Location`: The geographical location of the customer.\n",
        "10. `Device Used`: The type of device used to make the transaction (e.g., mobile, desktop).\n",
        "11. `IP Address`: The IP address of the device used for the transaction.\n",
        "Shipping Address: The address where the product was shipped.\n",
        "12. `Billing Address`: The address associated with the payment method.\n",
        "13. `Is An Alien`: A binary indicator of whether customer is an alien.\n",
        "14. `Account Age Days`: The age of the customer's account in days at the time of the transaction.\n",
        "15. `Transaction Hour`: The hour of the day when the transaction occurred.\n"
      ],
      "metadata": {
        "id": "uW1dg_5_WR8S"
      }
    },
    {
      "cell_type": "markdown",
      "metadata": {
        "id": "MhISwri4zAHy",
        "cell_id": "1769820f70244385ab5ac51f7509b6de",
        "deepnote_cell_height": 61.133331298828125,
        "deepnote_cell_type": "markdown"
      },
      "source": [
        "### Importamos librerias utiles y cargamos los datos😸"
      ]
    },
    {
      "cell_type": "code",
      "source": [
        "!pip install pyspark\n",
        "!apt-get install openjdk-8-jdk-headless -qq > /dev/null\n",
        "\n",
        "import os\n",
        "os.environ[\"JAVA_HOME\"] = \"/usr/lib/jvm/java-8-openjdk-amd64\""
      ],
      "metadata": {
        "id": "xHoq7VBlJoS3",
        "colab": {
          "base_uri": "https://localhost:8080/"
        },
        "outputId": "f8a14ebe-c67e-45a6-f55a-984bf1635f4f"
      },
      "execution_count": 1,
      "outputs": [
        {
          "output_type": "stream",
          "name": "stdout",
          "text": [
            "Collecting pyspark\n",
            "  Downloading pyspark-3.5.1.tar.gz (317.0 MB)\n",
            "\u001b[2K     \u001b[90m━━━━━━━━━━━━━━━━━━━━━━━━━━━━━━━━━━━━━━━━\u001b[0m \u001b[32m317.0/317.0 MB\u001b[0m \u001b[31m2.6 MB/s\u001b[0m eta \u001b[36m0:00:00\u001b[0m\n",
            "\u001b[?25h  Preparing metadata (setup.py) ... \u001b[?25l\u001b[?25hdone\n",
            "Requirement already satisfied: py4j==0.10.9.7 in /usr/local/lib/python3.10/dist-packages (from pyspark) (0.10.9.7)\n",
            "Building wheels for collected packages: pyspark\n",
            "  Building wheel for pyspark (setup.py) ... \u001b[?25l\u001b[?25hdone\n",
            "  Created wheel for pyspark: filename=pyspark-3.5.1-py2.py3-none-any.whl size=317488491 sha256=8338466991937b984ec1a2f3ea07eb6d819d35660d7fb6898ab18ea02bd4c15f\n",
            "  Stored in directory: /root/.cache/pip/wheels/80/1d/60/2c256ed38dddce2fdd93be545214a63e02fbd8d74fb0b7f3a6\n",
            "Successfully built pyspark\n",
            "Installing collected packages: pyspark\n",
            "Successfully installed pyspark-3.5.1\n"
          ]
        }
      ]
    },
    {
      "cell_type": "code",
      "source": [
        "# Libreria Core del lab.\n",
        "import pyspark\n",
        "from pyspark import SparkConf, SparkContext\n",
        "from pyspark.sql import SparkSession\n",
        "import pandas as pd\n",
        "from pyspark.sql.types import StringType, IntegerType, FloatType\n",
        "\n",
        "\n",
        "#Libreria para plotear\n",
        "!pip install --upgrade plotly\n",
        "!pip install missingno\n",
        "import matplotlib.pyplot as plt\n",
        "import plotly.express as px"
      ],
      "metadata": {
        "id": "M6MKzLmPSHzY",
        "colab": {
          "base_uri": "https://localhost:8080/"
        },
        "outputId": "bcaf607e-7b82-4ba3-9761-9e1e6426917a"
      },
      "execution_count": 2,
      "outputs": [
        {
          "output_type": "stream",
          "name": "stdout",
          "text": [
            "Requirement already satisfied: plotly in /usr/local/lib/python3.10/dist-packages (5.15.0)\n",
            "Collecting plotly\n",
            "  Downloading plotly-5.21.0-py3-none-any.whl (15.7 MB)\n",
            "\u001b[2K     \u001b[90m━━━━━━━━━━━━━━━━━━━━━━━━━━━━━━━━━━━━━━━━\u001b[0m \u001b[32m15.7/15.7 MB\u001b[0m \u001b[31m52.8 MB/s\u001b[0m eta \u001b[36m0:00:00\u001b[0m\n",
            "\u001b[?25hRequirement already satisfied: tenacity>=6.2.0 in /usr/local/lib/python3.10/dist-packages (from plotly) (8.2.3)\n",
            "Requirement already satisfied: packaging in /usr/local/lib/python3.10/dist-packages (from plotly) (24.0)\n",
            "Installing collected packages: plotly\n",
            "  Attempting uninstall: plotly\n",
            "    Found existing installation: plotly 5.15.0\n",
            "    Uninstalling plotly-5.15.0:\n",
            "      Successfully uninstalled plotly-5.15.0\n",
            "Successfully installed plotly-5.21.0\n",
            "Requirement already satisfied: missingno in /usr/local/lib/python3.10/dist-packages (0.5.2)\n",
            "Requirement already satisfied: numpy in /usr/local/lib/python3.10/dist-packages (from missingno) (1.25.2)\n",
            "Requirement already satisfied: matplotlib in /usr/local/lib/python3.10/dist-packages (from missingno) (3.7.1)\n",
            "Requirement already satisfied: scipy in /usr/local/lib/python3.10/dist-packages (from missingno) (1.11.4)\n",
            "Requirement already satisfied: seaborn in /usr/local/lib/python3.10/dist-packages (from missingno) (0.13.1)\n",
            "Requirement already satisfied: contourpy>=1.0.1 in /usr/local/lib/python3.10/dist-packages (from matplotlib->missingno) (1.2.1)\n",
            "Requirement already satisfied: cycler>=0.10 in /usr/local/lib/python3.10/dist-packages (from matplotlib->missingno) (0.12.1)\n",
            "Requirement already satisfied: fonttools>=4.22.0 in /usr/local/lib/python3.10/dist-packages (from matplotlib->missingno) (4.51.0)\n",
            "Requirement already satisfied: kiwisolver>=1.0.1 in /usr/local/lib/python3.10/dist-packages (from matplotlib->missingno) (1.4.5)\n",
            "Requirement already satisfied: packaging>=20.0 in /usr/local/lib/python3.10/dist-packages (from matplotlib->missingno) (24.0)\n",
            "Requirement already satisfied: pillow>=6.2.0 in /usr/local/lib/python3.10/dist-packages (from matplotlib->missingno) (9.4.0)\n",
            "Requirement already satisfied: pyparsing>=2.3.1 in /usr/local/lib/python3.10/dist-packages (from matplotlib->missingno) (3.1.2)\n",
            "Requirement already satisfied: python-dateutil>=2.7 in /usr/local/lib/python3.10/dist-packages (from matplotlib->missingno) (2.8.2)\n",
            "Requirement already satisfied: pandas>=1.2 in /usr/local/lib/python3.10/dist-packages (from seaborn->missingno) (2.0.3)\n",
            "Requirement already satisfied: pytz>=2020.1 in /usr/local/lib/python3.10/dist-packages (from pandas>=1.2->seaborn->missingno) (2023.4)\n",
            "Requirement already satisfied: tzdata>=2022.1 in /usr/local/lib/python3.10/dist-packages (from pandas>=1.2->seaborn->missingno) (2024.1)\n",
            "Requirement already satisfied: six>=1.5 in /usr/local/lib/python3.10/dist-packages (from python-dateutil>=2.7->matplotlib->missingno) (1.16.0)\n"
          ]
        }
      ]
    },
    {
      "cell_type": "markdown",
      "source": [
        "Cargue los datos usando **pyspark**"
      ],
      "metadata": {
        "id": "9vJWSlEXYBqq"
      }
    },
    {
      "cell_type": "code",
      "source": [
        "sparksession = SparkSession.builder.master(\"local\").appName(\"Lab 4\").getOrCreate()"
      ],
      "metadata": {
        "id": "i9Uf-BTZXqXe"
      },
      "execution_count": 3,
      "outputs": []
    },
    {
      "cell_type": "code",
      "source": [
        "%%capture\n",
        "!wget https://gitlab.com/imezadelajara/datos_clase_7_mds7202/-/raw/main/datos_lab_spark.parquet"
      ],
      "metadata": {
        "id": "IEfpxLy4HmHQ"
      },
      "execution_count": 4,
      "outputs": []
    },
    {
      "cell_type": "code",
      "source": [
        "df = (\n",
        "    sparksession.read\n",
        "    .option(\"header\",'True')\n",
        "    .parquet(\"datos_lab_spark.parquet\")\n",
        "\n",
        ")"
      ],
      "metadata": {
        "id": "0umO4gteHufN"
      },
      "execution_count": 5,
      "outputs": []
    },
    {
      "cell_type": "markdown",
      "source": [
        "### 2. Limpieza con pyspark [8 puntos]\n",
        "(1 punto por pregunta)"
      ],
      "metadata": {
        "id": "z6l6GNynYnh4"
      }
    },
    {
      "cell_type": "markdown",
      "source": [
        "<center>\n",
        "<img src=\"https://miro.medium.com/v2/resize:fit:600/1*A6PpTrehGLxCJWNcUsDTNg.jpeg\" width=350 />\n",
        "\n"
      ],
      "metadata": {
        "id": "8DVdjYyOGRom"
      }
    },
    {
      "cell_type": "markdown",
      "source": [
        "Para comenzar con el análisis exploratorio usted decide empezar limpiando la base de datos con **pyspark** dado el alto volumen de datos que genera diariamente Bodoque E-Shop.\n",
        "\n",
        "**Nota: NO SE PERMITE EL USO DE PANDAS EN ESTA SECCIÓN**\n",
        "\n",
        "\n",
        "\n",
        "1.   Utilice `.printSchema()` para revisar la estructura de los datos\n",
        "2.   Muestre las primeras 10 filas del dataset. Hint: utilice `.show()`\n",
        "3.   Imprima un muestreo aleatorio con el 5% de los datos diponibles. . Hint: utilice `.sample()`\n",
        "4. Revise los tipos de datos de cada columna con `.dtypes()` y responda la siguiente pregunta: ¿Cuál/es columna/s tiene/n un tipo de dato que no es el adecuado y por qué?\n",
        "5. Complete el código entregado para cambiar el tipo de datos para la/s columna/s problemáticas.\n",
        "6. Cuente la cantidad de datos nulos por variable. Recuerde que Spark no posee un método que le permita calcular directamente los nulos.\n",
        "7. Elimine datos nulos.\n",
        "8. Elimine datos duplicados.\n"
      ],
      "metadata": {
        "id": "sPGV40BjZekP"
      }
    },
    {
      "cell_type": "code",
      "source": [
        "#1.Utilice .printSchema() para revisar la estructura de los datos\n",
        "df.printSchema()"
      ],
      "metadata": {
        "id": "nw95Jvr-DtwS",
        "colab": {
          "base_uri": "https://localhost:8080/"
        },
        "outputId": "cf0bf527-ef6d-43a6-c252-5062b5a19821"
      },
      "execution_count": 6,
      "outputs": [
        {
          "output_type": "stream",
          "name": "stdout",
          "text": [
            "root\n",
            " |-- Transaction ID: string (nullable = true)\n",
            " |-- Customer ID: string (nullable = true)\n",
            " |-- Transaction Amount: double (nullable = true)\n",
            " |-- Transaction Date: timestamp_ntz (nullable = true)\n",
            " |-- Payment Method: string (nullable = true)\n",
            " |-- Product Category: string (nullable = true)\n",
            " |-- Quantity: double (nullable = true)\n",
            " |-- Customer Age: double (nullable = true)\n",
            " |-- Customer Location: string (nullable = true)\n",
            " |-- Device Used: string (nullable = true)\n",
            " |-- IP Address: string (nullable = true)\n",
            " |-- Shipping Address: string (nullable = true)\n",
            " |-- Billing Address: string (nullable = true)\n",
            " |-- Is An Alien: double (nullable = true)\n",
            " |-- Account Age Days: double (nullable = true)\n",
            " |-- Transaction Hour: double (nullable = true)\n",
            "\n"
          ]
        }
      ]
    },
    {
      "cell_type": "code",
      "source": [
        "#Muestre las primeras 10 filas del dataset. Hint: utilice .show()\n",
        "df.show(10)"
      ],
      "metadata": {
        "colab": {
          "base_uri": "https://localhost:8080/"
        },
        "id": "OBUZejJsITPP",
        "outputId": "a354669e-7c49-453a-cae4-133749346caf"
      },
      "execution_count": 7,
      "outputs": [
        {
          "output_type": "stream",
          "name": "stdout",
          "text": [
            "+--------------------+--------------------+------------------+-------------------+--------------+----------------+--------+------------+-----------------+-----------+---------------+--------------------+--------------------+-----------+----------------+----------------+\n",
            "|      Transaction ID|         Customer ID|Transaction Amount|   Transaction Date|Payment Method|Product Category|Quantity|Customer Age|Customer Location|Device Used|     IP Address|    Shipping Address|     Billing Address|Is An Alien|Account Age Days|Transaction Hour|\n",
            "+--------------------+--------------------+------------------+-------------------+--------------+----------------+--------+------------+-----------------+-----------+---------------+--------------------+--------------------+-----------+----------------+----------------+\n",
            "|4b4a5fe1-ec4d-4f9...|d1b87f62-51b2-493...|             58.09|2022-03-24 00:00:00| bank transfer|     electronics|     1.0|        17.0|    Amandaborough|       NULL| 212.195.49.198|Unit 8934 Box 005...|Unit 8934 Box 005...|        0.0|            NULL|             5.0|\n",
            "|bacd9392-73ce-481...|37de64d5-e901-4a5...|            389.96|2023-01-17 00:00:00|    debit card|     electronics|     2.0|        40.0|     East Timothy|    desktop|208.106.249.121|634 May Keys\\nPor...|634 May Keys\\nPor...|        0.0|            72.0|             8.0|\n",
            "|d936a024-3a1d-40d...|1bac88d6-4b22-409...|            134.19|2023-06-01 00:00:00|        PayPal|   home & garden|     2.0|        22.0|       Davismouth|     tablet|   76.63.88.212|                NULL|16282 Dana Falls ...|        0.0|            63.0|            NULL|\n",
            "|a30aaab5-4042-4b8...|2357c76e-9253-4ce...|            226.17|2019-07-02 00:00:00| bank transfer|        clothing|     5.0|        31.0|         Lynnberg|    desktop| 207.208.171.73|828 Strong Loaf A...|828 Strong Loaf A...|        0.0|           124.0|            20.0|\n",
            "|b0634f43-d07d-4ca...|45071bc5-9588-43e...|            121.53|2020-10-26 00:00:00| bank transfer|        clothing|     2.0|        51.0|             NULL|       NULL| 190.172.14.169|29799 Jason Hills...|29799 Jason Hills...|        0.0|           158.0|            NULL|\n",
            "|8c4711b8-7477-421...|29616b04-2d5c-472...|            166.41|2019-06-10 00:00:00| bank transfer|    toys & games|    NULL|        34.0|     Herreramouth|     tablet|           NULL|5699 Brittany Vil...|120 Kristi Dale\\n...|       NULL|            38.0|            10.0|\n",
            "|fd0342fe-6b16-4a3...|fe21ae29-ba4c-424...|             92.88|2020-10-09 00:00:00|        PayPal|    toys & games|     2.0|        14.0|        Ramosfort|     tablet|   13.45.27.192|                NULL|727 Gibson Island...|        0.0|           119.0|            19.0|\n",
            "|2d7299de-355b-479...|024257c3-5671-4de...|            318.14|2021-10-09 00:00:00|   credit card| health & beauty|     4.0|        42.0|             NULL|    desktop|131.141.230.185|3914 Davis Union\\...|                NULL|        0.0|           251.0|            NULL|\n",
            "|de51c9df-ab52-43a...|                NULL|              NULL|2019-03-22 00:00:00| bank transfer|   home & garden|    NULL|        38.0|       Carneyfurt|       NULL|           NULL|47893 Maldonado S...|                NULL|        0.0|           190.0|            19.0|\n",
            "|                NULL|aab93e75-582f-445...|            121.78|2022-02-28 00:00:00| bank transfer| health & beauty|     4.0|        39.0|       Brockburgh|     mobile| 174.32.252.238|2334 Briana Cente...|2334 Briana Cente...|        0.0|           343.0|            NULL|\n",
            "+--------------------+--------------------+------------------+-------------------+--------------+----------------+--------+------------+-----------------+-----------+---------------+--------------------+--------------------+-----------+----------------+----------------+\n",
            "only showing top 10 rows\n",
            "\n"
          ]
        }
      ]
    },
    {
      "cell_type": "code",
      "source": [
        "##Imprima un muestreo aleatorio con el 5% de los datos diponibles. . Hint: utilice .sample()\n",
        "\n",
        "df.sample(fraction=0.05, seed=420).show()"
      ],
      "metadata": {
        "colab": {
          "base_uri": "https://localhost:8080/"
        },
        "id": "VV7-0mQHJ_qq",
        "outputId": "04c2f4b0-18c0-4f88-d6c5-138a31ddadc3"
      },
      "execution_count": 8,
      "outputs": [
        {
          "output_type": "stream",
          "name": "stdout",
          "text": [
            "+--------------------+--------------------+------------------+-------------------+--------------+----------------+--------+------------+-----------------+-----------+---------------+--------------------+--------------------+-----------+----------------+----------------+\n",
            "|      Transaction ID|         Customer ID|Transaction Amount|   Transaction Date|Payment Method|Product Category|Quantity|Customer Age|Customer Location|Device Used|     IP Address|    Shipping Address|     Billing Address|Is An Alien|Account Age Days|Transaction Hour|\n",
            "+--------------------+--------------------+------------------+-------------------+--------------+----------------+--------+------------+-----------------+-----------+---------------+--------------------+--------------------+-----------+----------------+----------------+\n",
            "|                NULL|                NULL|             16.05|2022-11-04 00:00:00|   credit card|   home & garden|     3.0|        22.0|       West Kevin|     mobile|           NULL|1832 Greer Trail\\...|1832 Greer Trail\\...|        0.0|           213.0|             1.0|\n",
            "|                NULL|c8a9efe6-716f-411...|             244.2|2020-01-05 00:00:00|          NULL|        clothing|     4.0|        46.0|             NULL|       NULL| 176.246.24.132|                NULL|                NULL|        0.0|           190.0|             0.0|\n",
            "|fa75875e-8dc3-4ff...|e75e17f3-65bd-40d...|            106.72|               NULL|   credit card| health & beauty|     3.0|        NULL| South Kathyville|     mobile|223.133.208.242|8275 Dixon Key Ap...|8275 Dixon Key Ap...|        0.0|            NULL|             4.0|\n",
            "|                NULL|                NULL|             11.84|2023-09-30 00:00:00|        PayPal|   home & garden|     5.0|        39.0|             NULL|    desktop|    116.33.62.5|USNS Pena\\nFPO AP...|USNS Pena\\nFPO AP...|        0.0|            NULL|            15.0|\n",
            "|                NULL|ddea8ffb-ca8f-434...|            174.78|2023-07-21 00:00:00| bank transfer|   home & garden|     3.0|        NULL| North Brendaside|     mobile|  172.75.17.226|USS Edwards\\nFPO ...|USS Edwards\\nFPO ...|        0.0|           268.0|             8.0|\n",
            "|                NULL|                NULL|             77.83|2021-04-20 00:00:00|        PayPal|    toys & games|    NULL|        63.0|       Manuelland|    desktop|  53.52.247.199|309 James Cliff\\n...|                NULL|       NULL|           315.0|            22.0|\n",
            "|acb9ec46-0d33-488...|d961c2d6-f968-445...|            136.27|2023-02-05 00:00:00|          NULL|     electronics|     2.0|        41.0|      Morganhaven|     mobile|           NULL|0131 Watson Meado...|0131 Watson Meado...|        0.0|            10.0|            12.0|\n",
            "|dcf430a2-5a87-4f3...|77dbd0f5-7119-4d2...|            696.33|2021-10-25 00:00:00|        PayPal|            NULL|     1.0|        43.0|             NULL|     tablet|  85.126.242.76|                NULL|                NULL|        0.0|           290.0|            10.0|\n",
            "|ce76004f-fafc-4dc...|388697ca-a3cd-410...|            715.28|2018-11-01 00:00:00|          NULL|   home & garden|     2.0|        35.0|             NULL|    desktop|  87.98.167.231|                NULL|                NULL|        0.0|           179.0|            21.0|\n",
            "|c93314fd-0fba-4b3...|416cb4a5-1cff-436...|            196.72|2022-12-27 00:00:00| bank transfer|        clothing|     1.0|        34.0|        Pateltown|    desktop|  169.125.85.91|44130 Paul Unions...|                NULL|       NULL|           286.0|             3.0|\n",
            "|30f43d62-c15a-4b5...|                NULL|            154.21|2021-10-13 00:00:00|    debit card| health & beauty|     1.0|        NULL|  Crawfordchester|     mobile|           NULL|812 Allen Points\\...|812 Allen Points\\...|       NULL|           231.0|            NULL|\n",
            "|9a3fcb3e-8b2c-490...|67365d03-d424-4a8...|            487.43|2019-11-10 00:00:00|        PayPal|    toys & games|     5.0|        42.0|     East Johnton|     mobile|  57.56.100.139|73665 Sara Square...|0830 Jacob Cliffs...|        0.0|           186.0|            14.0|\n",
            "|2cc351a7-140e-42b...|7c09ad6a-8219-402...|            187.87|2021-07-21 00:00:00|          NULL| health & beauty|    NULL|        34.0|       East Maria|     tablet|  203.31.42.164|                NULL|                NULL|        0.0|           152.0|             6.0|\n",
            "|3b7fb0ca-309d-475...|2175b1e6-a472-4f4...|              NULL|2024-10-04 00:00:00| bank transfer|            NULL|     4.0|        30.0|       Weavertown|    desktop|           NULL|716 Blankenship T...|716 Blankenship T...|        0.0|           288.0|             3.0|\n",
            "|23cddc18-538a-426...|d2258aa0-0b42-4fd...|            200.77|2018-08-22 00:00:00|    debit card| health & beauty|     4.0|        14.0|         Johntown|    desktop| 102.89.195.168|330 Jamie Lock Ap...|                NULL|       NULL|           250.0|            21.0|\n",
            "|                NULL|                NULL|            352.26|2018-07-13 00:00:00|    debit card|        clothing|     4.0|        35.0|       Dixonshire|       NULL|   18.60.92.198|41858 Solomon Rap...|41858 Solomon Rap...|        0.0|           323.0|            19.0|\n",
            "|2aa6f76c-17f7-452...|50dc26dd-814b-497...|            106.72|               NULL|   credit card|     electronics|     1.0|        NULL|     West Crystal|    desktop| 215.216.237.86|10102 White Ferry...|10102 White Ferry...|        0.0|           246.0|            13.0|\n",
            "|fde3e7ee-5e37-497...|3d0031d4-86aa-4a8...|              NULL|2024-04-25 00:00:00| bank transfer|            NULL|     4.0|        NULL|    Robinsonville|     tablet|  73.45.103.244|026 Dixon Parkway...|026 Dixon Parkway...|        0.0|            36.0|            NULL|\n",
            "|                NULL|5244e761-0cbc-45e...|            283.69|2018-09-09 00:00:00| bank transfer|   home & garden|     1.0|        21.0|             NULL|     tablet|    45.97.38.68|983 Emily Glen\\nP...|983 Emily Glen\\nP...|        0.0|           119.0|            15.0|\n",
            "|92604235-3e6a-448...|29ec275e-5436-4c6...|            418.15|2020-03-15 00:00:00|          NULL|        clothing|     4.0|        NULL|  Lake Pamelafort|    desktop| 213.171.138.71|71114 Espinoza Lo...|71114 Espinoza Lo...|        0.0|           354.0|            16.0|\n",
            "+--------------------+--------------------+------------------+-------------------+--------------+----------------+--------+------------+-----------------+-----------+---------------+--------------------+--------------------+-----------+----------------+----------------+\n",
            "only showing top 20 rows\n",
            "\n"
          ]
        }
      ]
    },
    {
      "cell_type": "code",
      "source": [
        "##Revise los tipos de datos de cada columna con .dtypes() y responda la siguiente pregunta: ¿Cuál/es columna/s tiene/n un tipo de dato que no es el adecuado y por qué?\n",
        "\n",
        "df.dtypes"
      ],
      "metadata": {
        "colab": {
          "base_uri": "https://localhost:8080/"
        },
        "id": "vijwPCGOKRvR",
        "outputId": "90b06b27-ef40-43b5-f19e-eaa1e0f84758"
      },
      "execution_count": 9,
      "outputs": [
        {
          "output_type": "execute_result",
          "data": {
            "text/plain": [
              "[('Transaction ID', 'string'),\n",
              " ('Customer ID', 'string'),\n",
              " ('Transaction Amount', 'double'),\n",
              " ('Transaction Date', 'timestamp_ntz'),\n",
              " ('Payment Method', 'string'),\n",
              " ('Product Category', 'string'),\n",
              " ('Quantity', 'double'),\n",
              " ('Customer Age', 'double'),\n",
              " ('Customer Location', 'string'),\n",
              " ('Device Used', 'string'),\n",
              " ('IP Address', 'string'),\n",
              " ('Shipping Address', 'string'),\n",
              " ('Billing Address', 'string'),\n",
              " ('Is An Alien', 'double'),\n",
              " ('Account Age Days', 'double'),\n",
              " ('Transaction Hour', 'double')]"
            ]
          },
          "metadata": {},
          "execution_count": 9
        }
      ]
    },
    {
      "cell_type": "markdown",
      "source": [
        "Tipo no adecuado:"
      ],
      "metadata": {
        "id": "mTJUSi405n1S"
      }
    },
    {
      "cell_type": "markdown",
      "source": [
        "*  'Is An Alien' es una variable binaria que indica si el cliente es un alien o no, por lo que más adecuado sería utilizar un tipo de dato booleano (True o False) o float (0 o 1).\n",
        "\n",
        "*  En 'Quantity', se trata de una cantidad discreta (número de productos), por lo que el tipo de dato integer sería más apropiado que double.\n",
        "\n",
        "*  La edad en 'Customer Age' se representa siempre como un número entero, por lo que el tipo de dato integer sería más adecuado que double.\n",
        "\n",
        "*  En 'Account Age Days' se ve la antigüedad de la cuenta en días en enteros, por lo que el tipo de dato integer sería más adecuado que double nuevamente.\n",
        "\n",
        "*  Finalemente, ocurre lo mismo con 'Transaction Hour', pues las horas se ven que son sólo números enteros.\n",
        "\n"
      ],
      "metadata": {
        "id": "ozay6UxBLm7X"
      }
    },
    {
      "cell_type": "code",
      "source": [
        "#Complete el código entregado para cambiar el tipo de datos para la/s columna/s problemáticas.\n",
        "from pyspark.sql.types import StringType, IntegerType, FloatType\n",
        "\n",
        "\n",
        "def cast_columns(df, cols_types):\n",
        "    \"\"\"\n",
        "    Cambia el tipo de múltiples columnas en un DataFrame de Spark.\n",
        "\n",
        "    Parámetros:\n",
        "    - df: DataFrame de Spark.\n",
        "    - cols_types: Diccionario con nombres de columnas como claves y tipos de datos de Spark como valores.\n",
        "\n",
        "    Retorna:\n",
        "    - DataFrame de Spark con tipos de columnas modificados.\n",
        "    \"\"\"\n",
        "    for col_name, new_type in cols_types.items():\n",
        "        df = df.withColumn(col_name, df[col_name].cast(new_type))\n",
        "    return df\n",
        "\n",
        "\n",
        "cols_to_cast = {\"Quantity\": IntegerType(), \"Customer Age\": IntegerType(), \"Account Age Days\": IntegerType(), \"Transaction Hour\": IntegerType(), \"Is An Alien\": FloatType()}\n",
        "df_con_casteo = cast_columns(df, cols_to_cast)\n",
        "df_con_casteo.printSchema()"
      ],
      "metadata": {
        "colab": {
          "base_uri": "https://localhost:8080/"
        },
        "id": "foJXUpa-N-ZO",
        "outputId": "4a2e8fcb-dfbc-4be1-b9d8-96c30f159896"
      },
      "execution_count": 10,
      "outputs": [
        {
          "output_type": "stream",
          "name": "stdout",
          "text": [
            "root\n",
            " |-- Transaction ID: string (nullable = true)\n",
            " |-- Customer ID: string (nullable = true)\n",
            " |-- Transaction Amount: double (nullable = true)\n",
            " |-- Transaction Date: timestamp_ntz (nullable = true)\n",
            " |-- Payment Method: string (nullable = true)\n",
            " |-- Product Category: string (nullable = true)\n",
            " |-- Quantity: integer (nullable = true)\n",
            " |-- Customer Age: integer (nullable = true)\n",
            " |-- Customer Location: string (nullable = true)\n",
            " |-- Device Used: string (nullable = true)\n",
            " |-- IP Address: string (nullable = true)\n",
            " |-- Shipping Address: string (nullable = true)\n",
            " |-- Billing Address: string (nullable = true)\n",
            " |-- Is An Alien: float (nullable = true)\n",
            " |-- Account Age Days: integer (nullable = true)\n",
            " |-- Transaction Hour: integer (nullable = true)\n",
            "\n"
          ]
        }
      ]
    },
    {
      "cell_type": "markdown",
      "source": [
        "También es necesario cambiar los null de Is Fraudulent por 1's y cambiar su nombre a Is An Alien:"
      ],
      "metadata": {
        "id": "D-Ba1AE1oH1u"
      }
    },
    {
      "cell_type": "code",
      "source": [
        "\n",
        "df = df.na.fill({'Is An Alien': 1.0})"
      ],
      "metadata": {
        "id": "wj5QDeDHoTO8"
      },
      "execution_count": 11,
      "outputs": []
    },
    {
      "cell_type": "code",
      "source": [
        "#Cuente la cantidad de datos nulos por variable. Recuerde que Spark no posee un método que le permita calcular directamente los nulos.\n",
        "from pyspark.sql.functions import when, rand, col, sum\n",
        "\n",
        "exprs = [sum(when(col(c).isNull(), 1).otherwise(0)).alias(c) for c in df.columns]\n",
        "\n",
        "df.agg(*exprs).show()"
      ],
      "metadata": {
        "colab": {
          "base_uri": "https://localhost:8080/"
        },
        "id": "xWtYSMP7QSJ-",
        "outputId": "7e0e7e0a-1d9a-4185-fa74-674d86d92427"
      },
      "execution_count": 12,
      "outputs": [
        {
          "output_type": "stream",
          "name": "stdout",
          "text": [
            "+--------------+-----------+------------------+----------------+--------------+----------------+--------+------------+-----------------+-----------+----------+----------------+---------------+-----------+----------------+----------------+\n",
            "|Transaction ID|Customer ID|Transaction Amount|Transaction Date|Payment Method|Product Category|Quantity|Customer Age|Customer Location|Device Used|IP Address|Shipping Address|Billing Address|Is An Alien|Account Age Days|Transaction Hour|\n",
            "+--------------+-----------+------------------+----------------+--------------+----------------+--------+------------+-----------------+-----------+----------+----------------+---------------+-----------+----------------+----------------+\n",
            "|        126886|     126847|            126840|          126831|        126877|          126814|  126966|      126826|           126781|     126911|    126929|          126734|         126804|          0|          126886|          126953|\n",
            "+--------------+-----------+------------------+----------------+--------------+----------------+--------+------------+-----------------+-----------+----------+----------------+---------------+-----------+----------------+----------------+\n",
            "\n"
          ]
        }
      ]
    },
    {
      "cell_type": "code",
      "source": [
        "df.count()"
      ],
      "metadata": {
        "colab": {
          "base_uri": "https://localhost:8080/"
        },
        "id": "2X1bptxPR64L",
        "outputId": "e23c0e8a-7cab-46a7-cf8b-0b769f9c3409"
      },
      "execution_count": 13,
      "outputs": [
        {
          "output_type": "execute_result",
          "data": {
            "text/plain": [
              "600000"
            ]
          },
          "metadata": {},
          "execution_count": 13
        }
      ]
    },
    {
      "cell_type": "code",
      "source": [
        "#Elimine datos nulos.\n",
        "df = df.na.drop(how=\"any\")"
      ],
      "metadata": {
        "id": "J6HQx63eRDsZ"
      },
      "execution_count": 14,
      "outputs": []
    },
    {
      "cell_type": "code",
      "source": [
        "df.count()"
      ],
      "metadata": {
        "colab": {
          "base_uri": "https://localhost:8080/"
        },
        "id": "kFDR_R3jSFiH",
        "outputId": "0579d426-a85c-4636-9057-e0592899a59a"
      },
      "execution_count": 15,
      "outputs": [
        {
          "output_type": "execute_result",
          "data": {
            "text/plain": [
              "17033"
            ]
          },
          "metadata": {},
          "execution_count": 15
        }
      ]
    },
    {
      "cell_type": "code",
      "source": [
        "#Elimine datos duplicados.\n",
        "df = df.dropDuplicates()"
      ],
      "metadata": {
        "id": "F2ZN7hP8SZyB"
      },
      "execution_count": 16,
      "outputs": []
    },
    {
      "cell_type": "code",
      "source": [
        "df.count()"
      ],
      "metadata": {
        "colab": {
          "base_uri": "https://localhost:8080/"
        },
        "id": "UJNmkoZCS7M9",
        "outputId": "b66564ea-4b04-4177-9213-df978e486660"
      },
      "execution_count": 17,
      "outputs": [
        {
          "output_type": "execute_result",
          "data": {
            "text/plain": [
              "17033"
            ]
          },
          "metadata": {},
          "execution_count": 17
        }
      ]
    },
    {
      "cell_type": "code",
      "source": [
        "# Eliminar filas con el mismo Transaction ID\n",
        "df = df.dropDuplicates(['Transaction ID'])"
      ],
      "metadata": {
        "id": "NcEpsZ0cTAVh"
      },
      "execution_count": 18,
      "outputs": []
    },
    {
      "cell_type": "code",
      "source": [
        "df.count()"
      ],
      "metadata": {
        "colab": {
          "base_uri": "https://localhost:8080/"
        },
        "id": "0SwVEPP4TMB8",
        "outputId": "db485bf3-dee2-42f5-8585-30efd4e86994"
      },
      "execution_count": 19,
      "outputs": [
        {
          "output_type": "execute_result",
          "data": {
            "text/plain": [
              "16798"
            ]
          },
          "metadata": {},
          "execution_count": 19
        }
      ]
    },
    {
      "cell_type": "markdown",
      "source": [
        "### 3. Transformaciones con pyspark [6 puntos]\n",
        "(1 punto por pregunta)"
      ],
      "metadata": {
        "id": "MjxI2Xd6cRu1"
      }
    },
    {
      "cell_type": "markdown",
      "source": [
        "<center>\n",
        "<img src=\"https://live.staticflickr.com/13/91801406_0e71d7f019_b.jpg\" width=350 />\n",
        "\n"
      ],
      "metadata": {
        "id": "bPfhWPZeHXUH"
      }
    },
    {
      "cell_type": "markdown",
      "source": [
        "**Nota: NO SE PERMITE EL USO DE PANDAS EN ESTA SECCIÓN**\n",
        "\n",
        "Para continuar con el análisis, los especistas de Bodoque les gustaría tener nuevas variables disponibles. Tras las notas de la reunión usted llega a la conclusión de que tiene que realizar las siguientes tareas (con el dataset preprocesado de la seccion anterior):\n",
        "\n",
        "\n",
        "1.   Agregar una columna llamada \"Transaction bp\" con el **monto total** de la transacción en bodoque pesos. Se considera que $x$ dólares equivalen a $log(48+|x^{36}|)$ bodoque pesos.\n",
        "2.   Crear una columna llamada \"Transaction Month\" con el mes en que se realiza una transacción.\n",
        "3.   Crear la variable *Type of purchase* según la catidad de unidades vendidas de acuerdo a las siguientes categorías.\n",
        "  * Compra minorista: 5 productos o menos.\n",
        "  * Compra mayorista: 6 produtos o más.\n",
        "4. Imprima los registros de compras hechas por alienígenas en el comecio mayorista.  Utilice `.filter()`.\n",
        "5. Cuente la cantidad de compras realizadas por humanos y la cantidad de compras realizadas por alienígenas. Utilice `.groupby()`.\n",
        "6. Muestre una tabla con la recaudación promedio por transacción para cada método de pago, tanto para humanos como alienígenas. Utilice `pivot()`."
      ],
      "metadata": {
        "id": "lbIDKn44cWhI"
      }
    },
    {
      "cell_type": "code",
      "source": [
        "#Agregar una columna llamada \"Transaction bp\" con el monto total de la transacción en bodoque pesos.\n",
        "from pyspark.sql.functions import col, log, abs\n",
        "\n",
        "df=df.withColumn('Transaction bp', log(48 + abs(df['Transaction Amount']**36)))"
      ],
      "metadata": {
        "id": "cbtFJi3mHnkK"
      },
      "execution_count": 20,
      "outputs": []
    },
    {
      "cell_type": "code",
      "source": [
        "df.show()"
      ],
      "metadata": {
        "colab": {
          "base_uri": "https://localhost:8080/"
        },
        "id": "7orllQffjNWc",
        "outputId": "3a705f1e-8a32-4a19-f7e7-ec2a26aa1c38"
      },
      "execution_count": 21,
      "outputs": [
        {
          "output_type": "stream",
          "name": "stdout",
          "text": [
            "+--------------------+--------------------+------------------+-------------------+--------------+----------------+--------+------------+-----------------+-----------+---------------+--------------------+--------------------+-----------+----------------+----------------+------------------+\n",
            "|      Transaction ID|         Customer ID|Transaction Amount|   Transaction Date|Payment Method|Product Category|Quantity|Customer Age|Customer Location|Device Used|     IP Address|    Shipping Address|     Billing Address|Is An Alien|Account Age Days|Transaction Hour|    Transaction bp|\n",
            "+--------------------+--------------------+------------------+-------------------+--------------+----------------+--------+------------+-----------------+-----------+---------------+--------------------+--------------------+-----------+----------------+----------------+------------------+\n",
            "|0002948c-f473-4fd...|7ae77fa3-3e4c-479...|            131.79|2021-09-22 00:00:00|        PayPal|    toys & games|     2.0|        39.0|        Brownside|     tablet|  158.98.92.242|0379 Kerr Valley ...|0379 Kerr Valley ...|        0.0|            56.0|            10.0|175.72355087960872|\n",
            "|000ebb9d-d512-40f...|9d6ab2e2-aefe-4ed...|            243.12|2023-03-21 00:00:00|    debit card|     electronics|     3.0|        37.0|      East Carlos|     tablet|    73.82.89.46|1752 Reynolds Sum...|1752 Reynolds Sum...|        0.0|           312.0|            10.0|197.76798534990735|\n",
            "|001146c5-e77f-4aa...|06d0f47e-080f-455...|            198.24|2019-10-29 00:00:00| bank transfer|    toys & games|     3.0|        39.0|        Smithberg|    desktop|140.249.125.214|USCGC Cox\\nFPO AA...|USCGC Cox\\nFPO AA...|        0.0|           342.0|             3.0|190.42122304370997|\n",
            "|0016afb1-8df3-4a2...|6f2ccf02-8dcd-4b6...|            159.56|2023-09-04 00:00:00|        PayPal|        clothing|     5.0|        36.0|      East Andrew|    desktop|  104.134.8.145|62553 Ross Ways\\n...|235 Nguyen Coves ...|        1.0|           292.0|            14.0|182.60712097333942|\n",
            "|00180344-94f2-4d4...|f3a873d5-600f-446...|            344.53|2023-08-10 00:00:00|        PayPal|        clothing|     1.0|        29.0|       Taylorland|     mobile|138.123.240.246|Unit 3749 Box 670...|Unit 3749 Box 670...|        0.0|            51.0|            18.0|210.31852209806968|\n",
            "|001cac84-58c4-4c5...|89d66717-d794-4b7...|              44.5|2020-09-05 00:00:00|   credit card|        clothing|     3.0|        34.0|          Penaton|     mobile| 192.198.69.161|492 John Glens Ap...|492 John Glens Ap...|        0.0|            40.0|             6.0|  136.637610810199|\n",
            "|00200e27-5034-40a...|fc2967c4-72c6-4aa...|            295.89|2019-03-10 00:00:00|   credit card|        clothing|     5.0|        24.0|     Williamsport|    desktop|124.238.198.211|3832 Mikayla Esta...|3832 Mikayla Esta...|        0.0|           357.0|             7.0|204.83955949082443|\n",
            "|00248708-41b9-41f...|96a6f2b4-faa5-4b4...|             55.65|2022-11-02 00:00:00|        PayPal|    toys & games|     4.0|        39.0|        Brownstad|     mobile|    94.31.57.22|154 Dawn Park\\nNe...|154 Dawn Park\\nNe...|        0.0|           341.0|            12.0|144.68695479797594|\n",
            "|0026274a-1140-4e9...|5e7089b9-68f0-45c...|              33.3|2018-02-19 00:00:00|   credit card|   home & garden|     3.0|        20.0|     Foleychester|     tablet|  94.234.235.40|60342 Woodard Tun...|60342 Woodard Tun...|        0.0|             1.0|             5.0|126.20006629151032|\n",
            "|0028391b-cc7d-43c...|ada18c64-9456-4f6...|            388.46|2018-07-11 00:00:00|        PayPal|   home & garden|     4.0|        55.0|     East Abigail|     mobile|   52.32.36.202|4956 Brandon Comm...|4956 Brandon Comm...|        1.0|            27.0|            17.0|214.63884735854353|\n",
            "|0028a7b7-3f8e-48a...|5541bc7d-8b3b-468...|            361.76|2022-03-17 00:00:00|   credit card| health & beauty|     3.0|        29.0| Lake Madisonberg|     tablet| 29.208.125.110|615 Scott Lodge A...|615 Scott Lodge A...|        0.0|           215.0|            20.0|212.07531630706774|\n",
            "|002b3a2c-f358-486...|ceeefce6-e4bf-4d1...|             88.01|2023-11-02 00:00:00|    debit card| health & beauty|     5.0|        26.0|        Loganport|    desktop| 177.233.35.155|462 Reyes Lane\\nW...|462 Reyes Lane\\nW...|        0.0|           250.0|             5.0|161.18821599788595|\n",
            "|002b88fb-fa23-4f5...|4455de5b-b896-443...|            308.87|2019-08-02 00:00:00|    debit card|   home & garden|     5.0|        14.0|         Kyleland|     mobile|    105.1.43.44|828 Tina Junction...|828 Tina Junction...|        0.0|            55.0|            17.0|206.38513715038283|\n",
            "|002cfc02-1687-469...|37cadd9e-ddfa-4c3...|            119.79|2022-09-17 00:00:00|   credit card|        clothing|     2.0|        52.0|      Amandaville|     mobile| 31.171.108.111|USNS Foster\\nFPO ...|USNS Foster\\nFPO ...|        0.0|           249.0|             6.0|172.28664755075664|\n",
            "|002f4e88-6ab0-487...|aac9cb78-8afc-46e...|            121.22|2023-11-12 00:00:00|   credit card|     electronics|     1.0|        38.0|       Danielview|     tablet|  177.51.162.91|664 Torres Lodge ...|664 Torres Lodge ...|        1.0|           344.0|            10.0|  172.713854754833|\n",
            "|0032584b-9c1d-40e...|5b82105f-9d5c-469...|             20.93|2024-02-04 00:00:00|    debit card|     electronics|     2.0|        30.0|    North Brandon|    desktop|  171.196.10.80|1339 Porter Lock\\...|1339 Porter Lock\\...|        0.0|           339.0|             7.0| 109.4826073124847|\n",
            "|0033a798-3b49-45e...|39039a29-70c8-474...|             34.28|2019-12-21 00:00:00|   credit card|     electronics|     4.0|        30.0|    North Rebecca|     mobile|  89.104.243.10|390 Felicia Lodge...|390 Felicia Lodge...|        0.0|            11.0|            14.0|127.24423537426485|\n",
            "|00350536-0713-44d...|ed3b9188-a9e5-435...|            240.72|2024-04-27 00:00:00| bank transfer|     electronics|     5.0|        32.0|     North Norman|     tablet|   85.47.71.220|5930 Meghan Track...|5930 Meghan Track...|        1.0|            69.0|             2.0|197.41083956358443|\n",
            "|003630c8-5b50-435...|7b559dbf-5788-4b4...|             33.08|2018-06-02 00:00:00|   credit card|    toys & games|     5.0|        36.0|       Brookeport|     mobile|  11.178.153.56|USNS Johnson\\nFPO...|USNS Johnson\\nFPO...|        0.0|             3.0|            22.0|125.96143932559765|\n",
            "|003b90de-cfed-402...|c884add5-8a25-49e...|            222.15|2023-12-02 00:00:00|   credit card|     electronics|     1.0|        13.0|     Englishmouth|    desktop|  115.177.186.7|Unit 5862 Box 430...|Unit 5862 Box 430...|        0.0|            95.0|             8.0|194.52070185774903|\n",
            "+--------------------+--------------------+------------------+-------------------+--------------+----------------+--------+------------+-----------------+-----------+---------------+--------------------+--------------------+-----------+----------------+----------------+------------------+\n",
            "only showing top 20 rows\n",
            "\n"
          ]
        }
      ]
    },
    {
      "cell_type": "code",
      "source": [
        "#Crear una columna llamada \"Transaction Month\" con el mes en que se realiza una transacción.\n",
        "from pyspark.sql.functions import month\n",
        "\n",
        "df = df.withColumn(\"Transaction Month\", month(col(\"Transaction Date\")))"
      ],
      "metadata": {
        "id": "rF78xChYjwSp"
      },
      "execution_count": 22,
      "outputs": []
    },
    {
      "cell_type": "code",
      "source": [
        "df.show()"
      ],
      "metadata": {
        "colab": {
          "base_uri": "https://localhost:8080/"
        },
        "id": "mXod-86cj-oC",
        "outputId": "bccda421-92f8-4b43-c773-707637a91d85"
      },
      "execution_count": 23,
      "outputs": [
        {
          "output_type": "stream",
          "name": "stdout",
          "text": [
            "+--------------------+--------------------+------------------+-------------------+--------------+----------------+--------+------------+-----------------+-----------+---------------+--------------------+--------------------+-----------+----------------+----------------+------------------+-----------------+\n",
            "|      Transaction ID|         Customer ID|Transaction Amount|   Transaction Date|Payment Method|Product Category|Quantity|Customer Age|Customer Location|Device Used|     IP Address|    Shipping Address|     Billing Address|Is An Alien|Account Age Days|Transaction Hour|    Transaction bp|Transaction Month|\n",
            "+--------------------+--------------------+------------------+-------------------+--------------+----------------+--------+------------+-----------------+-----------+---------------+--------------------+--------------------+-----------+----------------+----------------+------------------+-----------------+\n",
            "|0002948c-f473-4fd...|7ae77fa3-3e4c-479...|            131.79|2021-09-22 00:00:00|        PayPal|    toys & games|     2.0|        39.0|        Brownside|     tablet|  158.98.92.242|0379 Kerr Valley ...|0379 Kerr Valley ...|        0.0|            56.0|            10.0|175.72355087960872|                9|\n",
            "|000ebb9d-d512-40f...|9d6ab2e2-aefe-4ed...|            243.12|2023-03-21 00:00:00|    debit card|     electronics|     3.0|        37.0|      East Carlos|     tablet|    73.82.89.46|1752 Reynolds Sum...|1752 Reynolds Sum...|        0.0|           312.0|            10.0|197.76798534990735|                3|\n",
            "|001146c5-e77f-4aa...|06d0f47e-080f-455...|            198.24|2019-10-29 00:00:00| bank transfer|    toys & games|     3.0|        39.0|        Smithberg|    desktop|140.249.125.214|USCGC Cox\\nFPO AA...|USCGC Cox\\nFPO AA...|        0.0|           342.0|             3.0|190.42122304370997|               10|\n",
            "|0016afb1-8df3-4a2...|6f2ccf02-8dcd-4b6...|            159.56|2023-09-04 00:00:00|        PayPal|        clothing|     5.0|        36.0|      East Andrew|    desktop|  104.134.8.145|62553 Ross Ways\\n...|235 Nguyen Coves ...|        1.0|           292.0|            14.0|182.60712097333942|                9|\n",
            "|00180344-94f2-4d4...|f3a873d5-600f-446...|            344.53|2023-08-10 00:00:00|        PayPal|        clothing|     1.0|        29.0|       Taylorland|     mobile|138.123.240.246|Unit 3749 Box 670...|Unit 3749 Box 670...|        0.0|            51.0|            18.0|210.31852209806968|                8|\n",
            "|001cac84-58c4-4c5...|89d66717-d794-4b7...|              44.5|2020-09-05 00:00:00|   credit card|        clothing|     3.0|        34.0|          Penaton|     mobile| 192.198.69.161|492 John Glens Ap...|492 John Glens Ap...|        0.0|            40.0|             6.0|  136.637610810199|                9|\n",
            "|00200e27-5034-40a...|fc2967c4-72c6-4aa...|            295.89|2019-03-10 00:00:00|   credit card|        clothing|     5.0|        24.0|     Williamsport|    desktop|124.238.198.211|3832 Mikayla Esta...|3832 Mikayla Esta...|        0.0|           357.0|             7.0|204.83955949082443|                3|\n",
            "|00248708-41b9-41f...|96a6f2b4-faa5-4b4...|             55.65|2022-11-02 00:00:00|        PayPal|    toys & games|     4.0|        39.0|        Brownstad|     mobile|    94.31.57.22|154 Dawn Park\\nNe...|154 Dawn Park\\nNe...|        0.0|           341.0|            12.0|144.68695479797594|               11|\n",
            "|0026274a-1140-4e9...|5e7089b9-68f0-45c...|              33.3|2018-02-19 00:00:00|   credit card|   home & garden|     3.0|        20.0|     Foleychester|     tablet|  94.234.235.40|60342 Woodard Tun...|60342 Woodard Tun...|        0.0|             1.0|             5.0|126.20006629151032|                2|\n",
            "|0028391b-cc7d-43c...|ada18c64-9456-4f6...|            388.46|2018-07-11 00:00:00|        PayPal|   home & garden|     4.0|        55.0|     East Abigail|     mobile|   52.32.36.202|4956 Brandon Comm...|4956 Brandon Comm...|        1.0|            27.0|            17.0|214.63884735854353|                7|\n",
            "|0028a7b7-3f8e-48a...|5541bc7d-8b3b-468...|            361.76|2022-03-17 00:00:00|   credit card| health & beauty|     3.0|        29.0| Lake Madisonberg|     tablet| 29.208.125.110|615 Scott Lodge A...|615 Scott Lodge A...|        0.0|           215.0|            20.0|212.07531630706774|                3|\n",
            "|002b3a2c-f358-486...|ceeefce6-e4bf-4d1...|             88.01|2023-11-02 00:00:00|    debit card| health & beauty|     5.0|        26.0|        Loganport|    desktop| 177.233.35.155|462 Reyes Lane\\nW...|462 Reyes Lane\\nW...|        0.0|           250.0|             5.0|161.18821599788595|               11|\n",
            "|002b88fb-fa23-4f5...|4455de5b-b896-443...|            308.87|2019-08-02 00:00:00|    debit card|   home & garden|     5.0|        14.0|         Kyleland|     mobile|    105.1.43.44|828 Tina Junction...|828 Tina Junction...|        0.0|            55.0|            17.0|206.38513715038283|                8|\n",
            "|002cfc02-1687-469...|37cadd9e-ddfa-4c3...|            119.79|2022-09-17 00:00:00|   credit card|        clothing|     2.0|        52.0|      Amandaville|     mobile| 31.171.108.111|USNS Foster\\nFPO ...|USNS Foster\\nFPO ...|        0.0|           249.0|             6.0|172.28664755075664|                9|\n",
            "|002f4e88-6ab0-487...|aac9cb78-8afc-46e...|            121.22|2023-11-12 00:00:00|   credit card|     electronics|     1.0|        38.0|       Danielview|     tablet|  177.51.162.91|664 Torres Lodge ...|664 Torres Lodge ...|        1.0|           344.0|            10.0|  172.713854754833|               11|\n",
            "|0032584b-9c1d-40e...|5b82105f-9d5c-469...|             20.93|2024-02-04 00:00:00|    debit card|     electronics|     2.0|        30.0|    North Brandon|    desktop|  171.196.10.80|1339 Porter Lock\\...|1339 Porter Lock\\...|        0.0|           339.0|             7.0| 109.4826073124847|                2|\n",
            "|0033a798-3b49-45e...|39039a29-70c8-474...|             34.28|2019-12-21 00:00:00|   credit card|     electronics|     4.0|        30.0|    North Rebecca|     mobile|  89.104.243.10|390 Felicia Lodge...|390 Felicia Lodge...|        0.0|            11.0|            14.0|127.24423537426485|               12|\n",
            "|00350536-0713-44d...|ed3b9188-a9e5-435...|            240.72|2024-04-27 00:00:00| bank transfer|     electronics|     5.0|        32.0|     North Norman|     tablet|   85.47.71.220|5930 Meghan Track...|5930 Meghan Track...|        1.0|            69.0|             2.0|197.41083956358443|                4|\n",
            "|003630c8-5b50-435...|7b559dbf-5788-4b4...|             33.08|2018-06-02 00:00:00|   credit card|    toys & games|     5.0|        36.0|       Brookeport|     mobile|  11.178.153.56|USNS Johnson\\nFPO...|USNS Johnson\\nFPO...|        0.0|             3.0|            22.0|125.96143932559765|                6|\n",
            "|003b90de-cfed-402...|c884add5-8a25-49e...|            222.15|2023-12-02 00:00:00|   credit card|     electronics|     1.0|        13.0|     Englishmouth|    desktop|  115.177.186.7|Unit 5862 Box 430...|Unit 5862 Box 430...|        0.0|            95.0|             8.0|194.52070185774903|               12|\n",
            "+--------------------+--------------------+------------------+-------------------+--------------+----------------+--------+------------+-----------------+-----------+---------------+--------------------+--------------------+-----------+----------------+----------------+------------------+-----------------+\n",
            "only showing top 20 rows\n",
            "\n"
          ]
        }
      ]
    },
    {
      "cell_type": "code",
      "source": [
        "#Crear la variable Type of purchase según la catidad de unidades vendidas de acuerdo a las siguientes categorías\n",
        "from pyspark.sql.functions import when\n",
        "\n",
        "condicion = when(df[\"Quantity\"] <= 5, \"Compra minorista\").otherwise(\"Compra mayorista\")\n",
        "df = df.withColumn(\"Type of purchase\", condicion)\n",
        "\n",
        "df.show()"
      ],
      "metadata": {
        "colab": {
          "base_uri": "https://localhost:8080/"
        },
        "id": "g_9EtAyekFFf",
        "outputId": "9abc207a-d1c6-4d27-bba1-7a2f64162b61"
      },
      "execution_count": 24,
      "outputs": [
        {
          "output_type": "stream",
          "name": "stdout",
          "text": [
            "+--------------------+--------------------+------------------+-------------------+--------------+----------------+--------+------------+-----------------+-----------+---------------+--------------------+--------------------+-----------+----------------+----------------+------------------+-----------------+----------------+\n",
            "|      Transaction ID|         Customer ID|Transaction Amount|   Transaction Date|Payment Method|Product Category|Quantity|Customer Age|Customer Location|Device Used|     IP Address|    Shipping Address|     Billing Address|Is An Alien|Account Age Days|Transaction Hour|    Transaction bp|Transaction Month|Type of purchase|\n",
            "+--------------------+--------------------+------------------+-------------------+--------------+----------------+--------+------------+-----------------+-----------+---------------+--------------------+--------------------+-----------+----------------+----------------+------------------+-----------------+----------------+\n",
            "|0002948c-f473-4fd...|7ae77fa3-3e4c-479...|            131.79|2021-09-22 00:00:00|        PayPal|    toys & games|     2.0|        39.0|        Brownside|     tablet|  158.98.92.242|0379 Kerr Valley ...|0379 Kerr Valley ...|        0.0|            56.0|            10.0|175.72355087960872|                9|Compra minorista|\n",
            "|000ebb9d-d512-40f...|9d6ab2e2-aefe-4ed...|            243.12|2023-03-21 00:00:00|    debit card|     electronics|     3.0|        37.0|      East Carlos|     tablet|    73.82.89.46|1752 Reynolds Sum...|1752 Reynolds Sum...|        0.0|           312.0|            10.0|197.76798534990735|                3|Compra minorista|\n",
            "|001146c5-e77f-4aa...|06d0f47e-080f-455...|            198.24|2019-10-29 00:00:00| bank transfer|    toys & games|     3.0|        39.0|        Smithberg|    desktop|140.249.125.214|USCGC Cox\\nFPO AA...|USCGC Cox\\nFPO AA...|        0.0|           342.0|             3.0|190.42122304370997|               10|Compra minorista|\n",
            "|0016afb1-8df3-4a2...|6f2ccf02-8dcd-4b6...|            159.56|2023-09-04 00:00:00|        PayPal|        clothing|     5.0|        36.0|      East Andrew|    desktop|  104.134.8.145|62553 Ross Ways\\n...|235 Nguyen Coves ...|        1.0|           292.0|            14.0|182.60712097333942|                9|Compra minorista|\n",
            "|00180344-94f2-4d4...|f3a873d5-600f-446...|            344.53|2023-08-10 00:00:00|        PayPal|        clothing|     1.0|        29.0|       Taylorland|     mobile|138.123.240.246|Unit 3749 Box 670...|Unit 3749 Box 670...|        0.0|            51.0|            18.0|210.31852209806968|                8|Compra minorista|\n",
            "|001cac84-58c4-4c5...|89d66717-d794-4b7...|              44.5|2020-09-05 00:00:00|   credit card|        clothing|     3.0|        34.0|          Penaton|     mobile| 192.198.69.161|492 John Glens Ap...|492 John Glens Ap...|        0.0|            40.0|             6.0|  136.637610810199|                9|Compra minorista|\n",
            "|00200e27-5034-40a...|fc2967c4-72c6-4aa...|            295.89|2019-03-10 00:00:00|   credit card|        clothing|     5.0|        24.0|     Williamsport|    desktop|124.238.198.211|3832 Mikayla Esta...|3832 Mikayla Esta...|        0.0|           357.0|             7.0|204.83955949082443|                3|Compra minorista|\n",
            "|00248708-41b9-41f...|96a6f2b4-faa5-4b4...|             55.65|2022-11-02 00:00:00|        PayPal|    toys & games|     4.0|        39.0|        Brownstad|     mobile|    94.31.57.22|154 Dawn Park\\nNe...|154 Dawn Park\\nNe...|        0.0|           341.0|            12.0|144.68695479797594|               11|Compra minorista|\n",
            "|0026274a-1140-4e9...|5e7089b9-68f0-45c...|              33.3|2018-02-19 00:00:00|   credit card|   home & garden|     3.0|        20.0|     Foleychester|     tablet|  94.234.235.40|60342 Woodard Tun...|60342 Woodard Tun...|        0.0|             1.0|             5.0|126.20006629151032|                2|Compra minorista|\n",
            "|0028391b-cc7d-43c...|ada18c64-9456-4f6...|            388.46|2018-07-11 00:00:00|        PayPal|   home & garden|     4.0|        55.0|     East Abigail|     mobile|   52.32.36.202|4956 Brandon Comm...|4956 Brandon Comm...|        1.0|            27.0|            17.0|214.63884735854353|                7|Compra minorista|\n",
            "|0028a7b7-3f8e-48a...|5541bc7d-8b3b-468...|            361.76|2022-03-17 00:00:00|   credit card| health & beauty|     3.0|        29.0| Lake Madisonberg|     tablet| 29.208.125.110|615 Scott Lodge A...|615 Scott Lodge A...|        0.0|           215.0|            20.0|212.07531630706774|                3|Compra minorista|\n",
            "|002b3a2c-f358-486...|ceeefce6-e4bf-4d1...|             88.01|2023-11-02 00:00:00|    debit card| health & beauty|     5.0|        26.0|        Loganport|    desktop| 177.233.35.155|462 Reyes Lane\\nW...|462 Reyes Lane\\nW...|        0.0|           250.0|             5.0|161.18821599788595|               11|Compra minorista|\n",
            "|002b88fb-fa23-4f5...|4455de5b-b896-443...|            308.87|2019-08-02 00:00:00|    debit card|   home & garden|     5.0|        14.0|         Kyleland|     mobile|    105.1.43.44|828 Tina Junction...|828 Tina Junction...|        0.0|            55.0|            17.0|206.38513715038283|                8|Compra minorista|\n",
            "|002cfc02-1687-469...|37cadd9e-ddfa-4c3...|            119.79|2022-09-17 00:00:00|   credit card|        clothing|     2.0|        52.0|      Amandaville|     mobile| 31.171.108.111|USNS Foster\\nFPO ...|USNS Foster\\nFPO ...|        0.0|           249.0|             6.0|172.28664755075664|                9|Compra minorista|\n",
            "|002f4e88-6ab0-487...|aac9cb78-8afc-46e...|            121.22|2023-11-12 00:00:00|   credit card|     electronics|     1.0|        38.0|       Danielview|     tablet|  177.51.162.91|664 Torres Lodge ...|664 Torres Lodge ...|        1.0|           344.0|            10.0|  172.713854754833|               11|Compra minorista|\n",
            "|0032584b-9c1d-40e...|5b82105f-9d5c-469...|             20.93|2024-02-04 00:00:00|    debit card|     electronics|     2.0|        30.0|    North Brandon|    desktop|  171.196.10.80|1339 Porter Lock\\...|1339 Porter Lock\\...|        0.0|           339.0|             7.0| 109.4826073124847|                2|Compra minorista|\n",
            "|0033a798-3b49-45e...|39039a29-70c8-474...|             34.28|2019-12-21 00:00:00|   credit card|     electronics|     4.0|        30.0|    North Rebecca|     mobile|  89.104.243.10|390 Felicia Lodge...|390 Felicia Lodge...|        0.0|            11.0|            14.0|127.24423537426485|               12|Compra minorista|\n",
            "|00350536-0713-44d...|ed3b9188-a9e5-435...|            240.72|2024-04-27 00:00:00| bank transfer|     electronics|     5.0|        32.0|     North Norman|     tablet|   85.47.71.220|5930 Meghan Track...|5930 Meghan Track...|        1.0|            69.0|             2.0|197.41083956358443|                4|Compra minorista|\n",
            "|003630c8-5b50-435...|7b559dbf-5788-4b4...|             33.08|2018-06-02 00:00:00|   credit card|    toys & games|     5.0|        36.0|       Brookeport|     mobile|  11.178.153.56|USNS Johnson\\nFPO...|USNS Johnson\\nFPO...|        0.0|             3.0|            22.0|125.96143932559765|                6|Compra minorista|\n",
            "|003b90de-cfed-402...|c884add5-8a25-49e...|            222.15|2023-12-02 00:00:00|   credit card|     electronics|     1.0|        13.0|     Englishmouth|    desktop|  115.177.186.7|Unit 5862 Box 430...|Unit 5862 Box 430...|        0.0|            95.0|             8.0|194.52070185774903|               12|Compra minorista|\n",
            "+--------------------+--------------------+------------------+-------------------+--------------+----------------+--------+------------+-----------------+-----------+---------------+--------------------+--------------------+-----------+----------------+----------------+------------------+-----------------+----------------+\n",
            "only showing top 20 rows\n",
            "\n"
          ]
        }
      ]
    },
    {
      "cell_type": "code",
      "source": [
        "#Imprima los registros de compras hechas por alienígenas en el comecio mayorista. Utilice .filter().\n",
        "compras_alien_mayorista = df.filter((df[\"Type of purchase\"] == \"Compra mayorista\") & (df[\"Is An Alien\"] == 1.0))\n",
        "\n",
        "compras_alien_mayorista.show()"
      ],
      "metadata": {
        "colab": {
          "base_uri": "https://localhost:8080/"
        },
        "id": "H3rbXqDWmTUU",
        "outputId": "f4e60625-b3c9-4c86-cd09-3b750939c3aa"
      },
      "execution_count": 25,
      "outputs": [
        {
          "output_type": "stream",
          "name": "stdout",
          "text": [
            "+--------------+-----------+------------------+----------------+--------------+----------------+--------+------------+-----------------+-----------+----------+----------------+---------------+-----------+----------------+----------------+--------------+-----------------+----------------+\n",
            "|Transaction ID|Customer ID|Transaction Amount|Transaction Date|Payment Method|Product Category|Quantity|Customer Age|Customer Location|Device Used|IP Address|Shipping Address|Billing Address|Is An Alien|Account Age Days|Transaction Hour|Transaction bp|Transaction Month|Type of purchase|\n",
            "+--------------+-----------+------------------+----------------+--------------+----------------+--------+------------+-----------------+-----------+----------+----------------+---------------+-----------+----------------+----------------+--------------+-----------------+----------------+\n",
            "+--------------+-----------+------------------+----------------+--------------+----------------+--------+------------+-----------------+-----------+----------+----------------+---------------+-----------+----------------+----------------+--------------+-----------------+----------------+\n",
            "\n"
          ]
        }
      ]
    },
    {
      "cell_type": "code",
      "source": [
        "#Cuente la cantidad de compras realizadas por humanos y la cantidad de compras realizadas por alienígenas. Utilice .groupby().\n",
        "conteo_compras_por_tipo = df.groupby(\"Is An Alien\").count()\n",
        "conteo_compras_por_tipo = conteo_compras_por_tipo.withColumnRenamed(\"count\", \"Cantidad de compras\")\n",
        "\n",
        "conteo_compras_por_tipo.show()"
      ],
      "metadata": {
        "colab": {
          "base_uri": "https://localhost:8080/"
        },
        "id": "N_x2zsuHqB_m",
        "outputId": "594b33b6-eff0-4b0b-9f38-bb8070556fbc"
      },
      "execution_count": 26,
      "outputs": [
        {
          "output_type": "stream",
          "name": "stdout",
          "text": [
            "+-----------+-------------------+\n",
            "|Is An Alien|Cantidad de compras|\n",
            "+-----------+-------------------+\n",
            "|        0.0|              12517|\n",
            "|        1.0|               4281|\n",
            "+-----------+-------------------+\n",
            "\n"
          ]
        }
      ]
    },
    {
      "cell_type": "code",
      "source": [
        "from pyspark.sql.functions import avg\n",
        "\n",
        "tabla_recaudacion_promedio = df.groupby(\"Payment Method\", \"Is An Alien\") \\\n",
        "    .agg(avg(col(\"Transaction Amount\")).alias(\"Promedio de recaudación por transacción\"))\n",
        "\n",
        "tabla_pivot = tabla_recaudacion_promedio \\\n",
        "    .groupBy(\"Payment Method\") \\\n",
        "    .pivot(\"Is An Alien\") \\\n",
        "    .agg(avg(col(\"Promedio de recaudación por transacción\"))) \\\n",
        "    .na.fill(0)\n",
        "\n",
        "tabla_pivot.show()"
      ],
      "metadata": {
        "colab": {
          "base_uri": "https://localhost:8080/"
        },
        "id": "YTFH1w9YqkGo",
        "outputId": "39968260-ab7d-4159-96b3-3e3ad7aa5800"
      },
      "execution_count": 27,
      "outputs": [
        {
          "output_type": "stream",
          "name": "stdout",
          "text": [
            "+--------------+------------------+------------------+\n",
            "|Payment Method|               0.0|               1.0|\n",
            "+--------------+------------------+------------------+\n",
            "|    debit card| 215.9200754479721| 293.9991666666672|\n",
            "| bank transfer|214.62898601398632| 286.5833302151541|\n",
            "|        PayPal|214.47527814136083|257.47002862595417|\n",
            "|   credit card| 205.9535609444797| 265.1744589552238|\n",
            "+--------------+------------------+------------------+\n",
            "\n"
          ]
        }
      ]
    },
    {
      "cell_type": "markdown",
      "source": [
        "### 4. EDA [18 puntos]\n",
        "(1 punto por gráfico y 1 punto por su interpretación)"
      ],
      "metadata": {
        "id": "17Muj6u2jOLq"
      }
    },
    {
      "cell_type": "markdown",
      "source": [
        "<center>\n",
        "<img src=\"https://i.pinimg.com/originals/41/7e/7b/417e7b9089bcc20c4909df8954c6e742.gif\" width=400 />\n",
        "\n"
      ],
      "metadata": {
        "id": "7F3yo66wFQ0z"
      }
    },
    {
      "cell_type": "markdown",
      "source": [
        "Esta sección tiene como objetivo evaluar su habilidad para generar reportes y conclusiones a partir de los patrones identificados en los datos proporcionados por Bodoque. Específicamente, se enfoca en **caracterizar las transacciones** y **explorar las diferencias y similitudes en el comportamiento de humanos y aliens**. Utilice el dataset que ya incluye las transformaciones necesarias.\n",
        "\n",
        "Por favor, asegúrese de que **todas** las visualizaciones que realice cumplan con los siguientes criterios:\n",
        "- Deben ser relevantes y fáciles de interpretar.\n",
        "- Cada gráfico debe incluir un título claro, nombres en los ejes y leyendas adecuadas.\n",
        "- Adjunte una breve descripción interpretativa junto a cada gráfico para explicar los resultados visualizados.\n",
        "\n",
        "Para llevar a cabo esta tarea, siga los siguientes pasos utilizando la librería de visualización de su elección (matplotlib, seaborn, plotly, etc):\n",
        "\n",
        "1. **Conversión del DataFrame a formato pandas**: Pase el DataFrame procesado a formato pandas. Evite realizar transformaciones adicionales con pandas.\n",
        "2. **Visualización de Variables Categóricas**:\n",
        "   - Genere **tres gráficos de barras** que diferencien entre humanos y aliens. Analice y comente cualquier diferencia o similitud observada entre estos dos grupos.\n",
        "3. **Visualización de Variables Numéricas**:\n",
        "   - Elabore **tres distplots** para examinar las distribuciones de variables numéricas, diferenciando entre humanos y aliens. Comente las diferencias o similitudes notables.\n",
        "4. **Análisis de Patrones en Transacciones**:\n",
        "   - Cree **tres gráficos avanzados** que ayuden a identificar patrones en las transacciones. Estos gráficos deben incorporar al menos dos dimensiones y diferir de los anteriores. Algunos ejemplos podrían ser un lineplot que muestre la cantidad de transacciones mensuales por canal de venta, o un barplot que exhiba los tres productos más vendidos por canal.\n",
        "\n",
        "Estos pasos le permitirán no solo visualizar datos complejos de manera efectiva, sino también interpretar estos datos para extraer insights valiosos acerca del comportamiento de los consumidores en el contexto de Bodoque."
      ],
      "metadata": {
        "id": "ayN5LYRamE7-"
      }
    },
    {
      "cell_type": "markdown",
      "source": [
        "1.-"
      ],
      "metadata": {
        "id": "K8s4Jrc4TZQy"
      }
    },
    {
      "cell_type": "code",
      "source": [
        "#Conversión del DataFrame a formato pandas\n",
        "df_pandas = df.toPandas()"
      ],
      "metadata": {
        "id": "tGw5y36IxRk3"
      },
      "execution_count": 28,
      "outputs": []
    },
    {
      "cell_type": "code",
      "source": [
        "df_pandas.info()"
      ],
      "metadata": {
        "colab": {
          "base_uri": "https://localhost:8080/"
        },
        "id": "2b9QyP1vPmKx",
        "outputId": "35e74986-6181-4639-ddd4-725f31f4b8e9"
      },
      "execution_count": 29,
      "outputs": [
        {
          "output_type": "stream",
          "name": "stdout",
          "text": [
            "<class 'pandas.core.frame.DataFrame'>\n",
            "RangeIndex: 16798 entries, 0 to 16797\n",
            "Data columns (total 19 columns):\n",
            " #   Column              Non-Null Count  Dtype         \n",
            "---  ------              --------------  -----         \n",
            " 0   Transaction ID      16798 non-null  object        \n",
            " 1   Customer ID         16798 non-null  object        \n",
            " 2   Transaction Amount  16798 non-null  float64       \n",
            " 3   Transaction Date    16798 non-null  datetime64[ns]\n",
            " 4   Payment Method      16798 non-null  object        \n",
            " 5   Product Category    16798 non-null  object        \n",
            " 6   Quantity            16798 non-null  float64       \n",
            " 7   Customer Age        16798 non-null  float64       \n",
            " 8   Customer Location   16798 non-null  object        \n",
            " 9   Device Used         16798 non-null  object        \n",
            " 10  IP Address          16798 non-null  object        \n",
            " 11  Shipping Address    16798 non-null  object        \n",
            " 12  Billing Address     16798 non-null  object        \n",
            " 13  Is An Alien         16798 non-null  float64       \n",
            " 14  Account Age Days    16798 non-null  float64       \n",
            " 15  Transaction Hour    16798 non-null  float64       \n",
            " 16  Transaction bp      16798 non-null  float64       \n",
            " 17  Transaction Month   16798 non-null  int32         \n",
            " 18  Type of purchase    16798 non-null  object        \n",
            "dtypes: datetime64[ns](1), float64(7), int32(1), object(10)\n",
            "memory usage: 2.4+ MB\n"
          ]
        }
      ]
    },
    {
      "cell_type": "markdown",
      "source": [
        "2.-"
      ],
      "metadata": {
        "id": "RVv-RC1uTkf5"
      }
    },
    {
      "cell_type": "code",
      "source": [
        "import plotly.express as px\n",
        "import plotly.graph_objects as go\n",
        "from plotly.subplots import make_subplots\n",
        "\n",
        "humanos = df_pandas[df_pandas['Is An Alien'] == 0]\n",
        "aliens = df_pandas[df_pandas['Is An Alien'] == 1]\n",
        "\n",
        "categorical = ['Product Category', 'Payment Method', 'Device Used']\n",
        "\n",
        "fig = make_subplots(rows=1, cols=3, subplot_titles=categorical)\n",
        "\n",
        "for i, cat in enumerate(categorical, start=1):\n",
        "    humanos_counts = humanos[cat].value_counts().reset_index(name='Cantidad de transacciones')\n",
        "    aliens_counts = aliens[cat].value_counts().reset_index(name='Cantidad de transacciones')\n",
        "\n",
        "    fig.add_trace(go.Bar(x=humanos_counts[cat], y=humanos_counts['Cantidad de transacciones'], name='Humanos', marker_color='blue'),\n",
        "                  row=1, col=i)\n",
        "    fig.add_trace(go.Bar(x=aliens_counts[cat], y=aliens_counts['Cantidad de transacciones'], name='Aliens', marker_color='green'),\n",
        "                  row=1, col=i)\n",
        "\n",
        "    fig.update_xaxes(title_text=cat, row=1, col=i)\n",
        "    fig.update_yaxes(title_text='Cantidad de transacciones', row=1, col=i)\n",
        "\n",
        "fig.update_layout(height=600, title_text=\"Análisis Univariado de las Variables Categóricas\", showlegend=False)\n",
        "fig.show()\n"
      ],
      "metadata": {
        "colab": {
          "base_uri": "https://localhost:8080/",
          "height": 617
        },
        "id": "denm3q5IPVHT",
        "outputId": "24a450da-6b39-4785-ab92-be7d715e3b36"
      },
      "execution_count": 30,
      "outputs": [
        {
          "output_type": "display_data",
          "data": {
            "text/html": [
              "<html>\n",
              "<head><meta charset=\"utf-8\" /></head>\n",
              "<body>\n",
              "    <div>            <script src=\"https://cdnjs.cloudflare.com/ajax/libs/mathjax/2.7.5/MathJax.js?config=TeX-AMS-MML_SVG\"></script><script type=\"text/javascript\">if (window.MathJax && window.MathJax.Hub && window.MathJax.Hub.Config) {window.MathJax.Hub.Config({SVG: {font: \"STIX-Web\"}});}</script>                <script type=\"text/javascript\">window.PlotlyConfig = {MathJaxConfig: 'local'};</script>\n",
              "        <script charset=\"utf-8\" src=\"https://cdn.plot.ly/plotly-2.31.1.min.js\"></script>                <div id=\"5f35c075-5259-4e96-916f-5aa3e7eae6e4\" class=\"plotly-graph-div\" style=\"height:600px; width:100%;\"></div>            <script type=\"text/javascript\">                                    window.PLOTLYENV=window.PLOTLYENV || {};                                    if (document.getElementById(\"5f35c075-5259-4e96-916f-5aa3e7eae6e4\")) {                    Plotly.newPlot(                        \"5f35c075-5259-4e96-916f-5aa3e7eae6e4\",                        [{\"marker\":{\"color\":\"blue\"},\"name\":\"Humanos\",\"x\":[\"electronics\",\"home & garden\",\"health & beauty\",\"clothing\",\"toys & games\"],\"y\":[2525,2520,2500,2495,2477],\"type\":\"bar\",\"xaxis\":\"x\",\"yaxis\":\"y\"},{\"marker\":{\"color\":\"green\"},\"name\":\"Aliens\",\"x\":[\"home & garden\",\"electronics\",\"toys & games\",\"health & beauty\",\"clothing\"],\"y\":[881,878,860,856,806],\"type\":\"bar\",\"xaxis\":\"x\",\"yaxis\":\"y\"},{\"marker\":{\"color\":\"blue\"},\"name\":\"Humanos\",\"x\":[\"debit card\",\"bank transfer\",\"credit card\",\"PayPal\"],\"y\":[3181,3146,3134,3056],\"type\":\"bar\",\"xaxis\":\"x2\",\"yaxis\":\"y2\"},{\"marker\":{\"color\":\"green\"},\"name\":\"Aliens\",\"x\":[\"debit card\",\"credit card\",\"bank transfer\",\"PayPal\"],\"y\":[1092,1072,1069,1048],\"type\":\"bar\",\"xaxis\":\"x2\",\"yaxis\":\"y2\"},{\"marker\":{\"color\":\"blue\"},\"name\":\"Humanos\",\"x\":[\"tablet\",\"mobile\",\"desktop\"],\"y\":[4256,4233,4028],\"type\":\"bar\",\"xaxis\":\"x3\",\"yaxis\":\"y3\"},{\"marker\":{\"color\":\"green\"},\"name\":\"Aliens\",\"x\":[\"desktop\",\"mobile\",\"tablet\"],\"y\":[1437,1425,1419],\"type\":\"bar\",\"xaxis\":\"x3\",\"yaxis\":\"y3\"}],                        {\"template\":{\"data\":{\"histogram2dcontour\":[{\"type\":\"histogram2dcontour\",\"colorbar\":{\"outlinewidth\":0,\"ticks\":\"\"},\"colorscale\":[[0.0,\"#0d0887\"],[0.1111111111111111,\"#46039f\"],[0.2222222222222222,\"#7201a8\"],[0.3333333333333333,\"#9c179e\"],[0.4444444444444444,\"#bd3786\"],[0.5555555555555556,\"#d8576b\"],[0.6666666666666666,\"#ed7953\"],[0.7777777777777778,\"#fb9f3a\"],[0.8888888888888888,\"#fdca26\"],[1.0,\"#f0f921\"]]}],\"choropleth\":[{\"type\":\"choropleth\",\"colorbar\":{\"outlinewidth\":0,\"ticks\":\"\"}}],\"histogram2d\":[{\"type\":\"histogram2d\",\"colorbar\":{\"outlinewidth\":0,\"ticks\":\"\"},\"colorscale\":[[0.0,\"#0d0887\"],[0.1111111111111111,\"#46039f\"],[0.2222222222222222,\"#7201a8\"],[0.3333333333333333,\"#9c179e\"],[0.4444444444444444,\"#bd3786\"],[0.5555555555555556,\"#d8576b\"],[0.6666666666666666,\"#ed7953\"],[0.7777777777777778,\"#fb9f3a\"],[0.8888888888888888,\"#fdca26\"],[1.0,\"#f0f921\"]]}],\"heatmap\":[{\"type\":\"heatmap\",\"colorbar\":{\"outlinewidth\":0,\"ticks\":\"\"},\"colorscale\":[[0.0,\"#0d0887\"],[0.1111111111111111,\"#46039f\"],[0.2222222222222222,\"#7201a8\"],[0.3333333333333333,\"#9c179e\"],[0.4444444444444444,\"#bd3786\"],[0.5555555555555556,\"#d8576b\"],[0.6666666666666666,\"#ed7953\"],[0.7777777777777778,\"#fb9f3a\"],[0.8888888888888888,\"#fdca26\"],[1.0,\"#f0f921\"]]}],\"heatmapgl\":[{\"type\":\"heatmapgl\",\"colorbar\":{\"outlinewidth\":0,\"ticks\":\"\"},\"colorscale\":[[0.0,\"#0d0887\"],[0.1111111111111111,\"#46039f\"],[0.2222222222222222,\"#7201a8\"],[0.3333333333333333,\"#9c179e\"],[0.4444444444444444,\"#bd3786\"],[0.5555555555555556,\"#d8576b\"],[0.6666666666666666,\"#ed7953\"],[0.7777777777777778,\"#fb9f3a\"],[0.8888888888888888,\"#fdca26\"],[1.0,\"#f0f921\"]]}],\"contourcarpet\":[{\"type\":\"contourcarpet\",\"colorbar\":{\"outlinewidth\":0,\"ticks\":\"\"}}],\"contour\":[{\"type\":\"contour\",\"colorbar\":{\"outlinewidth\":0,\"ticks\":\"\"},\"colorscale\":[[0.0,\"#0d0887\"],[0.1111111111111111,\"#46039f\"],[0.2222222222222222,\"#7201a8\"],[0.3333333333333333,\"#9c179e\"],[0.4444444444444444,\"#bd3786\"],[0.5555555555555556,\"#d8576b\"],[0.6666666666666666,\"#ed7953\"],[0.7777777777777778,\"#fb9f3a\"],[0.8888888888888888,\"#fdca26\"],[1.0,\"#f0f921\"]]}],\"surface\":[{\"type\":\"surface\",\"colorbar\":{\"outlinewidth\":0,\"ticks\":\"\"},\"colorscale\":[[0.0,\"#0d0887\"],[0.1111111111111111,\"#46039f\"],[0.2222222222222222,\"#7201a8\"],[0.3333333333333333,\"#9c179e\"],[0.4444444444444444,\"#bd3786\"],[0.5555555555555556,\"#d8576b\"],[0.6666666666666666,\"#ed7953\"],[0.7777777777777778,\"#fb9f3a\"],[0.8888888888888888,\"#fdca26\"],[1.0,\"#f0f921\"]]}],\"mesh3d\":[{\"type\":\"mesh3d\",\"colorbar\":{\"outlinewidth\":0,\"ticks\":\"\"}}],\"scatter\":[{\"fillpattern\":{\"fillmode\":\"overlay\",\"size\":10,\"solidity\":0.2},\"type\":\"scatter\"}],\"parcoords\":[{\"type\":\"parcoords\",\"line\":{\"colorbar\":{\"outlinewidth\":0,\"ticks\":\"\"}}}],\"scatterpolargl\":[{\"type\":\"scatterpolargl\",\"marker\":{\"colorbar\":{\"outlinewidth\":0,\"ticks\":\"\"}}}],\"bar\":[{\"error_x\":{\"color\":\"#2a3f5f\"},\"error_y\":{\"color\":\"#2a3f5f\"},\"marker\":{\"line\":{\"color\":\"#E5ECF6\",\"width\":0.5},\"pattern\":{\"fillmode\":\"overlay\",\"size\":10,\"solidity\":0.2}},\"type\":\"bar\"}],\"scattergeo\":[{\"type\":\"scattergeo\",\"marker\":{\"colorbar\":{\"outlinewidth\":0,\"ticks\":\"\"}}}],\"scatterpolar\":[{\"type\":\"scatterpolar\",\"marker\":{\"colorbar\":{\"outlinewidth\":0,\"ticks\":\"\"}}}],\"histogram\":[{\"marker\":{\"pattern\":{\"fillmode\":\"overlay\",\"size\":10,\"solidity\":0.2}},\"type\":\"histogram\"}],\"scattergl\":[{\"type\":\"scattergl\",\"marker\":{\"colorbar\":{\"outlinewidth\":0,\"ticks\":\"\"}}}],\"scatter3d\":[{\"type\":\"scatter3d\",\"line\":{\"colorbar\":{\"outlinewidth\":0,\"ticks\":\"\"}},\"marker\":{\"colorbar\":{\"outlinewidth\":0,\"ticks\":\"\"}}}],\"scattermapbox\":[{\"type\":\"scattermapbox\",\"marker\":{\"colorbar\":{\"outlinewidth\":0,\"ticks\":\"\"}}}],\"scatterternary\":[{\"type\":\"scatterternary\",\"marker\":{\"colorbar\":{\"outlinewidth\":0,\"ticks\":\"\"}}}],\"scattercarpet\":[{\"type\":\"scattercarpet\",\"marker\":{\"colorbar\":{\"outlinewidth\":0,\"ticks\":\"\"}}}],\"carpet\":[{\"aaxis\":{\"endlinecolor\":\"#2a3f5f\",\"gridcolor\":\"white\",\"linecolor\":\"white\",\"minorgridcolor\":\"white\",\"startlinecolor\":\"#2a3f5f\"},\"baxis\":{\"endlinecolor\":\"#2a3f5f\",\"gridcolor\":\"white\",\"linecolor\":\"white\",\"minorgridcolor\":\"white\",\"startlinecolor\":\"#2a3f5f\"},\"type\":\"carpet\"}],\"table\":[{\"cells\":{\"fill\":{\"color\":\"#EBF0F8\"},\"line\":{\"color\":\"white\"}},\"header\":{\"fill\":{\"color\":\"#C8D4E3\"},\"line\":{\"color\":\"white\"}},\"type\":\"table\"}],\"barpolar\":[{\"marker\":{\"line\":{\"color\":\"#E5ECF6\",\"width\":0.5},\"pattern\":{\"fillmode\":\"overlay\",\"size\":10,\"solidity\":0.2}},\"type\":\"barpolar\"}],\"pie\":[{\"automargin\":true,\"type\":\"pie\"}]},\"layout\":{\"autotypenumbers\":\"strict\",\"colorway\":[\"#636efa\",\"#EF553B\",\"#00cc96\",\"#ab63fa\",\"#FFA15A\",\"#19d3f3\",\"#FF6692\",\"#B6E880\",\"#FF97FF\",\"#FECB52\"],\"font\":{\"color\":\"#2a3f5f\"},\"hovermode\":\"closest\",\"hoverlabel\":{\"align\":\"left\"},\"paper_bgcolor\":\"white\",\"plot_bgcolor\":\"#E5ECF6\",\"polar\":{\"bgcolor\":\"#E5ECF6\",\"angularaxis\":{\"gridcolor\":\"white\",\"linecolor\":\"white\",\"ticks\":\"\"},\"radialaxis\":{\"gridcolor\":\"white\",\"linecolor\":\"white\",\"ticks\":\"\"}},\"ternary\":{\"bgcolor\":\"#E5ECF6\",\"aaxis\":{\"gridcolor\":\"white\",\"linecolor\":\"white\",\"ticks\":\"\"},\"baxis\":{\"gridcolor\":\"white\",\"linecolor\":\"white\",\"ticks\":\"\"},\"caxis\":{\"gridcolor\":\"white\",\"linecolor\":\"white\",\"ticks\":\"\"}},\"coloraxis\":{\"colorbar\":{\"outlinewidth\":0,\"ticks\":\"\"}},\"colorscale\":{\"sequential\":[[0.0,\"#0d0887\"],[0.1111111111111111,\"#46039f\"],[0.2222222222222222,\"#7201a8\"],[0.3333333333333333,\"#9c179e\"],[0.4444444444444444,\"#bd3786\"],[0.5555555555555556,\"#d8576b\"],[0.6666666666666666,\"#ed7953\"],[0.7777777777777778,\"#fb9f3a\"],[0.8888888888888888,\"#fdca26\"],[1.0,\"#f0f921\"]],\"sequentialminus\":[[0.0,\"#0d0887\"],[0.1111111111111111,\"#46039f\"],[0.2222222222222222,\"#7201a8\"],[0.3333333333333333,\"#9c179e\"],[0.4444444444444444,\"#bd3786\"],[0.5555555555555556,\"#d8576b\"],[0.6666666666666666,\"#ed7953\"],[0.7777777777777778,\"#fb9f3a\"],[0.8888888888888888,\"#fdca26\"],[1.0,\"#f0f921\"]],\"diverging\":[[0,\"#8e0152\"],[0.1,\"#c51b7d\"],[0.2,\"#de77ae\"],[0.3,\"#f1b6da\"],[0.4,\"#fde0ef\"],[0.5,\"#f7f7f7\"],[0.6,\"#e6f5d0\"],[0.7,\"#b8e186\"],[0.8,\"#7fbc41\"],[0.9,\"#4d9221\"],[1,\"#276419\"]]},\"xaxis\":{\"gridcolor\":\"white\",\"linecolor\":\"white\",\"ticks\":\"\",\"title\":{\"standoff\":15},\"zerolinecolor\":\"white\",\"automargin\":true,\"zerolinewidth\":2},\"yaxis\":{\"gridcolor\":\"white\",\"linecolor\":\"white\",\"ticks\":\"\",\"title\":{\"standoff\":15},\"zerolinecolor\":\"white\",\"automargin\":true,\"zerolinewidth\":2},\"scene\":{\"xaxis\":{\"backgroundcolor\":\"#E5ECF6\",\"gridcolor\":\"white\",\"linecolor\":\"white\",\"showbackground\":true,\"ticks\":\"\",\"zerolinecolor\":\"white\",\"gridwidth\":2},\"yaxis\":{\"backgroundcolor\":\"#E5ECF6\",\"gridcolor\":\"white\",\"linecolor\":\"white\",\"showbackground\":true,\"ticks\":\"\",\"zerolinecolor\":\"white\",\"gridwidth\":2},\"zaxis\":{\"backgroundcolor\":\"#E5ECF6\",\"gridcolor\":\"white\",\"linecolor\":\"white\",\"showbackground\":true,\"ticks\":\"\",\"zerolinecolor\":\"white\",\"gridwidth\":2}},\"shapedefaults\":{\"line\":{\"color\":\"#2a3f5f\"}},\"annotationdefaults\":{\"arrowcolor\":\"#2a3f5f\",\"arrowhead\":0,\"arrowwidth\":1},\"geo\":{\"bgcolor\":\"white\",\"landcolor\":\"#E5ECF6\",\"subunitcolor\":\"white\",\"showland\":true,\"showlakes\":true,\"lakecolor\":\"white\"},\"title\":{\"x\":0.05},\"mapbox\":{\"style\":\"light\"}}},\"xaxis\":{\"anchor\":\"y\",\"domain\":[0.0,0.2888888888888889],\"title\":{\"text\":\"Product Category\"}},\"yaxis\":{\"anchor\":\"x\",\"domain\":[0.0,1.0],\"title\":{\"text\":\"Cantidad de transacciones\"}},\"xaxis2\":{\"anchor\":\"y2\",\"domain\":[0.35555555555555557,0.6444444444444445],\"title\":{\"text\":\"Payment Method\"}},\"yaxis2\":{\"anchor\":\"x2\",\"domain\":[0.0,1.0],\"title\":{\"text\":\"Cantidad de transacciones\"}},\"xaxis3\":{\"anchor\":\"y3\",\"domain\":[0.7111111111111111,1.0],\"title\":{\"text\":\"Device Used\"}},\"yaxis3\":{\"anchor\":\"x3\",\"domain\":[0.0,1.0],\"title\":{\"text\":\"Cantidad de transacciones\"}},\"annotations\":[{\"font\":{\"size\":16},\"showarrow\":false,\"text\":\"Product Category\",\"x\":0.14444444444444446,\"xanchor\":\"center\",\"xref\":\"paper\",\"y\":1.0,\"yanchor\":\"bottom\",\"yref\":\"paper\"},{\"font\":{\"size\":16},\"showarrow\":false,\"text\":\"Payment Method\",\"x\":0.5,\"xanchor\":\"center\",\"xref\":\"paper\",\"y\":1.0,\"yanchor\":\"bottom\",\"yref\":\"paper\"},{\"font\":{\"size\":16},\"showarrow\":false,\"text\":\"Device Used\",\"x\":0.8555555555555556,\"xanchor\":\"center\",\"xref\":\"paper\",\"y\":1.0,\"yanchor\":\"bottom\",\"yref\":\"paper\"}],\"title\":{\"text\":\"An\\u00e1lisis Univariado de las Variables Categ\\u00f3ricas\"},\"height\":600,\"showlegend\":false},                        {\"responsive\": true}                    ).then(function(){\n",
              "                            \n",
              "var gd = document.getElementById('5f35c075-5259-4e96-916f-5aa3e7eae6e4');\n",
              "var x = new MutationObserver(function (mutations, observer) {{\n",
              "        var display = window.getComputedStyle(gd).display;\n",
              "        if (!display || display === 'none') {{\n",
              "            console.log([gd, 'removed!']);\n",
              "            Plotly.purge(gd);\n",
              "            observer.disconnect();\n",
              "        }}\n",
              "}});\n",
              "\n",
              "// Listen for the removal of the full notebook cells\n",
              "var notebookContainer = gd.closest('#notebook-container');\n",
              "if (notebookContainer) {{\n",
              "    x.observe(notebookContainer, {childList: true});\n",
              "}}\n",
              "\n",
              "// Listen for the clearing of the current output cell\n",
              "var outputEl = gd.closest('.output');\n",
              "if (outputEl) {{\n",
              "    x.observe(outputEl, {childList: true});\n",
              "}}\n",
              "\n",
              "                        })                };                            </script>        </div>\n",
              "</body>\n",
              "</html>"
            ]
          },
          "metadata": {}
        }
      ]
    },
    {
      "cell_type": "markdown",
      "source": [
        "Observaciones de los gráficos: \\\\\n",
        "\n",
        "\n",
        "En todos los gráficos se separó los clientes si son humanos en color azul y alien en color verde.\n",
        "\n",
        "\n",
        "*   Gráfico de categoría de producto: Se puede observar que son 5 categorías, en general las diferentes categorías distribuyen similar, con aproximadamente 3300 clientes por categoría y proporcion 1:3 alien humano respectivamente.\n",
        "*   Gráfico de medio de pago: Se puede observar que son 4 categorías diferentes, nuevamente tienen un número similar de clientes en todas con aproximadamente 4200 en cada una, en la última categoría es un poco menos que es la de método \"Paypal\", la proporción en cada una de las categorías entre alien y humanos es similar siendo de 1:3 respectivamente.\n",
        "*   Gráfico de Dispositivo usado: Se puede observar que son 3 categoría, distribuyen similar en las tres(4600) pero la última que es \"Desktop\" tiene un poco menos(200 aprox), la proporción entre aliens y humanos es 1:3.\n",
        "\n"
      ],
      "metadata": {
        "id": "DKR-rW58gRc5"
      }
    },
    {
      "cell_type": "markdown",
      "source": [
        "3.-"
      ],
      "metadata": {
        "id": "TAgBIKArTbMd"
      }
    },
    {
      "cell_type": "code",
      "source": [
        "import seaborn as sns\n",
        "\n",
        "fig, axs = plt.subplots(3, 1, figsize=(10, 15))\n",
        "\n",
        "# Transaction Amount\n",
        "sns.histplot(humanos['Transaction Amount'], kde=True, color='blue', ax=axs[0], label='Humanos')\n",
        "sns.histplot(aliens['Transaction Amount'], kde=True, color='green', ax=axs[0], label='Aliens')\n",
        "axs[0].set_title('Distribución de Transaction Amount')\n",
        "axs[0].set_xlabel('Transaction Amount')\n",
        "axs[0].set_ylabel('Densidad')\n",
        "axs[0].legend()\n",
        "\n",
        "# Customer Age\n",
        "sns.histplot(humanos['Customer Age'], kde=True, color='blue', ax=axs[1], label='Humanos')\n",
        "sns.histplot(aliens['Customer Age'], kde=True, color='green', ax=axs[1], label='Aliens')\n",
        "axs[1].set_title('Distribución de Customer Age')\n",
        "axs[1].set_xlabel('Customer Age')\n",
        "axs[1].set_ylabel('Densidad')\n",
        "axs[1].legend()\n",
        "\n",
        "# Account Age Days\n",
        "sns.histplot(humanos['Account Age Days'], kde=True, color='blue', ax=axs[2], label='Humanos')\n",
        "sns.histplot(aliens['Account Age Days'], kde=True, color='green', ax=axs[2], label='Aliens')\n",
        "axs[2].set_title('Distribución de Account Age Days')\n",
        "axs[2].set_xlabel('Account Age Days')\n",
        "axs[2].set_ylabel('Densidad')\n",
        "axs[2].legend()\n",
        "\n",
        "\n",
        "plt.tight_layout()\n",
        "plt.show()"
      ],
      "metadata": {
        "colab": {
          "base_uri": "https://localhost:8080/",
          "height": 1000
        },
        "id": "yKQYyBV_yuk1",
        "outputId": "b463d8ee-624e-42bb-c37f-82363d0b24c7"
      },
      "execution_count": 31,
      "outputs": [
        {
          "output_type": "display_data",
          "data": {
            "text/plain": [
              "<Figure size 1000x1500 with 3 Axes>"
            ],
            "image/png": "[encoded data removed]"
          },
          "metadata": {}
        }
      ]
    },
    {
      "cell_type": "markdown",
      "source": [
        "Nuevamente, para los graficos se separo entre clientes humanos y aliens de color azul y verde respectivamente.\n",
        "\n",
        "\n",
        "El primer gráfico corresponde a la distribución de monto de compra, se puede notar que par ambos tipos de cliente el máximo es un monto bajo y la cantidad de transacciones va disminuyendo según aumenta el monto\n",
        "\n",
        "\n",
        "El segundo gráfico muestra la distribución de las edades de los clientes, se puede notar que para los humanos la distribución es similar a una gaussiana con media 35 años, aunque presenta 2 peaks en 30 y 42 años, en cambio para los aliens si bien la curva es similar presenta varios peaks de las edades.\n",
        "\n",
        "\n",
        "Finalmente el tercer gráfico, muestra la distribución del tiempo de creación de la cuenta de cada cliente, para ambos tipos de cliente la distribución es similar a una uniforme con 500 y 250 clientes por segmento para humanos y aliens respectivamente, aunque para los aliens hay un peak en el primer segmento con más de 500 clientes.\n"
      ],
      "metadata": {
        "id": "lamo7a1Fo9Ob"
      }
    },
    {
      "cell_type": "markdown",
      "source": [
        "4.-"
      ],
      "metadata": {
        "id": "GXIkcTOkTdzf"
      }
    },
    {
      "cell_type": "code",
      "source": [
        "import plotly.express as px\n",
        "\n",
        "# Gráfico 1: Lineplot de cantidad de transacciones mensuales por método de pago\n",
        "grouped_data = df_pandas.groupby(['Transaction Month', 'Payment Method', 'Is An Alien']).size().reset_index(name='Count')\n",
        "\n",
        "fig1 = px.line(grouped_data, x='Transaction Month', y='Count', color='Payment Method',\n",
        "               line_group='Is An Alien', markers=True, title='Cantidad de transacciones mensuales por canal de venta',\n",
        "               labels={'Transaction Month': 'Mes de la transacción', 'Count': 'Cantidad de transacciones', 'Payment Method': 'Canal de venta'},\n",
        "               category_orders={'Payment Method': df_pandas['Payment Method'].unique()})\n",
        "\n",
        "\n",
        "# Gráfico 2: Heatmap de cantidad de transacciones por categoría de producto y método de pago\n",
        "heatmap_data_humanos = df_pandas[df_pandas['Is An Alien'] == 0].groupby(['Payment Method', 'Product Category']).size().reset_index(name='Count')\n",
        "heatmap_data_aliens = df_pandas[df_pandas['Is An Alien'] == 1].groupby(['Payment Method', 'Product Category']).size().reset_index(name='Count')\n",
        "\n",
        "fig2 = px.bar(heatmap_data_humanos, x='Payment Method', y='Count', color='Product Category', barmode='group',\n",
        "              title='Humanos: Cantidad de transacciones por categoría de producto y método de pago',\n",
        "              labels={'Payment Method': 'Método de pago', 'Count': 'Cantidad de transacciones', 'Product Category': 'Categoría de producto'})\n",
        "fig2.update_layout(xaxis_title='Método de pago', yaxis_title='Cantidad de transacciones')\n",
        "\n",
        "fig3 = px.bar(heatmap_data_aliens, x='Payment Method', y='Count', color='Product Category', barmode='group',\n",
        "              title='Aliens: Cantidad de transacciones por categoría de producto y método de pago',\n",
        "              labels={'Payment Method': 'Método de pago', 'Count': 'Cantidad de transacciones', 'Product Category': 'Categoría de producto'})\n",
        "fig3.update_layout(xaxis_title='Método de pago', yaxis_title='Cantidad de transacciones')\n",
        "\n",
        "# Gráfico 3: Cantidad de transacciones por día de semana y método de pago\n",
        "grouped_data_amount = df_pandas.groupby(['Transaction Month', 'Payment Method', 'Is An Alien'])['Transaction Amount'].sum().reset_index(name='Total Amount')\n",
        "\n",
        "# Crear el gráfico de líneas con los datos agrupados\n",
        "fig4 = px.line(grouped_data_amount, x='Transaction Month', y='Total Amount', color='Payment Method',\n",
        "               line_group='Is An Alien', markers=True, title='Total de monto por transacciones mensuales por medio de pago',\n",
        "               labels={'Transaction Month': 'Mes de la transacción', 'Total Amount': 'Total Monto', 'Payment Method': 'Medio de pago'},\n",
        "               category_orders={'Payment Method': df_pandas['Payment Method'].unique()})\n",
        "\n",
        "fig1.show()\n",
        "fig2.show()\n",
        "fig3.show()\n",
        "fig4.show()"
      ],
      "metadata": {
        "colab": {
          "base_uri": "https://localhost:8080/",
          "height": 1000
        },
        "id": "8jmNkmmYG2Cn",
        "outputId": "df4af222-7d40-479b-9080-8578e64f041b"
      },
      "execution_count": 33,
      "outputs": [
        {
          "output_type": "display_data",
          "data": {
            "text/html": [
              "<html>\n",
              "<head><meta charset=\"utf-8\" /></head>\n",
              "<body>\n",
              "    <div>            <script src=\"https://cdnjs.cloudflare.com/ajax/libs/mathjax/2.7.5/MathJax.js?config=TeX-AMS-MML_SVG\"></script><script type=\"text/javascript\">if (window.MathJax && window.MathJax.Hub && window.MathJax.Hub.Config) {window.MathJax.Hub.Config({SVG: {font: \"STIX-Web\"}});}</script>                <script type=\"text/javascript\">window.PlotlyConfig = {MathJaxConfig: 'local'};</script>\n",
              "        <script charset=\"utf-8\" src=\"https://cdn.plot.ly/plotly-2.31.1.min.js\"></script>                <div id=\"53ac06f7-d541-45dd-b82d-dba52a41917a\" class=\"plotly-graph-div\" style=\"height:525px; width:100%;\"></div>            <script type=\"text/javascript\">                                    window.PLOTLYENV=window.PLOTLYENV || {};                                    if (document.getElementById(\"53ac06f7-d541-45dd-b82d-dba52a41917a\")) {                    Plotly.newPlot(                        \"53ac06f7-d541-45dd-b82d-dba52a41917a\",                        [{\"hovertemplate\":\"Canal de venta=PayPal\\u003cbr\\u003eIs An Alien=0.0\\u003cbr\\u003eMes de la transacci\\u00f3n=%{x}\\u003cbr\\u003eCantidad de transacciones=%{y}\\u003cextra\\u003e\\u003c\\u002fextra\\u003e\",\"legendgroup\":\"PayPal\",\"line\":{\"color\":\"#636efa\",\"dash\":\"solid\"},\"marker\":{\"symbol\":\"circle\"},\"mode\":\"lines+markers\",\"name\":\"PayPal\",\"orientation\":\"v\",\"showlegend\":true,\"x\":[1,2,3,4,5,6,7,8,9,10,11,12],\"xaxis\":\"x\",\"y\":[248,248,280,244,256,231,275,253,251,268,240,262],\"yaxis\":\"y\",\"type\":\"scatter\"},{\"hovertemplate\":\"Canal de venta=PayPal\\u003cbr\\u003eIs An Alien=1.0\\u003cbr\\u003eMes de la transacci\\u00f3n=%{x}\\u003cbr\\u003eCantidad de transacciones=%{y}\\u003cextra\\u003e\\u003c\\u002fextra\\u003e\",\"legendgroup\":\"PayPal\",\"line\":{\"color\":\"#636efa\",\"dash\":\"solid\"},\"marker\":{\"symbol\":\"circle\"},\"mode\":\"lines+markers\",\"name\":\"PayPal\",\"orientation\":\"v\",\"showlegend\":false,\"x\":[1,2,3,4,5,6,7,8,9,10,11,12],\"xaxis\":\"x\",\"y\":[92,77,99,84,94,84,89,93,81,91,88,76],\"yaxis\":\"y\",\"type\":\"scatter\"},{\"hovertemplate\":\"Canal de venta=debit card\\u003cbr\\u003eIs An Alien=0.0\\u003cbr\\u003eMes de la transacci\\u00f3n=%{x}\\u003cbr\\u003eCantidad de transacciones=%{y}\\u003cextra\\u003e\\u003c\\u002fextra\\u003e\",\"legendgroup\":\"debit card\",\"line\":{\"color\":\"#EF553B\",\"dash\":\"solid\"},\"marker\":{\"symbol\":\"circle\"},\"mode\":\"lines+markers\",\"name\":\"debit card\",\"orientation\":\"v\",\"showlegend\":true,\"x\":[1,2,3,4,5,6,7,8,9,10,11,12],\"xaxis\":\"x\",\"y\":[291,243,249,272,266,264,280,273,242,249,276,276],\"yaxis\":\"y\",\"type\":\"scatter\"},{\"hovertemplate\":\"Canal de venta=debit card\\u003cbr\\u003eIs An Alien=1.0\\u003cbr\\u003eMes de la transacci\\u00f3n=%{x}\\u003cbr\\u003eCantidad de transacciones=%{y}\\u003cextra\\u003e\\u003c\\u002fextra\\u003e\",\"legendgroup\":\"debit card\",\"line\":{\"color\":\"#EF553B\",\"dash\":\"solid\"},\"marker\":{\"symbol\":\"circle\"},\"mode\":\"lines+markers\",\"name\":\"debit card\",\"orientation\":\"v\",\"showlegend\":false,\"x\":[1,2,3,4,5,6,7,8,9,10,11,12],\"xaxis\":\"x\",\"y\":[100,84,109,87,100,101,77,85,88,78,90,93],\"yaxis\":\"y\",\"type\":\"scatter\"},{\"hovertemplate\":\"Canal de venta=bank transfer\\u003cbr\\u003eIs An Alien=0.0\\u003cbr\\u003eMes de la transacci\\u00f3n=%{x}\\u003cbr\\u003eCantidad de transacciones=%{y}\\u003cextra\\u003e\\u003c\\u002fextra\\u003e\",\"legendgroup\":\"bank transfer\",\"line\":{\"color\":\"#00cc96\",\"dash\":\"solid\"},\"marker\":{\"symbol\":\"circle\"},\"mode\":\"lines+markers\",\"name\":\"bank transfer\",\"orientation\":\"v\",\"showlegend\":true,\"x\":[1,2,3,4,5,6,7,8,9,10,11,12],\"xaxis\":\"x\",\"y\":[268,243,289,255,264,277,256,258,263,253,268,252],\"yaxis\":\"y\",\"type\":\"scatter\"},{\"hovertemplate\":\"Canal de venta=bank transfer\\u003cbr\\u003eIs An Alien=1.0\\u003cbr\\u003eMes de la transacci\\u00f3n=%{x}\\u003cbr\\u003eCantidad de transacciones=%{y}\\u003cextra\\u003e\\u003c\\u002fextra\\u003e\",\"legendgroup\":\"bank transfer\",\"line\":{\"color\":\"#00cc96\",\"dash\":\"solid\"},\"marker\":{\"symbol\":\"circle\"},\"mode\":\"lines+markers\",\"name\":\"bank transfer\",\"orientation\":\"v\",\"showlegend\":false,\"x\":[1,2,3,4,5,6,7,8,9,10,11,12],\"xaxis\":\"x\",\"y\":[91,84,76,106,80,101,86,88,98,90,89,80],\"yaxis\":\"y\",\"type\":\"scatter\"},{\"hovertemplate\":\"Canal de venta=credit card\\u003cbr\\u003eIs An Alien=0.0\\u003cbr\\u003eMes de la transacci\\u00f3n=%{x}\\u003cbr\\u003eCantidad de transacciones=%{y}\\u003cextra\\u003e\\u003c\\u002fextra\\u003e\",\"legendgroup\":\"credit card\",\"line\":{\"color\":\"#ab63fa\",\"dash\":\"solid\"},\"marker\":{\"symbol\":\"circle\"},\"mode\":\"lines+markers\",\"name\":\"credit card\",\"orientation\":\"v\",\"showlegend\":true,\"x\":[1,2,3,4,5,6,7,8,9,10,11,12],\"xaxis\":\"x\",\"y\":[245,229,289,258,257,265,282,268,266,261,275,239],\"yaxis\":\"y\",\"type\":\"scatter\"},{\"hovertemplate\":\"Canal de venta=credit card\\u003cbr\\u003eIs An Alien=1.0\\u003cbr\\u003eMes de la transacci\\u00f3n=%{x}\\u003cbr\\u003eCantidad de transacciones=%{y}\\u003cextra\\u003e\\u003c\\u002fextra\\u003e\",\"legendgroup\":\"credit card\",\"line\":{\"color\":\"#ab63fa\",\"dash\":\"solid\"},\"marker\":{\"symbol\":\"circle\"},\"mode\":\"lines+markers\",\"name\":\"credit card\",\"orientation\":\"v\",\"showlegend\":false,\"x\":[1,2,3,4,5,6,7,8,9,10,11,12],\"xaxis\":\"x\",\"y\":[72,73,100,92,101,105,87,88,77,91,96,90],\"yaxis\":\"y\",\"type\":\"scatter\"}],                        {\"template\":{\"data\":{\"histogram2dcontour\":[{\"type\":\"histogram2dcontour\",\"colorbar\":{\"outlinewidth\":0,\"ticks\":\"\"},\"colorscale\":[[0.0,\"#0d0887\"],[0.1111111111111111,\"#46039f\"],[0.2222222222222222,\"#7201a8\"],[0.3333333333333333,\"#9c179e\"],[0.4444444444444444,\"#bd3786\"],[0.5555555555555556,\"#d8576b\"],[0.6666666666666666,\"#ed7953\"],[0.7777777777777778,\"#fb9f3a\"],[0.8888888888888888,\"#fdca26\"],[1.0,\"#f0f921\"]]}],\"choropleth\":[{\"type\":\"choropleth\",\"colorbar\":{\"outlinewidth\":0,\"ticks\":\"\"}}],\"histogram2d\":[{\"type\":\"histogram2d\",\"colorbar\":{\"outlinewidth\":0,\"ticks\":\"\"},\"colorscale\":[[0.0,\"#0d0887\"],[0.1111111111111111,\"#46039f\"],[0.2222222222222222,\"#7201a8\"],[0.3333333333333333,\"#9c179e\"],[0.4444444444444444,\"#bd3786\"],[0.5555555555555556,\"#d8576b\"],[0.6666666666666666,\"#ed7953\"],[0.7777777777777778,\"#fb9f3a\"],[0.8888888888888888,\"#fdca26\"],[1.0,\"#f0f921\"]]}],\"heatmap\":[{\"type\":\"heatmap\",\"colorbar\":{\"outlinewidth\":0,\"ticks\":\"\"},\"colorscale\":[[0.0,\"#0d0887\"],[0.1111111111111111,\"#46039f\"],[0.2222222222222222,\"#7201a8\"],[0.3333333333333333,\"#9c179e\"],[0.4444444444444444,\"#bd3786\"],[0.5555555555555556,\"#d8576b\"],[0.6666666666666666,\"#ed7953\"],[0.7777777777777778,\"#fb9f3a\"],[0.8888888888888888,\"#fdca26\"],[1.0,\"#f0f921\"]]}],\"heatmapgl\":[{\"type\":\"heatmapgl\",\"colorbar\":{\"outlinewidth\":0,\"ticks\":\"\"},\"colorscale\":[[0.0,\"#0d0887\"],[0.1111111111111111,\"#46039f\"],[0.2222222222222222,\"#7201a8\"],[0.3333333333333333,\"#9c179e\"],[0.4444444444444444,\"#bd3786\"],[0.5555555555555556,\"#d8576b\"],[0.6666666666666666,\"#ed7953\"],[0.7777777777777778,\"#fb9f3a\"],[0.8888888888888888,\"#fdca26\"],[1.0,\"#f0f921\"]]}],\"contourcarpet\":[{\"type\":\"contourcarpet\",\"colorbar\":{\"outlinewidth\":0,\"ticks\":\"\"}}],\"contour\":[{\"type\":\"contour\",\"colorbar\":{\"outlinewidth\":0,\"ticks\":\"\"},\"colorscale\":[[0.0,\"#0d0887\"],[0.1111111111111111,\"#46039f\"],[0.2222222222222222,\"#7201a8\"],[0.3333333333333333,\"#9c179e\"],[0.4444444444444444,\"#bd3786\"],[0.5555555555555556,\"#d8576b\"],[0.6666666666666666,\"#ed7953\"],[0.7777777777777778,\"#fb9f3a\"],[0.8888888888888888,\"#fdca26\"],[1.0,\"#f0f921\"]]}],\"surface\":[{\"type\":\"surface\",\"colorbar\":{\"outlinewidth\":0,\"ticks\":\"\"},\"colorscale\":[[0.0,\"#0d0887\"],[0.1111111111111111,\"#46039f\"],[0.2222222222222222,\"#7201a8\"],[0.3333333333333333,\"#9c179e\"],[0.4444444444444444,\"#bd3786\"],[0.5555555555555556,\"#d8576b\"],[0.6666666666666666,\"#ed7953\"],[0.7777777777777778,\"#fb9f3a\"],[0.8888888888888888,\"#fdca26\"],[1.0,\"#f0f921\"]]}],\"mesh3d\":[{\"type\":\"mesh3d\",\"colorbar\":{\"outlinewidth\":0,\"ticks\":\"\"}}],\"scatter\":[{\"fillpattern\":{\"fillmode\":\"overlay\",\"size\":10,\"solidity\":0.2},\"type\":\"scatter\"}],\"parcoords\":[{\"type\":\"parcoords\",\"line\":{\"colorbar\":{\"outlinewidth\":0,\"ticks\":\"\"}}}],\"scatterpolargl\":[{\"type\":\"scatterpolargl\",\"marker\":{\"colorbar\":{\"outlinewidth\":0,\"ticks\":\"\"}}}],\"bar\":[{\"error_x\":{\"color\":\"#2a3f5f\"},\"error_y\":{\"color\":\"#2a3f5f\"},\"marker\":{\"line\":{\"color\":\"#E5ECF6\",\"width\":0.5},\"pattern\":{\"fillmode\":\"overlay\",\"size\":10,\"solidity\":0.2}},\"type\":\"bar\"}],\"scattergeo\":[{\"type\":\"scattergeo\",\"marker\":{\"colorbar\":{\"outlinewidth\":0,\"ticks\":\"\"}}}],\"scatterpolar\":[{\"type\":\"scatterpolar\",\"marker\":{\"colorbar\":{\"outlinewidth\":0,\"ticks\":\"\"}}}],\"histogram\":[{\"marker\":{\"pattern\":{\"fillmode\":\"overlay\",\"size\":10,\"solidity\":0.2}},\"type\":\"histogram\"}],\"scattergl\":[{\"type\":\"scattergl\",\"marker\":{\"colorbar\":{\"outlinewidth\":0,\"ticks\":\"\"}}}],\"scatter3d\":[{\"type\":\"scatter3d\",\"line\":{\"colorbar\":{\"outlinewidth\":0,\"ticks\":\"\"}},\"marker\":{\"colorbar\":{\"outlinewidth\":0,\"ticks\":\"\"}}}],\"scattermapbox\":[{\"type\":\"scattermapbox\",\"marker\":{\"colorbar\":{\"outlinewidth\":0,\"ticks\":\"\"}}}],\"scatterternary\":[{\"type\":\"scatterternary\",\"marker\":{\"colorbar\":{\"outlinewidth\":0,\"ticks\":\"\"}}}],\"scattercarpet\":[{\"type\":\"scattercarpet\",\"marker\":{\"colorbar\":{\"outlinewidth\":0,\"ticks\":\"\"}}}],\"carpet\":[{\"aaxis\":{\"endlinecolor\":\"#2a3f5f\",\"gridcolor\":\"white\",\"linecolor\":\"white\",\"minorgridcolor\":\"white\",\"startlinecolor\":\"#2a3f5f\"},\"baxis\":{\"endlinecolor\":\"#2a3f5f\",\"gridcolor\":\"white\",\"linecolor\":\"white\",\"minorgridcolor\":\"white\",\"startlinecolor\":\"#2a3f5f\"},\"type\":\"carpet\"}],\"table\":[{\"cells\":{\"fill\":{\"color\":\"#EBF0F8\"},\"line\":{\"color\":\"white\"}},\"header\":{\"fill\":{\"color\":\"#C8D4E3\"},\"line\":{\"color\":\"white\"}},\"type\":\"table\"}],\"barpolar\":[{\"marker\":{\"line\":{\"color\":\"#E5ECF6\",\"width\":0.5},\"pattern\":{\"fillmode\":\"overlay\",\"size\":10,\"solidity\":0.2}},\"type\":\"barpolar\"}],\"pie\":[{\"automargin\":true,\"type\":\"pie\"}]},\"layout\":{\"autotypenumbers\":\"strict\",\"colorway\":[\"#636efa\",\"#EF553B\",\"#00cc96\",\"#ab63fa\",\"#FFA15A\",\"#19d3f3\",\"#FF6692\",\"#B6E880\",\"#FF97FF\",\"#FECB52\"],\"font\":{\"color\":\"#2a3f5f\"},\"hovermode\":\"closest\",\"hoverlabel\":{\"align\":\"left\"},\"paper_bgcolor\":\"white\",\"plot_bgcolor\":\"#E5ECF6\",\"polar\":{\"bgcolor\":\"#E5ECF6\",\"angularaxis\":{\"gridcolor\":\"white\",\"linecolor\":\"white\",\"ticks\":\"\"},\"radialaxis\":{\"gridcolor\":\"white\",\"linecolor\":\"white\",\"ticks\":\"\"}},\"ternary\":{\"bgcolor\":\"#E5ECF6\",\"aaxis\":{\"gridcolor\":\"white\",\"linecolor\":\"white\",\"ticks\":\"\"},\"baxis\":{\"gridcolor\":\"white\",\"linecolor\":\"white\",\"ticks\":\"\"},\"caxis\":{\"gridcolor\":\"white\",\"linecolor\":\"white\",\"ticks\":\"\"}},\"coloraxis\":{\"colorbar\":{\"outlinewidth\":0,\"ticks\":\"\"}},\"colorscale\":{\"sequential\":[[0.0,\"#0d0887\"],[0.1111111111111111,\"#46039f\"],[0.2222222222222222,\"#7201a8\"],[0.3333333333333333,\"#9c179e\"],[0.4444444444444444,\"#bd3786\"],[0.5555555555555556,\"#d8576b\"],[0.6666666666666666,\"#ed7953\"],[0.7777777777777778,\"#fb9f3a\"],[0.8888888888888888,\"#fdca26\"],[1.0,\"#f0f921\"]],\"sequentialminus\":[[0.0,\"#0d0887\"],[0.1111111111111111,\"#46039f\"],[0.2222222222222222,\"#7201a8\"],[0.3333333333333333,\"#9c179e\"],[0.4444444444444444,\"#bd3786\"],[0.5555555555555556,\"#d8576b\"],[0.6666666666666666,\"#ed7953\"],[0.7777777777777778,\"#fb9f3a\"],[0.8888888888888888,\"#fdca26\"],[1.0,\"#f0f921\"]],\"diverging\":[[0,\"#8e0152\"],[0.1,\"#c51b7d\"],[0.2,\"#de77ae\"],[0.3,\"#f1b6da\"],[0.4,\"#fde0ef\"],[0.5,\"#f7f7f7\"],[0.6,\"#e6f5d0\"],[0.7,\"#b8e186\"],[0.8,\"#7fbc41\"],[0.9,\"#4d9221\"],[1,\"#276419\"]]},\"xaxis\":{\"gridcolor\":\"white\",\"linecolor\":\"white\",\"ticks\":\"\",\"title\":{\"standoff\":15},\"zerolinecolor\":\"white\",\"automargin\":true,\"zerolinewidth\":2},\"yaxis\":{\"gridcolor\":\"white\",\"linecolor\":\"white\",\"ticks\":\"\",\"title\":{\"standoff\":15},\"zerolinecolor\":\"white\",\"automargin\":true,\"zerolinewidth\":2},\"scene\":{\"xaxis\":{\"backgroundcolor\":\"#E5ECF6\",\"gridcolor\":\"white\",\"linecolor\":\"white\",\"showbackground\":true,\"ticks\":\"\",\"zerolinecolor\":\"white\",\"gridwidth\":2},\"yaxis\":{\"backgroundcolor\":\"#E5ECF6\",\"gridcolor\":\"white\",\"linecolor\":\"white\",\"showbackground\":true,\"ticks\":\"\",\"zerolinecolor\":\"white\",\"gridwidth\":2},\"zaxis\":{\"backgroundcolor\":\"#E5ECF6\",\"gridcolor\":\"white\",\"linecolor\":\"white\",\"showbackground\":true,\"ticks\":\"\",\"zerolinecolor\":\"white\",\"gridwidth\":2}},\"shapedefaults\":{\"line\":{\"color\":\"#2a3f5f\"}},\"annotationdefaults\":{\"arrowcolor\":\"#2a3f5f\",\"arrowhead\":0,\"arrowwidth\":1},\"geo\":{\"bgcolor\":\"white\",\"landcolor\":\"#E5ECF6\",\"subunitcolor\":\"white\",\"showland\":true,\"showlakes\":true,\"lakecolor\":\"white\"},\"title\":{\"x\":0.05},\"mapbox\":{\"style\":\"light\"}}},\"xaxis\":{\"anchor\":\"y\",\"domain\":[0.0,1.0],\"title\":{\"text\":\"Mes de la transacci\\u00f3n\"}},\"yaxis\":{\"anchor\":\"x\",\"domain\":[0.0,1.0],\"title\":{\"text\":\"Cantidad de transacciones\"}},\"legend\":{\"title\":{\"text\":\"Canal de venta\"},\"tracegroupgap\":0},\"title\":{\"text\":\"Cantidad de transacciones mensuales por canal de venta\"}},                        {\"responsive\": true}                    ).then(function(){\n",
              "                            \n",
              "var gd = document.getElementById('53ac06f7-d541-45dd-b82d-dba52a41917a');\n",
              "var x = new MutationObserver(function (mutations, observer) {{\n",
              "        var display = window.getComputedStyle(gd).display;\n",
              "        if (!display || display === 'none') {{\n",
              "            console.log([gd, 'removed!']);\n",
              "            Plotly.purge(gd);\n",
              "            observer.disconnect();\n",
              "        }}\n",
              "}});\n",
              "\n",
              "// Listen for the removal of the full notebook cells\n",
              "var notebookContainer = gd.closest('#notebook-container');\n",
              "if (notebookContainer) {{\n",
              "    x.observe(notebookContainer, {childList: true});\n",
              "}}\n",
              "\n",
              "// Listen for the clearing of the current output cell\n",
              "var outputEl = gd.closest('.output');\n",
              "if (outputEl) {{\n",
              "    x.observe(outputEl, {childList: true});\n",
              "}}\n",
              "\n",
              "                        })                };                            </script>        </div>\n",
              "</body>\n",
              "</html>"
            ]
          },
          "metadata": {}
        },
        {
          "output_type": "display_data",
          "data": {
            "text/html": [
              "<html>\n",
              "<head><meta charset=\"utf-8\" /></head>\n",
              "<body>\n",
              "    <div>            <script src=\"https://cdnjs.cloudflare.com/ajax/libs/mathjax/2.7.5/MathJax.js?config=TeX-AMS-MML_SVG\"></script><script type=\"text/javascript\">if (window.MathJax && window.MathJax.Hub && window.MathJax.Hub.Config) {window.MathJax.Hub.Config({SVG: {font: \"STIX-Web\"}});}</script>                <script type=\"text/javascript\">window.PlotlyConfig = {MathJaxConfig: 'local'};</script>\n",
              "        <script charset=\"utf-8\" src=\"https://cdn.plot.ly/plotly-2.31.1.min.js\"></script>                <div id=\"a7c4ccd9-0a4b-4780-969c-5fbea68e407e\" class=\"plotly-graph-div\" style=\"height:525px; width:100%;\"></div>            <script type=\"text/javascript\">                                    window.PLOTLYENV=window.PLOTLYENV || {};                                    if (document.getElementById(\"a7c4ccd9-0a4b-4780-969c-5fbea68e407e\")) {                    Plotly.newPlot(                        \"a7c4ccd9-0a4b-4780-969c-5fbea68e407e\",                        [{\"alignmentgroup\":\"True\",\"hovertemplate\":\"Categor\\u00eda de producto=clothing\\u003cbr\\u003eM\\u00e9todo de pago=%{x}\\u003cbr\\u003eCantidad de transacciones=%{y}\\u003cextra\\u003e\\u003c\\u002fextra\\u003e\",\"legendgroup\":\"clothing\",\"marker\":{\"color\":\"#636efa\",\"pattern\":{\"shape\":\"\"}},\"name\":\"clothing\",\"offsetgroup\":\"clothing\",\"orientation\":\"v\",\"showlegend\":true,\"textposition\":\"auto\",\"x\":[\"PayPal\",\"bank transfer\",\"credit card\",\"debit card\"],\"xaxis\":\"x\",\"y\":[605,610,647,633],\"yaxis\":\"y\",\"type\":\"bar\"},{\"alignmentgroup\":\"True\",\"hovertemplate\":\"Categor\\u00eda de producto=electronics\\u003cbr\\u003eM\\u00e9todo de pago=%{x}\\u003cbr\\u003eCantidad de transacciones=%{y}\\u003cextra\\u003e\\u003c\\u002fextra\\u003e\",\"legendgroup\":\"electronics\",\"marker\":{\"color\":\"#EF553B\",\"pattern\":{\"shape\":\"\"}},\"name\":\"electronics\",\"offsetgroup\":\"electronics\",\"orientation\":\"v\",\"showlegend\":true,\"textposition\":\"auto\",\"x\":[\"PayPal\",\"bank transfer\",\"credit card\",\"debit card\"],\"xaxis\":\"x\",\"y\":[642,605,621,657],\"yaxis\":\"y\",\"type\":\"bar\"},{\"alignmentgroup\":\"True\",\"hovertemplate\":\"Categor\\u00eda de producto=health & beauty\\u003cbr\\u003eM\\u00e9todo de pago=%{x}\\u003cbr\\u003eCantidad de transacciones=%{y}\\u003cextra\\u003e\\u003c\\u002fextra\\u003e\",\"legendgroup\":\"health & beauty\",\"marker\":{\"color\":\"#00cc96\",\"pattern\":{\"shape\":\"\"}},\"name\":\"health & beauty\",\"offsetgroup\":\"health & beauty\",\"orientation\":\"v\",\"showlegend\":true,\"textposition\":\"auto\",\"x\":[\"PayPal\",\"bank transfer\",\"credit card\",\"debit card\"],\"xaxis\":\"x\",\"y\":[588,670,602,640],\"yaxis\":\"y\",\"type\":\"bar\"},{\"alignmentgroup\":\"True\",\"hovertemplate\":\"Categor\\u00eda de producto=home & garden\\u003cbr\\u003eM\\u00e9todo de pago=%{x}\\u003cbr\\u003eCantidad de transacciones=%{y}\\u003cextra\\u003e\\u003c\\u002fextra\\u003e\",\"legendgroup\":\"home & garden\",\"marker\":{\"color\":\"#ab63fa\",\"pattern\":{\"shape\":\"\"}},\"name\":\"home & garden\",\"offsetgroup\":\"home & garden\",\"orientation\":\"v\",\"showlegend\":true,\"textposition\":\"auto\",\"x\":[\"PayPal\",\"bank transfer\",\"credit card\",\"debit card\"],\"xaxis\":\"x\",\"y\":[609,632,610,669],\"yaxis\":\"y\",\"type\":\"bar\"},{\"alignmentgroup\":\"True\",\"hovertemplate\":\"Categor\\u00eda de producto=toys & games\\u003cbr\\u003eM\\u00e9todo de pago=%{x}\\u003cbr\\u003eCantidad de transacciones=%{y}\\u003cextra\\u003e\\u003c\\u002fextra\\u003e\",\"legendgroup\":\"toys & games\",\"marker\":{\"color\":\"#FFA15A\",\"pattern\":{\"shape\":\"\"}},\"name\":\"toys & games\",\"offsetgroup\":\"toys & games\",\"orientation\":\"v\",\"showlegend\":true,\"textposition\":\"auto\",\"x\":[\"PayPal\",\"bank transfer\",\"credit card\",\"debit card\"],\"xaxis\":\"x\",\"y\":[612,629,654,582],\"yaxis\":\"y\",\"type\":\"bar\"}],                        {\"template\":{\"data\":{\"histogram2dcontour\":[{\"type\":\"histogram2dcontour\",\"colorbar\":{\"outlinewidth\":0,\"ticks\":\"\"},\"colorscale\":[[0.0,\"#0d0887\"],[0.1111111111111111,\"#46039f\"],[0.2222222222222222,\"#7201a8\"],[0.3333333333333333,\"#9c179e\"],[0.4444444444444444,\"#bd3786\"],[0.5555555555555556,\"#d8576b\"],[0.6666666666666666,\"#ed7953\"],[0.7777777777777778,\"#fb9f3a\"],[0.8888888888888888,\"#fdca26\"],[1.0,\"#f0f921\"]]}],\"choropleth\":[{\"type\":\"choropleth\",\"colorbar\":{\"outlinewidth\":0,\"ticks\":\"\"}}],\"histogram2d\":[{\"type\":\"histogram2d\",\"colorbar\":{\"outlinewidth\":0,\"ticks\":\"\"},\"colorscale\":[[0.0,\"#0d0887\"],[0.1111111111111111,\"#46039f\"],[0.2222222222222222,\"#7201a8\"],[0.3333333333333333,\"#9c179e\"],[0.4444444444444444,\"#bd3786\"],[0.5555555555555556,\"#d8576b\"],[0.6666666666666666,\"#ed7953\"],[0.7777777777777778,\"#fb9f3a\"],[0.8888888888888888,\"#fdca26\"],[1.0,\"#f0f921\"]]}],\"heatmap\":[{\"type\":\"heatmap\",\"colorbar\":{\"outlinewidth\":0,\"ticks\":\"\"},\"colorscale\":[[0.0,\"#0d0887\"],[0.1111111111111111,\"#46039f\"],[0.2222222222222222,\"#7201a8\"],[0.3333333333333333,\"#9c179e\"],[0.4444444444444444,\"#bd3786\"],[0.5555555555555556,\"#d8576b\"],[0.6666666666666666,\"#ed7953\"],[0.7777777777777778,\"#fb9f3a\"],[0.8888888888888888,\"#fdca26\"],[1.0,\"#f0f921\"]]}],\"heatmapgl\":[{\"type\":\"heatmapgl\",\"colorbar\":{\"outlinewidth\":0,\"ticks\":\"\"},\"colorscale\":[[0.0,\"#0d0887\"],[0.1111111111111111,\"#46039f\"],[0.2222222222222222,\"#7201a8\"],[0.3333333333333333,\"#9c179e\"],[0.4444444444444444,\"#bd3786\"],[0.5555555555555556,\"#d8576b\"],[0.6666666666666666,\"#ed7953\"],[0.7777777777777778,\"#fb9f3a\"],[0.8888888888888888,\"#fdca26\"],[1.0,\"#f0f921\"]]}],\"contourcarpet\":[{\"type\":\"contourcarpet\",\"colorbar\":{\"outlinewidth\":0,\"ticks\":\"\"}}],\"contour\":[{\"type\":\"contour\",\"colorbar\":{\"outlinewidth\":0,\"ticks\":\"\"},\"colorscale\":[[0.0,\"#0d0887\"],[0.1111111111111111,\"#46039f\"],[0.2222222222222222,\"#7201a8\"],[0.3333333333333333,\"#9c179e\"],[0.4444444444444444,\"#bd3786\"],[0.5555555555555556,\"#d8576b\"],[0.6666666666666666,\"#ed7953\"],[0.7777777777777778,\"#fb9f3a\"],[0.8888888888888888,\"#fdca26\"],[1.0,\"#f0f921\"]]}],\"surface\":[{\"type\":\"surface\",\"colorbar\":{\"outlinewidth\":0,\"ticks\":\"\"},\"colorscale\":[[0.0,\"#0d0887\"],[0.1111111111111111,\"#46039f\"],[0.2222222222222222,\"#7201a8\"],[0.3333333333333333,\"#9c179e\"],[0.4444444444444444,\"#bd3786\"],[0.5555555555555556,\"#d8576b\"],[0.6666666666666666,\"#ed7953\"],[0.7777777777777778,\"#fb9f3a\"],[0.8888888888888888,\"#fdca26\"],[1.0,\"#f0f921\"]]}],\"mesh3d\":[{\"type\":\"mesh3d\",\"colorbar\":{\"outlinewidth\":0,\"ticks\":\"\"}}],\"scatter\":[{\"fillpattern\":{\"fillmode\":\"overlay\",\"size\":10,\"solidity\":0.2},\"type\":\"scatter\"}],\"parcoords\":[{\"type\":\"parcoords\",\"line\":{\"colorbar\":{\"outlinewidth\":0,\"ticks\":\"\"}}}],\"scatterpolargl\":[{\"type\":\"scatterpolargl\",\"marker\":{\"colorbar\":{\"outlinewidth\":0,\"ticks\":\"\"}}}],\"bar\":[{\"error_x\":{\"color\":\"#2a3f5f\"},\"error_y\":{\"color\":\"#2a3f5f\"},\"marker\":{\"line\":{\"color\":\"#E5ECF6\",\"width\":0.5},\"pattern\":{\"fillmode\":\"overlay\",\"size\":10,\"solidity\":0.2}},\"type\":\"bar\"}],\"scattergeo\":[{\"type\":\"scattergeo\",\"marker\":{\"colorbar\":{\"outlinewidth\":0,\"ticks\":\"\"}}}],\"scatterpolar\":[{\"type\":\"scatterpolar\",\"marker\":{\"colorbar\":{\"outlinewidth\":0,\"ticks\":\"\"}}}],\"histogram\":[{\"marker\":{\"pattern\":{\"fillmode\":\"overlay\",\"size\":10,\"solidity\":0.2}},\"type\":\"histogram\"}],\"scattergl\":[{\"type\":\"scattergl\",\"marker\":{\"colorbar\":{\"outlinewidth\":0,\"ticks\":\"\"}}}],\"scatter3d\":[{\"type\":\"scatter3d\",\"line\":{\"colorbar\":{\"outlinewidth\":0,\"ticks\":\"\"}},\"marker\":{\"colorbar\":{\"outlinewidth\":0,\"ticks\":\"\"}}}],\"scattermapbox\":[{\"type\":\"scattermapbox\",\"marker\":{\"colorbar\":{\"outlinewidth\":0,\"ticks\":\"\"}}}],\"scatterternary\":[{\"type\":\"scatterternary\",\"marker\":{\"colorbar\":{\"outlinewidth\":0,\"ticks\":\"\"}}}],\"scattercarpet\":[{\"type\":\"scattercarpet\",\"marker\":{\"colorbar\":{\"outlinewidth\":0,\"ticks\":\"\"}}}],\"carpet\":[{\"aaxis\":{\"endlinecolor\":\"#2a3f5f\",\"gridcolor\":\"white\",\"linecolor\":\"white\",\"minorgridcolor\":\"white\",\"startlinecolor\":\"#2a3f5f\"},\"baxis\":{\"endlinecolor\":\"#2a3f5f\",\"gridcolor\":\"white\",\"linecolor\":\"white\",\"minorgridcolor\":\"white\",\"startlinecolor\":\"#2a3f5f\"},\"type\":\"carpet\"}],\"table\":[{\"cells\":{\"fill\":{\"color\":\"#EBF0F8\"},\"line\":{\"color\":\"white\"}},\"header\":{\"fill\":{\"color\":\"#C8D4E3\"},\"line\":{\"color\":\"white\"}},\"type\":\"table\"}],\"barpolar\":[{\"marker\":{\"line\":{\"color\":\"#E5ECF6\",\"width\":0.5},\"pattern\":{\"fillmode\":\"overlay\",\"size\":10,\"solidity\":0.2}},\"type\":\"barpolar\"}],\"pie\":[{\"automargin\":true,\"type\":\"pie\"}]},\"layout\":{\"autotypenumbers\":\"strict\",\"colorway\":[\"#636efa\",\"#EF553B\",\"#00cc96\",\"#ab63fa\",\"#FFA15A\",\"#19d3f3\",\"#FF6692\",\"#B6E880\",\"#FF97FF\",\"#FECB52\"],\"font\":{\"color\":\"#2a3f5f\"},\"hovermode\":\"closest\",\"hoverlabel\":{\"align\":\"left\"},\"paper_bgcolor\":\"white\",\"plot_bgcolor\":\"#E5ECF6\",\"polar\":{\"bgcolor\":\"#E5ECF6\",\"angularaxis\":{\"gridcolor\":\"white\",\"linecolor\":\"white\",\"ticks\":\"\"},\"radialaxis\":{\"gridcolor\":\"white\",\"linecolor\":\"white\",\"ticks\":\"\"}},\"ternary\":{\"bgcolor\":\"#E5ECF6\",\"aaxis\":{\"gridcolor\":\"white\",\"linecolor\":\"white\",\"ticks\":\"\"},\"baxis\":{\"gridcolor\":\"white\",\"linecolor\":\"white\",\"ticks\":\"\"},\"caxis\":{\"gridcolor\":\"white\",\"linecolor\":\"white\",\"ticks\":\"\"}},\"coloraxis\":{\"colorbar\":{\"outlinewidth\":0,\"ticks\":\"\"}},\"colorscale\":{\"sequential\":[[0.0,\"#0d0887\"],[0.1111111111111111,\"#46039f\"],[0.2222222222222222,\"#7201a8\"],[0.3333333333333333,\"#9c179e\"],[0.4444444444444444,\"#bd3786\"],[0.5555555555555556,\"#d8576b\"],[0.6666666666666666,\"#ed7953\"],[0.7777777777777778,\"#fb9f3a\"],[0.8888888888888888,\"#fdca26\"],[1.0,\"#f0f921\"]],\"sequentialminus\":[[0.0,\"#0d0887\"],[0.1111111111111111,\"#46039f\"],[0.2222222222222222,\"#7201a8\"],[0.3333333333333333,\"#9c179e\"],[0.4444444444444444,\"#bd3786\"],[0.5555555555555556,\"#d8576b\"],[0.6666666666666666,\"#ed7953\"],[0.7777777777777778,\"#fb9f3a\"],[0.8888888888888888,\"#fdca26\"],[1.0,\"#f0f921\"]],\"diverging\":[[0,\"#8e0152\"],[0.1,\"#c51b7d\"],[0.2,\"#de77ae\"],[0.3,\"#f1b6da\"],[0.4,\"#fde0ef\"],[0.5,\"#f7f7f7\"],[0.6,\"#e6f5d0\"],[0.7,\"#b8e186\"],[0.8,\"#7fbc41\"],[0.9,\"#4d9221\"],[1,\"#276419\"]]},\"xaxis\":{\"gridcolor\":\"white\",\"linecolor\":\"white\",\"ticks\":\"\",\"title\":{\"standoff\":15},\"zerolinecolor\":\"white\",\"automargin\":true,\"zerolinewidth\":2},\"yaxis\":{\"gridcolor\":\"white\",\"linecolor\":\"white\",\"ticks\":\"\",\"title\":{\"standoff\":15},\"zerolinecolor\":\"white\",\"automargin\":true,\"zerolinewidth\":2},\"scene\":{\"xaxis\":{\"backgroundcolor\":\"#E5ECF6\",\"gridcolor\":\"white\",\"linecolor\":\"white\",\"showbackground\":true,\"ticks\":\"\",\"zerolinecolor\":\"white\",\"gridwidth\":2},\"yaxis\":{\"backgroundcolor\":\"#E5ECF6\",\"gridcolor\":\"white\",\"linecolor\":\"white\",\"showbackground\":true,\"ticks\":\"\",\"zerolinecolor\":\"white\",\"gridwidth\":2},\"zaxis\":{\"backgroundcolor\":\"#E5ECF6\",\"gridcolor\":\"white\",\"linecolor\":\"white\",\"showbackground\":true,\"ticks\":\"\",\"zerolinecolor\":\"white\",\"gridwidth\":2}},\"shapedefaults\":{\"line\":{\"color\":\"#2a3f5f\"}},\"annotationdefaults\":{\"arrowcolor\":\"#2a3f5f\",\"arrowhead\":0,\"arrowwidth\":1},\"geo\":{\"bgcolor\":\"white\",\"landcolor\":\"#E5ECF6\",\"subunitcolor\":\"white\",\"showland\":true,\"showlakes\":true,\"lakecolor\":\"white\"},\"title\":{\"x\":0.05},\"mapbox\":{\"style\":\"light\"}}},\"xaxis\":{\"anchor\":\"y\",\"domain\":[0.0,1.0],\"title\":{\"text\":\"M\\u00e9todo de pago\"}},\"yaxis\":{\"anchor\":\"x\",\"domain\":[0.0,1.0],\"title\":{\"text\":\"Cantidad de transacciones\"}},\"legend\":{\"title\":{\"text\":\"Categor\\u00eda de producto\"},\"tracegroupgap\":0},\"title\":{\"text\":\"Humanos: Cantidad de transacciones por categor\\u00eda de producto y m\\u00e9todo de pago\"},\"barmode\":\"group\"},                        {\"responsive\": true}                    ).then(function(){\n",
              "                            \n",
              "var gd = document.getElementById('a7c4ccd9-0a4b-4780-969c-5fbea68e407e');\n",
              "var x = new MutationObserver(function (mutations, observer) {{\n",
              "        var display = window.getComputedStyle(gd).display;\n",
              "        if (!display || display === 'none') {{\n",
              "            console.log([gd, 'removed!']);\n",
              "            Plotly.purge(gd);\n",
              "            observer.disconnect();\n",
              "        }}\n",
              "}});\n",
              "\n",
              "// Listen for the removal of the full notebook cells\n",
              "var notebookContainer = gd.closest('#notebook-container');\n",
              "if (notebookContainer) {{\n",
              "    x.observe(notebookContainer, {childList: true});\n",
              "}}\n",
              "\n",
              "// Listen for the clearing of the current output cell\n",
              "var outputEl = gd.closest('.output');\n",
              "if (outputEl) {{\n",
              "    x.observe(outputEl, {childList: true});\n",
              "}}\n",
              "\n",
              "                        })                };                            </script>        </div>\n",
              "</body>\n",
              "</html>"
            ]
          },
          "metadata": {}
        },
        {
          "output_type": "display_data",
          "data": {
            "text/html": [
              "<html>\n",
              "<head><meta charset=\"utf-8\" /></head>\n",
              "<body>\n",
              "    <div>            <script src=\"https://cdnjs.cloudflare.com/ajax/libs/mathjax/2.7.5/MathJax.js?config=TeX-AMS-MML_SVG\"></script><script type=\"text/javascript\">if (window.MathJax && window.MathJax.Hub && window.MathJax.Hub.Config) {window.MathJax.Hub.Config({SVG: {font: \"STIX-Web\"}});}</script>                <script type=\"text/javascript\">window.PlotlyConfig = {MathJaxConfig: 'local'};</script>\n",
              "        <script charset=\"utf-8\" src=\"https://cdn.plot.ly/plotly-2.31.1.min.js\"></script>                <div id=\"c4685b96-ce24-48ce-8bdc-f9095a660245\" class=\"plotly-graph-div\" style=\"height:525px; width:100%;\"></div>            <script type=\"text/javascript\">                                    window.PLOTLYENV=window.PLOTLYENV || {};                                    if (document.getElementById(\"c4685b96-ce24-48ce-8bdc-f9095a660245\")) {                    Plotly.newPlot(                        \"c4685b96-ce24-48ce-8bdc-f9095a660245\",                        [{\"alignmentgroup\":\"True\",\"hovertemplate\":\"Categor\\u00eda de producto=clothing\\u003cbr\\u003eM\\u00e9todo de pago=%{x}\\u003cbr\\u003eCantidad de transacciones=%{y}\\u003cextra\\u003e\\u003c\\u002fextra\\u003e\",\"legendgroup\":\"clothing\",\"marker\":{\"color\":\"#636efa\",\"pattern\":{\"shape\":\"\"}},\"name\":\"clothing\",\"offsetgroup\":\"clothing\",\"orientation\":\"v\",\"showlegend\":true,\"textposition\":\"auto\",\"x\":[\"PayPal\",\"bank transfer\",\"credit card\",\"debit card\"],\"xaxis\":\"x\",\"y\":[185,191,217,213],\"yaxis\":\"y\",\"type\":\"bar\"},{\"alignmentgroup\":\"True\",\"hovertemplate\":\"Categor\\u00eda de producto=electronics\\u003cbr\\u003eM\\u00e9todo de pago=%{x}\\u003cbr\\u003eCantidad de transacciones=%{y}\\u003cextra\\u003e\\u003c\\u002fextra\\u003e\",\"legendgroup\":\"electronics\",\"marker\":{\"color\":\"#EF553B\",\"pattern\":{\"shape\":\"\"}},\"name\":\"electronics\",\"offsetgroup\":\"electronics\",\"orientation\":\"v\",\"showlegend\":true,\"textposition\":\"auto\",\"x\":[\"PayPal\",\"bank transfer\",\"credit card\",\"debit card\"],\"xaxis\":\"x\",\"y\":[211,225,218,224],\"yaxis\":\"y\",\"type\":\"bar\"},{\"alignmentgroup\":\"True\",\"hovertemplate\":\"Categor\\u00eda de producto=health & beauty\\u003cbr\\u003eM\\u00e9todo de pago=%{x}\\u003cbr\\u003eCantidad de transacciones=%{y}\\u003cextra\\u003e\\u003c\\u002fextra\\u003e\",\"legendgroup\":\"health & beauty\",\"marker\":{\"color\":\"#00cc96\",\"pattern\":{\"shape\":\"\"}},\"name\":\"health & beauty\",\"offsetgroup\":\"health & beauty\",\"orientation\":\"v\",\"showlegend\":true,\"textposition\":\"auto\",\"x\":[\"PayPal\",\"bank transfer\",\"credit card\",\"debit card\"],\"xaxis\":\"x\",\"y\":[216,227,207,206],\"yaxis\":\"y\",\"type\":\"bar\"},{\"alignmentgroup\":\"True\",\"hovertemplate\":\"Categor\\u00eda de producto=home & garden\\u003cbr\\u003eM\\u00e9todo de pago=%{x}\\u003cbr\\u003eCantidad de transacciones=%{y}\\u003cextra\\u003e\\u003c\\u002fextra\\u003e\",\"legendgroup\":\"home & garden\",\"marker\":{\"color\":\"#ab63fa\",\"pattern\":{\"shape\":\"\"}},\"name\":\"home & garden\",\"offsetgroup\":\"home & garden\",\"orientation\":\"v\",\"showlegend\":true,\"textposition\":\"auto\",\"x\":[\"PayPal\",\"bank transfer\",\"credit card\",\"debit card\"],\"xaxis\":\"x\",\"y\":[215,220,218,228],\"yaxis\":\"y\",\"type\":\"bar\"},{\"alignmentgroup\":\"True\",\"hovertemplate\":\"Categor\\u00eda de producto=toys & games\\u003cbr\\u003eM\\u00e9todo de pago=%{x}\\u003cbr\\u003eCantidad de transacciones=%{y}\\u003cextra\\u003e\\u003c\\u002fextra\\u003e\",\"legendgroup\":\"toys & games\",\"marker\":{\"color\":\"#FFA15A\",\"pattern\":{\"shape\":\"\"}},\"name\":\"toys & games\",\"offsetgroup\":\"toys & games\",\"orientation\":\"v\",\"showlegend\":true,\"textposition\":\"auto\",\"x\":[\"PayPal\",\"bank transfer\",\"credit card\",\"debit card\"],\"xaxis\":\"x\",\"y\":[221,206,212,221],\"yaxis\":\"y\",\"type\":\"bar\"}],                        {\"template\":{\"data\":{\"histogram2dcontour\":[{\"type\":\"histogram2dcontour\",\"colorbar\":{\"outlinewidth\":0,\"ticks\":\"\"},\"colorscale\":[[0.0,\"#0d0887\"],[0.1111111111111111,\"#46039f\"],[0.2222222222222222,\"#7201a8\"],[0.3333333333333333,\"#9c179e\"],[0.4444444444444444,\"#bd3786\"],[0.5555555555555556,\"#d8576b\"],[0.6666666666666666,\"#ed7953\"],[0.7777777777777778,\"#fb9f3a\"],[0.8888888888888888,\"#fdca26\"],[1.0,\"#f0f921\"]]}],\"choropleth\":[{\"type\":\"choropleth\",\"colorbar\":{\"outlinewidth\":0,\"ticks\":\"\"}}],\"histogram2d\":[{\"type\":\"histogram2d\",\"colorbar\":{\"outlinewidth\":0,\"ticks\":\"\"},\"colorscale\":[[0.0,\"#0d0887\"],[0.1111111111111111,\"#46039f\"],[0.2222222222222222,\"#7201a8\"],[0.3333333333333333,\"#9c179e\"],[0.4444444444444444,\"#bd3786\"],[0.5555555555555556,\"#d8576b\"],[0.6666666666666666,\"#ed7953\"],[0.7777777777777778,\"#fb9f3a\"],[0.8888888888888888,\"#fdca26\"],[1.0,\"#f0f921\"]]}],\"heatmap\":[{\"type\":\"heatmap\",\"colorbar\":{\"outlinewidth\":0,\"ticks\":\"\"},\"colorscale\":[[0.0,\"#0d0887\"],[0.1111111111111111,\"#46039f\"],[0.2222222222222222,\"#7201a8\"],[0.3333333333333333,\"#9c179e\"],[0.4444444444444444,\"#bd3786\"],[0.5555555555555556,\"#d8576b\"],[0.6666666666666666,\"#ed7953\"],[0.7777777777777778,\"#fb9f3a\"],[0.8888888888888888,\"#fdca26\"],[1.0,\"#f0f921\"]]}],\"heatmapgl\":[{\"type\":\"heatmapgl\",\"colorbar\":{\"outlinewidth\":0,\"ticks\":\"\"},\"colorscale\":[[0.0,\"#0d0887\"],[0.1111111111111111,\"#46039f\"],[0.2222222222222222,\"#7201a8\"],[0.3333333333333333,\"#9c179e\"],[0.4444444444444444,\"#bd3786\"],[0.5555555555555556,\"#d8576b\"],[0.6666666666666666,\"#ed7953\"],[0.7777777777777778,\"#fb9f3a\"],[0.8888888888888888,\"#fdca26\"],[1.0,\"#f0f921\"]]}],\"contourcarpet\":[{\"type\":\"contourcarpet\",\"colorbar\":{\"outlinewidth\":0,\"ticks\":\"\"}}],\"contour\":[{\"type\":\"contour\",\"colorbar\":{\"outlinewidth\":0,\"ticks\":\"\"},\"colorscale\":[[0.0,\"#0d0887\"],[0.1111111111111111,\"#46039f\"],[0.2222222222222222,\"#7201a8\"],[0.3333333333333333,\"#9c179e\"],[0.4444444444444444,\"#bd3786\"],[0.5555555555555556,\"#d8576b\"],[0.6666666666666666,\"#ed7953\"],[0.7777777777777778,\"#fb9f3a\"],[0.8888888888888888,\"#fdca26\"],[1.0,\"#f0f921\"]]}],\"surface\":[{\"type\":\"surface\",\"colorbar\":{\"outlinewidth\":0,\"ticks\":\"\"},\"colorscale\":[[0.0,\"#0d0887\"],[0.1111111111111111,\"#46039f\"],[0.2222222222222222,\"#7201a8\"],[0.3333333333333333,\"#9c179e\"],[0.4444444444444444,\"#bd3786\"],[0.5555555555555556,\"#d8576b\"],[0.6666666666666666,\"#ed7953\"],[0.7777777777777778,\"#fb9f3a\"],[0.8888888888888888,\"#fdca26\"],[1.0,\"#f0f921\"]]}],\"mesh3d\":[{\"type\":\"mesh3d\",\"colorbar\":{\"outlinewidth\":0,\"ticks\":\"\"}}],\"scatter\":[{\"fillpattern\":{\"fillmode\":\"overlay\",\"size\":10,\"solidity\":0.2},\"type\":\"scatter\"}],\"parcoords\":[{\"type\":\"parcoords\",\"line\":{\"colorbar\":{\"outlinewidth\":0,\"ticks\":\"\"}}}],\"scatterpolargl\":[{\"type\":\"scatterpolargl\",\"marker\":{\"colorbar\":{\"outlinewidth\":0,\"ticks\":\"\"}}}],\"bar\":[{\"error_x\":{\"color\":\"#2a3f5f\"},\"error_y\":{\"color\":\"#2a3f5f\"},\"marker\":{\"line\":{\"color\":\"#E5ECF6\",\"width\":0.5},\"pattern\":{\"fillmode\":\"overlay\",\"size\":10,\"solidity\":0.2}},\"type\":\"bar\"}],\"scattergeo\":[{\"type\":\"scattergeo\",\"marker\":{\"colorbar\":{\"outlinewidth\":0,\"ticks\":\"\"}}}],\"scatterpolar\":[{\"type\":\"scatterpolar\",\"marker\":{\"colorbar\":{\"outlinewidth\":0,\"ticks\":\"\"}}}],\"histogram\":[{\"marker\":{\"pattern\":{\"fillmode\":\"overlay\",\"size\":10,\"solidity\":0.2}},\"type\":\"histogram\"}],\"scattergl\":[{\"type\":\"scattergl\",\"marker\":{\"colorbar\":{\"outlinewidth\":0,\"ticks\":\"\"}}}],\"scatter3d\":[{\"type\":\"scatter3d\",\"line\":{\"colorbar\":{\"outlinewidth\":0,\"ticks\":\"\"}},\"marker\":{\"colorbar\":{\"outlinewidth\":0,\"ticks\":\"\"}}}],\"scattermapbox\":[{\"type\":\"scattermapbox\",\"marker\":{\"colorbar\":{\"outlinewidth\":0,\"ticks\":\"\"}}}],\"scatterternary\":[{\"type\":\"scatterternary\",\"marker\":{\"colorbar\":{\"outlinewidth\":0,\"ticks\":\"\"}}}],\"scattercarpet\":[{\"type\":\"scattercarpet\",\"marker\":{\"colorbar\":{\"outlinewidth\":0,\"ticks\":\"\"}}}],\"carpet\":[{\"aaxis\":{\"endlinecolor\":\"#2a3f5f\",\"gridcolor\":\"white\",\"linecolor\":\"white\",\"minorgridcolor\":\"white\",\"startlinecolor\":\"#2a3f5f\"},\"baxis\":{\"endlinecolor\":\"#2a3f5f\",\"gridcolor\":\"white\",\"linecolor\":\"white\",\"minorgridcolor\":\"white\",\"startlinecolor\":\"#2a3f5f\"},\"type\":\"carpet\"}],\"table\":[{\"cells\":{\"fill\":{\"color\":\"#EBF0F8\"},\"line\":{\"color\":\"white\"}},\"header\":{\"fill\":{\"color\":\"#C8D4E3\"},\"line\":{\"color\":\"white\"}},\"type\":\"table\"}],\"barpolar\":[{\"marker\":{\"line\":{\"color\":\"#E5ECF6\",\"width\":0.5},\"pattern\":{\"fillmode\":\"overlay\",\"size\":10,\"solidity\":0.2}},\"type\":\"barpolar\"}],\"pie\":[{\"automargin\":true,\"type\":\"pie\"}]},\"layout\":{\"autotypenumbers\":\"strict\",\"colorway\":[\"#636efa\",\"#EF553B\",\"#00cc96\",\"#ab63fa\",\"#FFA15A\",\"#19d3f3\",\"#FF6692\",\"#B6E880\",\"#FF97FF\",\"#FECB52\"],\"font\":{\"color\":\"#2a3f5f\"},\"hovermode\":\"closest\",\"hoverlabel\":{\"align\":\"left\"},\"paper_bgcolor\":\"white\",\"plot_bgcolor\":\"#E5ECF6\",\"polar\":{\"bgcolor\":\"#E5ECF6\",\"angularaxis\":{\"gridcolor\":\"white\",\"linecolor\":\"white\",\"ticks\":\"\"},\"radialaxis\":{\"gridcolor\":\"white\",\"linecolor\":\"white\",\"ticks\":\"\"}},\"ternary\":{\"bgcolor\":\"#E5ECF6\",\"aaxis\":{\"gridcolor\":\"white\",\"linecolor\":\"white\",\"ticks\":\"\"},\"baxis\":{\"gridcolor\":\"white\",\"linecolor\":\"white\",\"ticks\":\"\"},\"caxis\":{\"gridcolor\":\"white\",\"linecolor\":\"white\",\"ticks\":\"\"}},\"coloraxis\":{\"colorbar\":{\"outlinewidth\":0,\"ticks\":\"\"}},\"colorscale\":{\"sequential\":[[0.0,\"#0d0887\"],[0.1111111111111111,\"#46039f\"],[0.2222222222222222,\"#7201a8\"],[0.3333333333333333,\"#9c179e\"],[0.4444444444444444,\"#bd3786\"],[0.5555555555555556,\"#d8576b\"],[0.6666666666666666,\"#ed7953\"],[0.7777777777777778,\"#fb9f3a\"],[0.8888888888888888,\"#fdca26\"],[1.0,\"#f0f921\"]],\"sequentialminus\":[[0.0,\"#0d0887\"],[0.1111111111111111,\"#46039f\"],[0.2222222222222222,\"#7201a8\"],[0.3333333333333333,\"#9c179e\"],[0.4444444444444444,\"#bd3786\"],[0.5555555555555556,\"#d8576b\"],[0.6666666666666666,\"#ed7953\"],[0.7777777777777778,\"#fb9f3a\"],[0.8888888888888888,\"#fdca26\"],[1.0,\"#f0f921\"]],\"diverging\":[[0,\"#8e0152\"],[0.1,\"#c51b7d\"],[0.2,\"#de77ae\"],[0.3,\"#f1b6da\"],[0.4,\"#fde0ef\"],[0.5,\"#f7f7f7\"],[0.6,\"#e6f5d0\"],[0.7,\"#b8e186\"],[0.8,\"#7fbc41\"],[0.9,\"#4d9221\"],[1,\"#276419\"]]},\"xaxis\":{\"gridcolor\":\"white\",\"linecolor\":\"white\",\"ticks\":\"\",\"title\":{\"standoff\":15},\"zerolinecolor\":\"white\",\"automargin\":true,\"zerolinewidth\":2},\"yaxis\":{\"gridcolor\":\"white\",\"linecolor\":\"white\",\"ticks\":\"\",\"title\":{\"standoff\":15},\"zerolinecolor\":\"white\",\"automargin\":true,\"zerolinewidth\":2},\"scene\":{\"xaxis\":{\"backgroundcolor\":\"#E5ECF6\",\"gridcolor\":\"white\",\"linecolor\":\"white\",\"showbackground\":true,\"ticks\":\"\",\"zerolinecolor\":\"white\",\"gridwidth\":2},\"yaxis\":{\"backgroundcolor\":\"#E5ECF6\",\"gridcolor\":\"white\",\"linecolor\":\"white\",\"showbackground\":true,\"ticks\":\"\",\"zerolinecolor\":\"white\",\"gridwidth\":2},\"zaxis\":{\"backgroundcolor\":\"#E5ECF6\",\"gridcolor\":\"white\",\"linecolor\":\"white\",\"showbackground\":true,\"ticks\":\"\",\"zerolinecolor\":\"white\",\"gridwidth\":2}},\"shapedefaults\":{\"line\":{\"color\":\"#2a3f5f\"}},\"annotationdefaults\":{\"arrowcolor\":\"#2a3f5f\",\"arrowhead\":0,\"arrowwidth\":1},\"geo\":{\"bgcolor\":\"white\",\"landcolor\":\"#E5ECF6\",\"subunitcolor\":\"white\",\"showland\":true,\"showlakes\":true,\"lakecolor\":\"white\"},\"title\":{\"x\":0.05},\"mapbox\":{\"style\":\"light\"}}},\"xaxis\":{\"anchor\":\"y\",\"domain\":[0.0,1.0],\"title\":{\"text\":\"M\\u00e9todo de pago\"}},\"yaxis\":{\"anchor\":\"x\",\"domain\":[0.0,1.0],\"title\":{\"text\":\"Cantidad de transacciones\"}},\"legend\":{\"title\":{\"text\":\"Categor\\u00eda de producto\"},\"tracegroupgap\":0},\"title\":{\"text\":\"Aliens: Cantidad de transacciones por categor\\u00eda de producto y m\\u00e9todo de pago\"},\"barmode\":\"group\"},                        {\"responsive\": true}                    ).then(function(){\n",
              "                            \n",
              "var gd = document.getElementById('c4685b96-ce24-48ce-8bdc-f9095a660245');\n",
              "var x = new MutationObserver(function (mutations, observer) {{\n",
              "        var display = window.getComputedStyle(gd).display;\n",
              "        if (!display || display === 'none') {{\n",
              "            console.log([gd, 'removed!']);\n",
              "            Plotly.purge(gd);\n",
              "            observer.disconnect();\n",
              "        }}\n",
              "}});\n",
              "\n",
              "// Listen for the removal of the full notebook cells\n",
              "var notebookContainer = gd.closest('#notebook-container');\n",
              "if (notebookContainer) {{\n",
              "    x.observe(notebookContainer, {childList: true});\n",
              "}}\n",
              "\n",
              "// Listen for the clearing of the current output cell\n",
              "var outputEl = gd.closest('.output');\n",
              "if (outputEl) {{\n",
              "    x.observe(outputEl, {childList: true});\n",
              "}}\n",
              "\n",
              "                        })                };                            </script>        </div>\n",
              "</body>\n",
              "</html>"
            ]
          },
          "metadata": {}
        },
        {
          "output_type": "display_data",
          "data": {
            "text/html": [
              "<html>\n",
              "<head><meta charset=\"utf-8\" /></head>\n",
              "<body>\n",
              "    <div>            <script src=\"https://cdnjs.cloudflare.com/ajax/libs/mathjax/2.7.5/MathJax.js?config=TeX-AMS-MML_SVG\"></script><script type=\"text/javascript\">if (window.MathJax && window.MathJax.Hub && window.MathJax.Hub.Config) {window.MathJax.Hub.Config({SVG: {font: \"STIX-Web\"}});}</script>                <script type=\"text/javascript\">window.PlotlyConfig = {MathJaxConfig: 'local'};</script>\n",
              "        <script charset=\"utf-8\" src=\"https://cdn.plot.ly/plotly-2.31.1.min.js\"></script>                <div id=\"5e953936-19ef-4bff-a33e-36814c752572\" class=\"plotly-graph-div\" style=\"height:525px; width:100%;\"></div>            <script type=\"text/javascript\">                                    window.PLOTLYENV=window.PLOTLYENV || {};                                    if (document.getElementById(\"5e953936-19ef-4bff-a33e-36814c752572\")) {                    Plotly.newPlot(                        \"5e953936-19ef-4bff-a33e-36814c752572\",                        [{\"hovertemplate\":\"Medio de pago=PayPal\\u003cbr\\u003eIs An Alien=0.0\\u003cbr\\u003eMes de la transacci\\u00f3n=%{x}\\u003cbr\\u003eTotal Monto=%{y}\\u003cextra\\u003e\\u003c\\u002fextra\\u003e\",\"legendgroup\":\"PayPal\",\"line\":{\"color\":\"#636efa\",\"dash\":\"solid\"},\"marker\":{\"symbol\":\"circle\"},\"mode\":\"lines+markers\",\"name\":\"PayPal\",\"orientation\":\"v\",\"showlegend\":true,\"x\":[1,2,3,4,5,6,7,8,9,10,11,12],\"xaxis\":\"x\",\"y\":[52672.71,55117.83,53239.44,53182.51,61342.9,50434.84,57932.57,52281.76,55159.04,56631.7,52277.18,55163.97],\"yaxis\":\"y\",\"type\":\"scatter\"},{\"hovertemplate\":\"Medio de pago=PayPal\\u003cbr\\u003eIs An Alien=1.0\\u003cbr\\u003eMes de la transacci\\u00f3n=%{x}\\u003cbr\\u003eTotal Monto=%{y}\\u003cextra\\u003e\\u003c\\u002fextra\\u003e\",\"legendgroup\":\"PayPal\",\"line\":{\"color\":\"#636efa\",\"dash\":\"solid\"},\"marker\":{\"symbol\":\"circle\"},\"mode\":\"lines+markers\",\"name\":\"PayPal\",\"orientation\":\"v\",\"showlegend\":false,\"x\":[1,2,3,4,5,6,7,8,9,10,11,12],\"xaxis\":\"x\",\"y\":[22355.95,21894.29,27707.24,24024.23,28083.48,22598.35,21458.65,22950.95,20698.79,23023.170000000002,23343.39,11690.1],\"yaxis\":\"y\",\"type\":\"scatter\"},{\"hovertemplate\":\"Medio de pago=debit card\\u003cbr\\u003eIs An Alien=0.0\\u003cbr\\u003eMes de la transacci\\u00f3n=%{x}\\u003cbr\\u003eTotal Monto=%{y}\\u003cextra\\u003e\\u003c\\u002fextra\\u003e\",\"legendgroup\":\"debit card\",\"line\":{\"color\":\"#EF553B\",\"dash\":\"solid\"},\"marker\":{\"symbol\":\"circle\"},\"mode\":\"lines+markers\",\"name\":\"debit card\",\"orientation\":\"v\",\"showlegend\":true,\"x\":[1,2,3,4,5,6,7,8,9,10,11,12],\"xaxis\":\"x\",\"y\":[60570.02,53457.97,53189.88,59573.69,60662.86,55578.32,56745.83,58539.63,53330.44,53648.78,61549.96,59994.38],\"yaxis\":\"y\",\"type\":\"scatter\"},{\"hovertemplate\":\"Medio de pago=debit card\\u003cbr\\u003eIs An Alien=1.0\\u003cbr\\u003eMes de la transacci\\u00f3n=%{x}\\u003cbr\\u003eTotal Monto=%{y}\\u003cextra\\u003e\\u003c\\u002fextra\\u003e\",\"legendgroup\":\"debit card\",\"line\":{\"color\":\"#EF553B\",\"dash\":\"solid\"},\"marker\":{\"symbol\":\"circle\"},\"mode\":\"lines+markers\",\"name\":\"debit card\",\"orientation\":\"v\",\"showlegend\":false,\"x\":[1,2,3,4,5,6,7,8,9,10,11,12],\"xaxis\":\"x\",\"y\":[25528.53,21592.22,32871.98,24716.55,28172.93,28825.27,33552.19,26093.94,24150.54,19876.82,29689.93,25976.19],\"yaxis\":\"y\",\"type\":\"scatter\"},{\"hovertemplate\":\"Medio de pago=bank transfer\\u003cbr\\u003eIs An Alien=0.0\\u003cbr\\u003eMes de la transacci\\u00f3n=%{x}\\u003cbr\\u003eTotal Monto=%{y}\\u003cextra\\u003e\\u003c\\u002fextra\\u003e\",\"legendgroup\":\"bank transfer\",\"line\":{\"color\":\"#00cc96\",\"dash\":\"solid\"},\"marker\":{\"symbol\":\"circle\"},\"mode\":\"lines+markers\",\"name\":\"bank transfer\",\"orientation\":\"v\",\"showlegend\":true,\"x\":[1,2,3,4,5,6,7,8,9,10,11,12],\"xaxis\":\"x\",\"y\":[58752.38,51191.0,63172.64,49937.35,53538.38,63157.95,55197.37,57054.89,57773.06,52552.72,57937.77,54957.28],\"yaxis\":\"y\",\"type\":\"scatter\"},{\"hovertemplate\":\"Medio de pago=bank transfer\\u003cbr\\u003eIs An Alien=1.0\\u003cbr\\u003eMes de la transacci\\u00f3n=%{x}\\u003cbr\\u003eTotal Monto=%{y}\\u003cextra\\u003e\\u003c\\u002fextra\\u003e\",\"legendgroup\":\"bank transfer\",\"line\":{\"color\":\"#00cc96\",\"dash\":\"solid\"},\"marker\":{\"symbol\":\"circle\"},\"mode\":\"lines+markers\",\"name\":\"bank transfer\",\"orientation\":\"v\",\"showlegend\":false,\"x\":[1,2,3,4,5,6,7,8,9,10,11,12],\"xaxis\":\"x\",\"y\":[22288.5,19962.100000000002,17832.09,25273.1,28882.67,28529.82,25651.15,34423.15,29005.84,28096.29,21995.15,24417.72],\"yaxis\":\"y\",\"type\":\"scatter\"},{\"hovertemplate\":\"Medio de pago=credit card\\u003cbr\\u003eIs An Alien=0.0\\u003cbr\\u003eMes de la transacci\\u00f3n=%{x}\\u003cbr\\u003eTotal Monto=%{y}\\u003cextra\\u003e\\u003c\\u002fextra\\u003e\",\"legendgroup\":\"credit card\",\"line\":{\"color\":\"#ab63fa\",\"dash\":\"solid\"},\"marker\":{\"symbol\":\"circle\"},\"mode\":\"lines+markers\",\"name\":\"credit card\",\"orientation\":\"v\",\"showlegend\":true,\"x\":[1,2,3,4,5,6,7,8,9,10,11,12],\"xaxis\":\"x\",\"y\":[51199.01,46973.6,60134.2,55151.71,53598.04,49652.83,57563.33,56150.88,51168.1,54164.26,63548.340000000004,46154.16],\"yaxis\":\"y\",\"type\":\"scatter\"},{\"hovertemplate\":\"Medio de pago=credit card\\u003cbr\\u003eIs An Alien=1.0\\u003cbr\\u003eMes de la transacci\\u00f3n=%{x}\\u003cbr\\u003eTotal Monto=%{y}\\u003cextra\\u003e\\u003c\\u002fextra\\u003e\",\"legendgroup\":\"credit card\",\"line\":{\"color\":\"#ab63fa\",\"dash\":\"solid\"},\"marker\":{\"symbol\":\"circle\"},\"mode\":\"lines+markers\",\"name\":\"credit card\",\"orientation\":\"v\",\"showlegend\":false,\"x\":[1,2,3,4,5,6,7,8,9,10,11,12],\"xaxis\":\"x\",\"y\":[21016.61,19885.21,17932.41,21514.48,23468.42,33069.86,21699.55,24962.73,28441.29,23792.61,25813.35,22670.5],\"yaxis\":\"y\",\"type\":\"scatter\"}],                        {\"template\":{\"data\":{\"histogram2dcontour\":[{\"type\":\"histogram2dcontour\",\"colorbar\":{\"outlinewidth\":0,\"ticks\":\"\"},\"colorscale\":[[0.0,\"#0d0887\"],[0.1111111111111111,\"#46039f\"],[0.2222222222222222,\"#7201a8\"],[0.3333333333333333,\"#9c179e\"],[0.4444444444444444,\"#bd3786\"],[0.5555555555555556,\"#d8576b\"],[0.6666666666666666,\"#ed7953\"],[0.7777777777777778,\"#fb9f3a\"],[0.8888888888888888,\"#fdca26\"],[1.0,\"#f0f921\"]]}],\"choropleth\":[{\"type\":\"choropleth\",\"colorbar\":{\"outlinewidth\":0,\"ticks\":\"\"}}],\"histogram2d\":[{\"type\":\"histogram2d\",\"colorbar\":{\"outlinewidth\":0,\"ticks\":\"\"},\"colorscale\":[[0.0,\"#0d0887\"],[0.1111111111111111,\"#46039f\"],[0.2222222222222222,\"#7201a8\"],[0.3333333333333333,\"#9c179e\"],[0.4444444444444444,\"#bd3786\"],[0.5555555555555556,\"#d8576b\"],[0.6666666666666666,\"#ed7953\"],[0.7777777777777778,\"#fb9f3a\"],[0.8888888888888888,\"#fdca26\"],[1.0,\"#f0f921\"]]}],\"heatmap\":[{\"type\":\"heatmap\",\"colorbar\":{\"outlinewidth\":0,\"ticks\":\"\"},\"colorscale\":[[0.0,\"#0d0887\"],[0.1111111111111111,\"#46039f\"],[0.2222222222222222,\"#7201a8\"],[0.3333333333333333,\"#9c179e\"],[0.4444444444444444,\"#bd3786\"],[0.5555555555555556,\"#d8576b\"],[0.6666666666666666,\"#ed7953\"],[0.7777777777777778,\"#fb9f3a\"],[0.8888888888888888,\"#fdca26\"],[1.0,\"#f0f921\"]]}],\"heatmapgl\":[{\"type\":\"heatmapgl\",\"colorbar\":{\"outlinewidth\":0,\"ticks\":\"\"},\"colorscale\":[[0.0,\"#0d0887\"],[0.1111111111111111,\"#46039f\"],[0.2222222222222222,\"#7201a8\"],[0.3333333333333333,\"#9c179e\"],[0.4444444444444444,\"#bd3786\"],[0.5555555555555556,\"#d8576b\"],[0.6666666666666666,\"#ed7953\"],[0.7777777777777778,\"#fb9f3a\"],[0.8888888888888888,\"#fdca26\"],[1.0,\"#f0f921\"]]}],\"contourcarpet\":[{\"type\":\"contourcarpet\",\"colorbar\":{\"outlinewidth\":0,\"ticks\":\"\"}}],\"contour\":[{\"type\":\"contour\",\"colorbar\":{\"outlinewidth\":0,\"ticks\":\"\"},\"colorscale\":[[0.0,\"#0d0887\"],[0.1111111111111111,\"#46039f\"],[0.2222222222222222,\"#7201a8\"],[0.3333333333333333,\"#9c179e\"],[0.4444444444444444,\"#bd3786\"],[0.5555555555555556,\"#d8576b\"],[0.6666666666666666,\"#ed7953\"],[0.7777777777777778,\"#fb9f3a\"],[0.8888888888888888,\"#fdca26\"],[1.0,\"#f0f921\"]]}],\"surface\":[{\"type\":\"surface\",\"colorbar\":{\"outlinewidth\":0,\"ticks\":\"\"},\"colorscale\":[[0.0,\"#0d0887\"],[0.1111111111111111,\"#46039f\"],[0.2222222222222222,\"#7201a8\"],[0.3333333333333333,\"#9c179e\"],[0.4444444444444444,\"#bd3786\"],[0.5555555555555556,\"#d8576b\"],[0.6666666666666666,\"#ed7953\"],[0.7777777777777778,\"#fb9f3a\"],[0.8888888888888888,\"#fdca26\"],[1.0,\"#f0f921\"]]}],\"mesh3d\":[{\"type\":\"mesh3d\",\"colorbar\":{\"outlinewidth\":0,\"ticks\":\"\"}}],\"scatter\":[{\"fillpattern\":{\"fillmode\":\"overlay\",\"size\":10,\"solidity\":0.2},\"type\":\"scatter\"}],\"parcoords\":[{\"type\":\"parcoords\",\"line\":{\"colorbar\":{\"outlinewidth\":0,\"ticks\":\"\"}}}],\"scatterpolargl\":[{\"type\":\"scatterpolargl\",\"marker\":{\"colorbar\":{\"outlinewidth\":0,\"ticks\":\"\"}}}],\"bar\":[{\"error_x\":{\"color\":\"#2a3f5f\"},\"error_y\":{\"color\":\"#2a3f5f\"},\"marker\":{\"line\":{\"color\":\"#E5ECF6\",\"width\":0.5},\"pattern\":{\"fillmode\":\"overlay\",\"size\":10,\"solidity\":0.2}},\"type\":\"bar\"}],\"scattergeo\":[{\"type\":\"scattergeo\",\"marker\":{\"colorbar\":{\"outlinewidth\":0,\"ticks\":\"\"}}}],\"scatterpolar\":[{\"type\":\"scatterpolar\",\"marker\":{\"colorbar\":{\"outlinewidth\":0,\"ticks\":\"\"}}}],\"histogram\":[{\"marker\":{\"pattern\":{\"fillmode\":\"overlay\",\"size\":10,\"solidity\":0.2}},\"type\":\"histogram\"}],\"scattergl\":[{\"type\":\"scattergl\",\"marker\":{\"colorbar\":{\"outlinewidth\":0,\"ticks\":\"\"}}}],\"scatter3d\":[{\"type\":\"scatter3d\",\"line\":{\"colorbar\":{\"outlinewidth\":0,\"ticks\":\"\"}},\"marker\":{\"colorbar\":{\"outlinewidth\":0,\"ticks\":\"\"}}}],\"scattermapbox\":[{\"type\":\"scattermapbox\",\"marker\":{\"colorbar\":{\"outlinewidth\":0,\"ticks\":\"\"}}}],\"scatterternary\":[{\"type\":\"scatterternary\",\"marker\":{\"colorbar\":{\"outlinewidth\":0,\"ticks\":\"\"}}}],\"scattercarpet\":[{\"type\":\"scattercarpet\",\"marker\":{\"colorbar\":{\"outlinewidth\":0,\"ticks\":\"\"}}}],\"carpet\":[{\"aaxis\":{\"endlinecolor\":\"#2a3f5f\",\"gridcolor\":\"white\",\"linecolor\":\"white\",\"minorgridcolor\":\"white\",\"startlinecolor\":\"#2a3f5f\"},\"baxis\":{\"endlinecolor\":\"#2a3f5f\",\"gridcolor\":\"white\",\"linecolor\":\"white\",\"minorgridcolor\":\"white\",\"startlinecolor\":\"#2a3f5f\"},\"type\":\"carpet\"}],\"table\":[{\"cells\":{\"fill\":{\"color\":\"#EBF0F8\"},\"line\":{\"color\":\"white\"}},\"header\":{\"fill\":{\"color\":\"#C8D4E3\"},\"line\":{\"color\":\"white\"}},\"type\":\"table\"}],\"barpolar\":[{\"marker\":{\"line\":{\"color\":\"#E5ECF6\",\"width\":0.5},\"pattern\":{\"fillmode\":\"overlay\",\"size\":10,\"solidity\":0.2}},\"type\":\"barpolar\"}],\"pie\":[{\"automargin\":true,\"type\":\"pie\"}]},\"layout\":{\"autotypenumbers\":\"strict\",\"colorway\":[\"#636efa\",\"#EF553B\",\"#00cc96\",\"#ab63fa\",\"#FFA15A\",\"#19d3f3\",\"#FF6692\",\"#B6E880\",\"#FF97FF\",\"#FECB52\"],\"font\":{\"color\":\"#2a3f5f\"},\"hovermode\":\"closest\",\"hoverlabel\":{\"align\":\"left\"},\"paper_bgcolor\":\"white\",\"plot_bgcolor\":\"#E5ECF6\",\"polar\":{\"bgcolor\":\"#E5ECF6\",\"angularaxis\":{\"gridcolor\":\"white\",\"linecolor\":\"white\",\"ticks\":\"\"},\"radialaxis\":{\"gridcolor\":\"white\",\"linecolor\":\"white\",\"ticks\":\"\"}},\"ternary\":{\"bgcolor\":\"#E5ECF6\",\"aaxis\":{\"gridcolor\":\"white\",\"linecolor\":\"white\",\"ticks\":\"\"},\"baxis\":{\"gridcolor\":\"white\",\"linecolor\":\"white\",\"ticks\":\"\"},\"caxis\":{\"gridcolor\":\"white\",\"linecolor\":\"white\",\"ticks\":\"\"}},\"coloraxis\":{\"colorbar\":{\"outlinewidth\":0,\"ticks\":\"\"}},\"colorscale\":{\"sequential\":[[0.0,\"#0d0887\"],[0.1111111111111111,\"#46039f\"],[0.2222222222222222,\"#7201a8\"],[0.3333333333333333,\"#9c179e\"],[0.4444444444444444,\"#bd3786\"],[0.5555555555555556,\"#d8576b\"],[0.6666666666666666,\"#ed7953\"],[0.7777777777777778,\"#fb9f3a\"],[0.8888888888888888,\"#fdca26\"],[1.0,\"#f0f921\"]],\"sequentialminus\":[[0.0,\"#0d0887\"],[0.1111111111111111,\"#46039f\"],[0.2222222222222222,\"#7201a8\"],[0.3333333333333333,\"#9c179e\"],[0.4444444444444444,\"#bd3786\"],[0.5555555555555556,\"#d8576b\"],[0.6666666666666666,\"#ed7953\"],[0.7777777777777778,\"#fb9f3a\"],[0.8888888888888888,\"#fdca26\"],[1.0,\"#f0f921\"]],\"diverging\":[[0,\"#8e0152\"],[0.1,\"#c51b7d\"],[0.2,\"#de77ae\"],[0.3,\"#f1b6da\"],[0.4,\"#fde0ef\"],[0.5,\"#f7f7f7\"],[0.6,\"#e6f5d0\"],[0.7,\"#b8e186\"],[0.8,\"#7fbc41\"],[0.9,\"#4d9221\"],[1,\"#276419\"]]},\"xaxis\":{\"gridcolor\":\"white\",\"linecolor\":\"white\",\"ticks\":\"\",\"title\":{\"standoff\":15},\"zerolinecolor\":\"white\",\"automargin\":true,\"zerolinewidth\":2},\"yaxis\":{\"gridcolor\":\"white\",\"linecolor\":\"white\",\"ticks\":\"\",\"title\":{\"standoff\":15},\"zerolinecolor\":\"white\",\"automargin\":true,\"zerolinewidth\":2},\"scene\":{\"xaxis\":{\"backgroundcolor\":\"#E5ECF6\",\"gridcolor\":\"white\",\"linecolor\":\"white\",\"showbackground\":true,\"ticks\":\"\",\"zerolinecolor\":\"white\",\"gridwidth\":2},\"yaxis\":{\"backgroundcolor\":\"#E5ECF6\",\"gridcolor\":\"white\",\"linecolor\":\"white\",\"showbackground\":true,\"ticks\":\"\",\"zerolinecolor\":\"white\",\"gridwidth\":2},\"zaxis\":{\"backgroundcolor\":\"#E5ECF6\",\"gridcolor\":\"white\",\"linecolor\":\"white\",\"showbackground\":true,\"ticks\":\"\",\"zerolinecolor\":\"white\",\"gridwidth\":2}},\"shapedefaults\":{\"line\":{\"color\":\"#2a3f5f\"}},\"annotationdefaults\":{\"arrowcolor\":\"#2a3f5f\",\"arrowhead\":0,\"arrowwidth\":1},\"geo\":{\"bgcolor\":\"white\",\"landcolor\":\"#E5ECF6\",\"subunitcolor\":\"white\",\"showland\":true,\"showlakes\":true,\"lakecolor\":\"white\"},\"title\":{\"x\":0.05},\"mapbox\":{\"style\":\"light\"}}},\"xaxis\":{\"anchor\":\"y\",\"domain\":[0.0,1.0],\"title\":{\"text\":\"Mes de la transacci\\u00f3n\"}},\"yaxis\":{\"anchor\":\"x\",\"domain\":[0.0,1.0],\"title\":{\"text\":\"Total Monto\"}},\"legend\":{\"title\":{\"text\":\"Medio de pago\"},\"tracegroupgap\":0},\"title\":{\"text\":\"Total de monto por transacciones mensuales por medio de pago\"}},                        {\"responsive\": true}                    ).then(function(){\n",
              "                            \n",
              "var gd = document.getElementById('5e953936-19ef-4bff-a33e-36814c752572');\n",
              "var x = new MutationObserver(function (mutations, observer) {{\n",
              "        var display = window.getComputedStyle(gd).display;\n",
              "        if (!display || display === 'none') {{\n",
              "            console.log([gd, 'removed!']);\n",
              "            Plotly.purge(gd);\n",
              "            observer.disconnect();\n",
              "        }}\n",
              "}});\n",
              "\n",
              "// Listen for the removal of the full notebook cells\n",
              "var notebookContainer = gd.closest('#notebook-container');\n",
              "if (notebookContainer) {{\n",
              "    x.observe(notebookContainer, {childList: true});\n",
              "}}\n",
              "\n",
              "// Listen for the clearing of the current output cell\n",
              "var outputEl = gd.closest('.output');\n",
              "if (outputEl) {{\n",
              "    x.observe(outputEl, {childList: true});\n",
              "}}\n",
              "\n",
              "                        })                };                            </script>        </div>\n",
              "</body>\n",
              "</html>"
            ]
          },
          "metadata": {}
        }
      ]
    },
    {
      "cell_type": "markdown",
      "source": [
        "En estos gráficos se separó entre tipo de clientes por curvas, para el segundo ser se separaron en dos gráficos de barras distintos, el primero mostrando a los humanos y el segundo los aliens.\n",
        "\n",
        "\n",
        "El primer gráfico muestra la cantidad de transacciones por mes, separado por tipo de cliente y por medio de pago, principalmente se puede observar que par los humanos se obtuvo una cantidad sobre 250 transacciones por mes y tipo de pago, mientra que para los aliens fue cercana a 100, además se pueden notar que no hubo una tendencia de crecimiento o decrecimiento en ninguna de las curvas.\n",
        "\n",
        "\n",
        "Para el segundo gráfico, se muestra un gráfico de barras de la cantidad de transacciones separado primero por tipo de cliente, luego por medio de pago en grupo de barras y finalmente por categoría de producto en colores. Para los humanos que compran con paypal se ve que son alrededor de 600 por categoría de producto pero teniendo un peak en electrónicos, similarmente con la transferencia bancaria pero esta vez el peak es de salud y belleza, para tarjeta de crédito sigue la tendencia pero el peak es en juegos y juguetes, para tarjeta de débito el peak es en casa y jardín. Para los aliens se tiene cerca de 200 transacciones por subdivisión, aunque vestuario pagando con paypal y transferencia tiene un número menor.\n",
        "\n",
        "\n",
        "Finalmente el último gráfico muestra el monto total de las transacciones mensuales separado por tipo de cliente y medio de pago, se nota que para los humanos este total en todos los mese se encuentra entre 50k-60k para todos los medios de pago, mientras que para los aliens el rango es 20k-30k, para este último tipo de cliente se pueden ver peaks en el mes de junio, julio y agosto con los medios crédito, débito y transferencia respectivamente, en general no se de un crecimiento o decrecimiento como tendencia, más allá de algunos peak específicos.\n"
      ],
      "metadata": {
        "id": "0OimQyPZvhmZ"
      }
    },
    {
      "cell_type": "markdown",
      "source": [
        "### 5. Particiones y consultas en SQL [6 puntos]\n",
        "(2 puntos por pregunta)"
      ],
      "metadata": {
        "id": "97zN2_g4vgY6"
      }
    },
    {
      "cell_type": "markdown",
      "source": [
        "<center>\n",
        "<img src=\"https://gitlab.com/imezadelajara/datos_clase_7_mds7202/-/raw/main/misc_images/1696330143457.gif\" width=400 />"
      ],
      "metadata": {
        "id": "viNvNuE_odgc"
      }
    },
    {
      "cell_type": "markdown",
      "source": [
        "El equipo de Bodoque e-shop ha solicitado que los datos estén disponibles en una tabla SQL consultable. Además, están interesados en aprovechar las funciones de ventana en SQL para análisis avanzados. Las funciones de ventana permiten realizar cálculos sobre un conjunto de filas que están relacionadas con la fila actual. Por ejemplo, UNBOUNDED PRECEDING se usa para indicar que el rango de la función de ventana comienza desde la primera fila de la partición o del conjunto de resultados, lo cual es útil para calcular sumas acumulativas hasta la fila actual. Las variaciones comunes de este uso incluyen:\n",
        "\n",
        "- `UNBOUNDED PRECEDING` to `CURRENT ROW`: Calcula desde el inicio de la partición hasta la fila actual.\n",
        "- `UNBOUNDED PRECEDING` to `UNBOUNDED FOLLOWING`: Cubre todas las filas dentro de la partición.\n",
        "- `VALUE PRECEDING` to `VALUE FOLLOWING`: Establece un rango específico basado en valores antes y después de la fila actual."
      ],
      "metadata": {
        "id": "SCdHwyGBwVx8"
      }
    },
    {
      "cell_type": "markdown",
      "source": [
        "<center>\n",
        "<img src=\"https://learnsql.com/blog/sql-window-functions-rows-clause/1.png\" width=500 />"
      ],
      "metadata": {
        "id": "VntjejKLleIa"
      }
    },
    {
      "cell_type": "markdown",
      "source": [
        "Ejemplo de uso en SQL:\n",
        "\n",
        "```sql\n",
        "STAT(COL1_NAME) OVER (PARTITION BY COL2_NAME ORDER BY COL3_NAME ROWS BETWEEN X PRECEDING AND CURRENT ROW)\n",
        "```\n",
        "\n",
        "\n",
        "Responda y realice los siguientes puntos:\n",
        "\n",
        "1. **Creación de Tabla con PySpark**:\n",
        "   - Desarrolle un script utilizando PySpark para crear una tabla a partir de un DataFrame previamente transformado. Seleccione y utilice una variable específica para la partición de la tabla. Justifique su elección de esta variable considerando factores como el tamaño del DataFrame, la distribución de los datos y el impacto potencial en el rendimiento de futuras consultas.\n",
        "\n",
        "2. **Consulta SQL para Principales Clientes**:\n",
        "   - Ejecute una consulta SQL para identificar los 10 clientes que más productos han comprado. La consulta debe retornar el ID del cliente junto con el total de productos comprados, ordenados en forma descendente.\n",
        "\n",
        "3. **Implementación de Función de Ventana en SQL y Equivalente en Spark**:\n",
        "   - Implemente una función de ventana en SQL para calcular la compra más alta realizada por cada usuario en los últimos tres meses. Además, describa cómo se podría realizar una función equivalente en Spark, considerando las capacidades específicas de PySpark para manejar este tipo de consultas.\n",
        "\n"
      ],
      "metadata": {
        "id": "D8XJ7NrPllKG"
      }
    },
    {
      "cell_type": "markdown",
      "source": [
        "1.- Creación de Tabla con PySpark:"
      ],
      "metadata": {
        "id": "96EnOLimDzwq"
      }
    },
    {
      "cell_type": "code",
      "source": [
        "# Inicializar sesión de Spark\n",
        "spark = SparkSession.builder \\\n",
        "    .appName(\"Crear Tabla en PySpark\") \\\n",
        "    .getOrCreate()\n",
        "\n",
        "# Supongamos que df_pandas es nuestro DataFrame de pandas previamente transformado\n",
        "# Convertir DataFrame de pandas a DataFrame de Spark\n",
        "df_spark = spark.createDataFrame(df_pandas)\n",
        "\n",
        "# Seleccionar una variable específica para la partición de la tabla\n",
        "# En este ejemplo, utilizaremos \"Customer ID\" para particionar la tabla\n",
        "# Justificación: \"Customer ID\" es una columna comúnmente utilizada para particionar datos en análisis de clientes\n",
        "# Además, puede ayudar a mejorar el rendimiento de consultas que involucran agrupaciones por cliente\n",
        "partition_column = \"Customer ID\"\n",
        "\n",
        "# Crear tabla en Spark SQL\n",
        "df_spark.createOrReplaceTempView(\"tabla_transacciones\")\n",
        "\n",
        "# Mostrar el esquema de la tabla creada\n",
        "df_spark.printSchema()"
      ],
      "metadata": {
        "id": "Xe_JQ3npiM6_",
        "colab": {
          "base_uri": "https://localhost:8080/"
        },
        "outputId": "92d7cb2f-c829-4117-c87c-3c757e4271fa"
      },
      "execution_count": 35,
      "outputs": [
        {
          "output_type": "stream",
          "name": "stdout",
          "text": [
            "root\n",
            " |-- Transaction ID: string (nullable = true)\n",
            " |-- Customer ID: string (nullable = true)\n",
            " |-- Transaction Amount: double (nullable = true)\n",
            " |-- Transaction Date: timestamp (nullable = true)\n",
            " |-- Payment Method: string (nullable = true)\n",
            " |-- Product Category: string (nullable = true)\n",
            " |-- Quantity: double (nullable = true)\n",
            " |-- Customer Age: double (nullable = true)\n",
            " |-- Customer Location: string (nullable = true)\n",
            " |-- Device Used: string (nullable = true)\n",
            " |-- IP Address: string (nullable = true)\n",
            " |-- Shipping Address: string (nullable = true)\n",
            " |-- Billing Address: string (nullable = true)\n",
            " |-- Is An Alien: double (nullable = true)\n",
            " |-- Account Age Days: double (nullable = true)\n",
            " |-- Transaction Hour: double (nullable = true)\n",
            " |-- Transaction bp: double (nullable = true)\n",
            " |-- Transaction Month: long (nullable = true)\n",
            " |-- Type of purchase: string (nullable = true)\n",
            "\n"
          ]
        }
      ]
    },
    {
      "cell_type": "markdown",
      "source": [
        "2.-Consulta SQL para Principales Clientes:"
      ],
      "metadata": {
        "id": "ceYzVLX6D34m"
      }
    },
    {
      "cell_type": "markdown",
      "source": [
        "\n",
        "\n",
        "```\n",
        "SELECT \"Customer ID\", SUM(Quantity) AS total_productos_comprados\n",
        "FROM tabla_transacciones\n",
        "GROUP BY \"Customer ID\"\n",
        "ORDER BY total_productos_comprados DESC\n",
        "LIMIT 10;\n",
        "```\n",
        "\n"
      ],
      "metadata": {
        "id": "yneOOG0bDRzE"
      }
    },
    {
      "cell_type": "code",
      "source": [
        "sparksession.sql(\n",
        "    \"\"\"SELECT  `Customer ID`, SUM(Quantity) AS total_productos_comprados\n",
        "FROM tabla_transacciones\n",
        "GROUP BY  `Customer ID`\n",
        "ORDER BY total_productos_comprados DESC\n",
        "LIMIT 10\"\"\"\n",
        ").show()"
      ],
      "metadata": {
        "colab": {
          "base_uri": "https://localhost:8080/"
        },
        "id": "Y7Rca0qOSYW9",
        "outputId": "af33874b-ef67-4f10-e627-6d00e77e7770"
      },
      "execution_count": 36,
      "outputs": [
        {
          "output_type": "stream",
          "name": "stdout",
          "text": [
            "+--------------------+-------------------------+\n",
            "|         Customer ID|total_productos_comprados|\n",
            "+--------------------+-------------------------+\n",
            "|2ceb1e23-16bf-442...|                      5.0|\n",
            "|cc680d5f-02d9-42f...|                      5.0|\n",
            "|2f3d5b31-bd85-4d7...|                      5.0|\n",
            "|ddfbe502-d51c-4ac...|                      5.0|\n",
            "|aa8c72f5-fbcc-4bf...|                      5.0|\n",
            "|ddb1eedb-78a7-403...|                      5.0|\n",
            "|6300f942-b86d-433...|                      5.0|\n",
            "|2e835dd8-6c9c-4c8...|                      5.0|\n",
            "|a357c917-cb79-42a...|                      5.0|\n",
            "|866e29ec-dd8e-4a1...|                      5.0|\n",
            "+--------------------+-------------------------+\n",
            "\n"
          ]
        }
      ]
    },
    {
      "cell_type": "code",
      "source": [
        "resultado = df_spark.groupBy(\"Customer ID\").agg({\"Quantity\": \"sum\"}) \\\n",
        "              .withColumnRenamed(\"sum(Quantity)\", \"total_productos_comprados\") \\\n",
        "              .orderBy(\"total_productos_comprados\", ascending=False) \\\n",
        "              .limit(10)\n",
        "\n",
        "resultado.show()"
      ],
      "metadata": {
        "colab": {
          "base_uri": "https://localhost:8080/"
        },
        "id": "Ymn8d0y4CCVy",
        "outputId": "5f8b0991-46e3-4baa-ed6a-4d98e702742e"
      },
      "execution_count": 37,
      "outputs": [
        {
          "output_type": "stream",
          "name": "stdout",
          "text": [
            "+--------------------+-------------------------+\n",
            "|         Customer ID|total_productos_comprados|\n",
            "+--------------------+-------------------------+\n",
            "|2ceb1e23-16bf-442...|                      5.0|\n",
            "|cc680d5f-02d9-42f...|                      5.0|\n",
            "|2f3d5b31-bd85-4d7...|                      5.0|\n",
            "|ddfbe502-d51c-4ac...|                      5.0|\n",
            "|aa8c72f5-fbcc-4bf...|                      5.0|\n",
            "|ddb1eedb-78a7-403...|                      5.0|\n",
            "|6300f942-b86d-433...|                      5.0|\n",
            "|2e835dd8-6c9c-4c8...|                      5.0|\n",
            "|a357c917-cb79-42a...|                      5.0|\n",
            "|866e29ec-dd8e-4a1...|                      5.0|\n",
            "+--------------------+-------------------------+\n",
            "\n"
          ]
        }
      ]
    },
    {
      "cell_type": "markdown",
      "source": [
        "3.- Implementación de Función de Ventana en SQL y Equivalente en Spark:"
      ],
      "metadata": {
        "id": "o6j6wn-hD74N"
      }
    },
    {
      "cell_type": "markdown",
      "source": [
        "\n",
        "\n",
        "```\n",
        "SELECT\n",
        "    \"Customer ID\",\n",
        "    MAX(\"Transaction Amount\") AS max_compra_ultimos_tres_meses\n",
        "FROM\n",
        "    (\n",
        "        SELECT\n",
        "            *,\n",
        "            MAX(\"Transaction Date\") OVER (PARTITION BY \"Customer ID\") AS max_fecha_por_cliente\n",
        "        FROM\n",
        "            tabla_transacciones\n",
        "        WHERE\n",
        "            \"Transaction Date\" >= DATE_SUB(CURRENT_DATE(), 90)\n",
        "    ) subquery\n",
        "WHERE\n",
        "    \"Transaction Date\" = max_fecha_por_cliente\n",
        "GROUP BY\n",
        "    \"Customer ID\";\n",
        "\n",
        "```\n",
        "\n"
      ],
      "metadata": {
        "id": "oHjJvJ0DEAaD"
      }
    },
    {
      "cell_type": "code",
      "source": [
        "sparksession.sql(\n",
        "    \"\"\"SELECT\n",
        "    `Customer ID`,\n",
        "    MAX(`Transaction Amount`) AS max_compra_ultimos_tres_meses\n",
        "FROM\n",
        "    (\n",
        "        SELECT\n",
        "            *,\n",
        "            MAX(`Transaction Date`) OVER (PARTITION BY `Customer ID`) AS max_fecha_por_cliente\n",
        "        FROM\n",
        "            tabla_transacciones\n",
        "        WHERE\n",
        "            `Transaction Date` >= DATE_SUB(CURRENT_DATE(), 90)\n",
        "    ) subquery\n",
        "WHERE\n",
        "    `Transaction Date` = max_fecha_por_cliente\n",
        "GROUP BY\n",
        "    `Customer ID`\"\"\"\n",
        ").show()"
      ],
      "metadata": {
        "colab": {
          "base_uri": "https://localhost:8080/"
        },
        "id": "adweS1F9YfrW",
        "outputId": "05c08552-6a64-4dd8-b03b-b586a64cba0a"
      },
      "execution_count": 38,
      "outputs": [
        {
          "output_type": "stream",
          "name": "stdout",
          "text": [
            "+--------------------+-----------------------------+\n",
            "|         Customer ID|max_compra_ultimos_tres_meses|\n",
            "+--------------------+-----------------------------+\n",
            "|0010bfa7-d3b5-442...|                       130.74|\n",
            "|004d6df5-5d37-4cd...|                        32.36|\n",
            "|0061c7c7-ffd9-40d...|                       255.97|\n",
            "|0084aeb6-6bc7-4f8...|                       265.09|\n",
            "|00dba4f3-102b-4d8...|                        80.76|\n",
            "|00dcef31-265c-4d3...|                        82.57|\n",
            "|00f692ba-f8b4-4d9...|                       235.15|\n",
            "|011ba8d6-6dcd-4cf...|                       218.64|\n",
            "|014817a0-2f4f-477...|                       289.72|\n",
            "|014da57c-a59c-465...|                        33.22|\n",
            "|015a8996-8ac2-488...|                       451.94|\n",
            "|01754c8a-c873-49e...|                       267.89|\n",
            "|0178fe5b-e055-4ec...|                       723.04|\n",
            "|01ac1427-4acc-410...|                       234.43|\n",
            "|01feca2f-2907-445...|                        48.71|\n",
            "|022c33a4-c841-431...|                       125.81|\n",
            "|0255dc7c-5ddb-4b6...|                        103.1|\n",
            "|0270d1d5-c8b8-4be...|                         56.2|\n",
            "|03557036-602b-4f5...|                         29.8|\n",
            "|03a10336-bcc5-455...|                       120.38|\n",
            "+--------------------+-----------------------------+\n",
            "only showing top 20 rows\n",
            "\n"
          ]
        }
      ]
    },
    {
      "cell_type": "code",
      "source": [
        "from pyspark.sql.window import Window\n",
        "import pyspark.sql.functions as F\n",
        "\n",
        "# Definir la ventana para los últimos tres meses por cliente\n",
        "window_spec = Window.partitionBy(\"Customer ID\").orderBy(F.col(\"Transaction Date\").desc()).rangeBetween(Window.unboundedPreceding, Window.currentRow)\n",
        "\n",
        "# Calcular la compra más alta realizada por cada usuario en los últimos tres meses en Spark\n",
        "df_spark.withColumn(\"max_compra_ultimos_tres_meses\", F.max(\"Transaction Amount\").over(window_spec)) \\\n",
        "    .filter(F.col(\"Transaction Date\") >= F.date_sub(F.current_date(), 90)) \\\n",
        "    .groupBy(\"Customer ID\") \\\n",
        "    .agg(F.max(\"max_compra_ultimos_tres_meses\").alias(\"max_compra_ultimos_tres_meses\")) \\\n",
        "    .show()"
      ],
      "metadata": {
        "colab": {
          "base_uri": "https://localhost:8080/"
        },
        "id": "VHIhDv11Dxt_",
        "outputId": "fb14188e-a68c-4c8b-c45d-898cdfb0fc74"
      },
      "execution_count": 39,
      "outputs": [
        {
          "output_type": "stream",
          "name": "stdout",
          "text": [
            "+--------------------+-----------------------------+\n",
            "|         Customer ID|max_compra_ultimos_tres_meses|\n",
            "+--------------------+-----------------------------+\n",
            "|0010bfa7-d3b5-442...|                       130.74|\n",
            "|004d6df5-5d37-4cd...|                        32.36|\n",
            "|0061c7c7-ffd9-40d...|                       255.97|\n",
            "|0084aeb6-6bc7-4f8...|                       265.09|\n",
            "|00dba4f3-102b-4d8...|                        80.76|\n",
            "|00dcef31-265c-4d3...|                        82.57|\n",
            "|00f692ba-f8b4-4d9...|                       235.15|\n",
            "|011ba8d6-6dcd-4cf...|                       218.64|\n",
            "|014817a0-2f4f-477...|                       289.72|\n",
            "|014da57c-a59c-465...|                        33.22|\n",
            "|015a8996-8ac2-488...|                       451.94|\n",
            "|01754c8a-c873-49e...|                       267.89|\n",
            "|0178fe5b-e055-4ec...|                       723.04|\n",
            "|01ac1427-4acc-410...|                       234.43|\n",
            "|01feca2f-2907-445...|                        48.71|\n",
            "|022c33a4-c841-431...|                       125.81|\n",
            "|0255dc7c-5ddb-4b6...|                        103.1|\n",
            "|0270d1d5-c8b8-4be...|                         56.2|\n",
            "|03557036-602b-4f5...|                         29.8|\n",
            "|03a10336-bcc5-455...|                       120.38|\n",
            "+--------------------+-----------------------------+\n",
            "only showing top 20 rows\n",
            "\n"
          ]
        }
      ]
    },
    {
      "cell_type": "markdown",
      "source": [
        "se realizaron las concultas en ambos formatos para poder comprobar los resultados."
      ],
      "metadata": {
        "id": "mrVmRK-1vHqC"
      }
    },
    {
      "cell_type": "markdown",
      "source": [
        "### 6. UDF [10 puntos]\n",
        "(2 por pregunta)"
      ],
      "metadata": {
        "id": "AKQs-augfZBv"
      }
    },
    {
      "cell_type": "markdown",
      "source": [
        "<center>\n",
        "<img src=\"https://64.media.tumblr.com/ba8c705edd2bed0a28d9458811155d69/tumblr_pap19zg4ae1w3zg6go1_400.gifv\" width=400 />"
      ],
      "metadata": {
        "id": "ovDBGi-uhhdD"
      }
    },
    {
      "cell_type": "markdown",
      "source": [
        "\n",
        "\n",
        "Un experto en predicciones y programación le ha proporcionado un objeto serializado (`pickle`) diseñado para calcular las probabilidades de que un cliente cometa o no un fraude. Este experto sugiere que, para maximizar las capacidades de procesamiento distribuido de Spark, debería implementar `Scalar User Defined Functions` (udf). Esto le permitirá aplicar el objeto serializado en un entorno distribuido a lo largo de toda la población de datos. Un aspecto clave de la función desarrollada por el experto es que se enfoca exclusivamente en las siguientes columnas para realizar las predicciones: `['Transaction Amount', 'Quantity', 'Customer Age', 'Transaction Hour']`.\n",
        "\n",
        "Aparte, el experto le proporciona las siguientes instrucciones para usar las UDF en Spark:\n",
        "\n",
        "```python\n",
        "from pyspark.sql.functions import udf\n",
        "from pyspark.sql.types import FloatType\n",
        "\n",
        "def custom_function(col):\n",
        "    pass\n",
        "\n",
        "udf_function = udf(custom_function, FloatType())\n",
        "```\n",
        "\n",
        "Basándose en la estructura proporcionada, debe desarrollar una función que ejecute un código específico. Tenga en cuenta que esta función solo puede recibir columnas de Spark y debe retornar el valor deseado. Posteriormente, deberá utilizar esta función UDF indicando la función personalizada y el formato de salida.\n",
        "\n",
        "Siga los siguientes pasos para implementar la solución y responda las preguntas:\n",
        "\n",
        "1. **Cargar el objeto serializado**: Revise el tipo de objeto y deduzca su función.\n",
        "2. **Explorar el objeto**: Utilice las funciones `dir` y `help` para identificar qué método del objeto predice la probabilidad.\n",
        "3. **Crear una función personalizada**: Elabore una función que prediga la probabilidad de fraude utilizando el último valor de la lista generada por el objeto serializado. Puede modificar el nombre de la función para reflejar su propósito.\n",
        "4. **Definir la función UDF**: Establezca la función UDF con la función personalizada que ha creado.\n",
        "5. **Generar una nueva columna**: Añada una nueva columna `prediction` a su DataFrame en Spark utilizando la función UDF y muestre un ejemplo de cómo se aplica. ¿Qué beneficios podría generar utilizar udf?"
      ],
      "metadata": {
        "id": "TJUUnpi8qKHD"
      }
    },
    {
      "cell_type": "markdown",
      "source": [
        "1.-"
      ],
      "metadata": {
        "id": "6b6dh0EKPJdl"
      }
    },
    {
      "cell_type": "code",
      "source": [
        "import requests\n",
        "\n",
        "url = \"https://gitlab.com/imezadelajara/datos_clase_7_mds7202/-/raw/main/object.pkl?inline=false\"\n",
        "response = requests.get(url)\n",
        "\n",
        "with open(\"object.pkl\", \"wb\") as f:\n",
        "    f.write(response.content)"
      ],
      "metadata": {
        "id": "bPJVs2OBezN_"
      },
      "execution_count": 90,
      "outputs": []
    },
    {
      "cell_type": "markdown",
      "source": [
        "2.-"
      ],
      "metadata": {
        "id": "f4vnsszMPg5W"
      }
    },
    {
      "cell_type": "code",
      "source": [
        "import pickle\n",
        "\n",
        "with open(\"object.pkl\", \"rb\") as f:\n",
        "    obj = pickle.load(f)\n",
        "\n",
        "print(type(obj))\n",
        "\n"
      ],
      "metadata": {
        "colab": {
          "base_uri": "https://localhost:8080/"
        },
        "id": "0IBWnHLiPhuK",
        "outputId": "e0295b32-223a-4c96-956f-afb2306f9827"
      },
      "execution_count": 91,
      "outputs": [
        {
          "output_type": "stream",
          "name": "stdout",
          "text": [
            "<class 'sklearn.linear_model._logistic.LogisticRegression'>\n"
          ]
        }
      ]
    },
    {
      "cell_type": "code",
      "source": [
        "print(dir(obj))\n"
      ],
      "metadata": {
        "colab": {
          "base_uri": "https://localhost:8080/"
        },
        "id": "HC7kGqlKdMS1",
        "outputId": "ef86872f-db79-4ad9-e23b-45ae448483f9"
      },
      "execution_count": 92,
      "outputs": [
        {
          "output_type": "stream",
          "name": "stdout",
          "text": [
            "['C', '__annotations__', '__class__', '__delattr__', '__dict__', '__dir__', '__doc__', '__eq__', '__format__', '__ge__', '__getattribute__', '__getstate__', '__gt__', '__hash__', '__init__', '__init_subclass__', '__le__', '__lt__', '__module__', '__ne__', '__new__', '__reduce__', '__reduce_ex__', '__repr__', '__setattr__', '__setstate__', '__sizeof__', '__str__', '__subclasshook__', '__weakref__', '_check_feature_names', '_check_n_features', '_estimator_type', '_get_param_names', '_get_tags', '_more_tags', '_parameter_constraints', '_predict_proba_lr', '_repr_html_', '_repr_html_inner', '_repr_mimebundle_', '_validate_data', '_validate_params', 'class_weight', 'classes_', 'coef_', 'decision_function', 'densify', 'dual', 'feature_names_in_', 'fit', 'fit_intercept', 'get_params', 'intercept_', 'intercept_scaling', 'l1_ratio', 'max_iter', 'multi_class', 'n_features_in_', 'n_iter_', 'n_jobs', 'penalty', 'predict', 'predict_log_proba', 'predict_proba', 'random_state', 'score', 'set_params', 'solver', 'sparsify', 'tol', 'verbose', 'warm_start']\n"
          ]
        }
      ]
    },
    {
      "cell_type": "code",
      "source": [
        "help(obj)"
      ],
      "metadata": {
        "colab": {
          "base_uri": "https://localhost:8080/"
        },
        "id": "R6FTqC8IdN4u",
        "outputId": "875816ef-fd5a-49d4-cfda-70242c72e56e"
      },
      "execution_count": 93,
      "outputs": [
        {
          "output_type": "stream",
          "name": "stdout",
          "text": [
            "Help on LogisticRegression in module sklearn.linear_model._logistic object:\n",
            "\n",
            "class LogisticRegression(sklearn.linear_model._base.LinearClassifierMixin, sklearn.linear_model._base.SparseCoefMixin, sklearn.base.BaseEstimator)\n",
            " |  LogisticRegression(penalty='l2', *, dual=False, tol=0.0001, C=1.0, fit_intercept=True, intercept_scaling=1, class_weight=None, random_state=None, solver='lbfgs', max_iter=100, multi_class='auto', verbose=0, warm_start=False, n_jobs=None, l1_ratio=None)\n",
            " |  \n",
            " |  Logistic Regression (aka logit, MaxEnt) classifier.\n",
            " |  \n",
            " |  In the multiclass case, the training algorithm uses the one-vs-rest (OvR)\n",
            " |  scheme if the 'multi_class' option is set to 'ovr', and uses the\n",
            " |  cross-entropy loss if the 'multi_class' option is set to 'multinomial'.\n",
            " |  (Currently the 'multinomial' option is supported only by the 'lbfgs',\n",
            " |  'sag', 'saga' and 'newton-cg' solvers.)\n",
            " |  \n",
            " |  This class implements regularized logistic regression using the\n",
            " |  'liblinear' library, 'newton-cg', 'sag', 'saga' and 'lbfgs' solvers. **Note\n",
            " |  that regularization is applied by default**. It can handle both dense\n",
            " |  and sparse input. Use C-ordered arrays or CSR matrices containing 64-bit\n",
            " |  floats for optimal performance; any other input format will be converted\n",
            " |  (and copied).\n",
            " |  \n",
            " |  The 'newton-cg', 'sag', and 'lbfgs' solvers support only L2 regularization\n",
            " |  with primal formulation, or no regularization. The 'liblinear' solver\n",
            " |  supports both L1 and L2 regularization, with a dual formulation only for\n",
            " |  the L2 penalty. The Elastic-Net regularization is only supported by the\n",
            " |  'saga' solver.\n",
            " |  \n",
            " |  Read more in the :ref:`User Guide <logistic_regression>`.\n",
            " |  \n",
            " |  Parameters\n",
            " |  ----------\n",
            " |  penalty : {'l1', 'l2', 'elasticnet', None}, default='l2'\n",
            " |      Specify the norm of the penalty:\n",
            " |  \n",
            " |      - `None`: no penalty is added;\n",
            " |      - `'l2'`: add a L2 penalty term and it is the default choice;\n",
            " |      - `'l1'`: add a L1 penalty term;\n",
            " |      - `'elasticnet'`: both L1 and L2 penalty terms are added.\n",
            " |  \n",
            " |      .. warning::\n",
            " |         Some penalties may not work with some solvers. See the parameter\n",
            " |         `solver` below, to know the compatibility between the penalty and\n",
            " |         solver.\n",
            " |  \n",
            " |      .. versionadded:: 0.19\n",
            " |         l1 penalty with SAGA solver (allowing 'multinomial' + L1)\n",
            " |  \n",
            " |      .. deprecated:: 1.2\n",
            " |         The 'none' option was deprecated in version 1.2, and will be removed\n",
            " |         in 1.4. Use `None` instead.\n",
            " |  \n",
            " |  dual : bool, default=False\n",
            " |      Dual or primal formulation. Dual formulation is only implemented for\n",
            " |      l2 penalty with liblinear solver. Prefer dual=False when\n",
            " |      n_samples > n_features.\n",
            " |  \n",
            " |  tol : float, default=1e-4\n",
            " |      Tolerance for stopping criteria.\n",
            " |  \n",
            " |  C : float, default=1.0\n",
            " |      Inverse of regularization strength; must be a positive float.\n",
            " |      Like in support vector machines, smaller values specify stronger\n",
            " |      regularization.\n",
            " |  \n",
            " |  fit_intercept : bool, default=True\n",
            " |      Specifies if a constant (a.k.a. bias or intercept) should be\n",
            " |      added to the decision function.\n",
            " |  \n",
            " |  intercept_scaling : float, default=1\n",
            " |      Useful only when the solver 'liblinear' is used\n",
            " |      and self.fit_intercept is set to True. In this case, x becomes\n",
            " |      [x, self.intercept_scaling],\n",
            " |      i.e. a \"synthetic\" feature with constant value equal to\n",
            " |      intercept_scaling is appended to the instance vector.\n",
            " |      The intercept becomes ``intercept_scaling * synthetic_feature_weight``.\n",
            " |  \n",
            " |      Note! the synthetic feature weight is subject to l1/l2 regularization\n",
            " |      as all other features.\n",
            " |      To lessen the effect of regularization on synthetic feature weight\n",
            " |      (and therefore on the intercept) intercept_scaling has to be increased.\n",
            " |  \n",
            " |  class_weight : dict or 'balanced', default=None\n",
            " |      Weights associated with classes in the form ``{class_label: weight}``.\n",
            " |      If not given, all classes are supposed to have weight one.\n",
            " |  \n",
            " |      The \"balanced\" mode uses the values of y to automatically adjust\n",
            " |      weights inversely proportional to class frequencies in the input data\n",
            " |      as ``n_samples / (n_classes * np.bincount(y))``.\n",
            " |  \n",
            " |      Note that these weights will be multiplied with sample_weight (passed\n",
            " |      through the fit method) if sample_weight is specified.\n",
            " |  \n",
            " |      .. versionadded:: 0.17\n",
            " |         *class_weight='balanced'*\n",
            " |  \n",
            " |  random_state : int, RandomState instance, default=None\n",
            " |      Used when ``solver`` == 'sag', 'saga' or 'liblinear' to shuffle the\n",
            " |      data. See :term:`Glossary <random_state>` for details.\n",
            " |  \n",
            " |  solver : {'lbfgs', 'liblinear', 'newton-cg', 'newton-cholesky', 'sag', 'saga'},             default='lbfgs'\n",
            " |  \n",
            " |      Algorithm to use in the optimization problem. Default is 'lbfgs'.\n",
            " |      To choose a solver, you might want to consider the following aspects:\n",
            " |  \n",
            " |          - For small datasets, 'liblinear' is a good choice, whereas 'sag'\n",
            " |            and 'saga' are faster for large ones;\n",
            " |          - For multiclass problems, only 'newton-cg', 'sag', 'saga' and\n",
            " |            'lbfgs' handle multinomial loss;\n",
            " |          - 'liblinear' is limited to one-versus-rest schemes.\n",
            " |          - 'newton-cholesky' is a good choice for `n_samples` >> `n_features`,\n",
            " |            especially with one-hot encoded categorical features with rare\n",
            " |            categories. Note that it is limited to binary classification and the\n",
            " |            one-versus-rest reduction for multiclass classification. Be aware that\n",
            " |            the memory usage of this solver has a quadratic dependency on\n",
            " |            `n_features` because it explicitly computes the Hessian matrix.\n",
            " |  \n",
            " |      .. warning::\n",
            " |         The choice of the algorithm depends on the penalty chosen.\n",
            " |         Supported penalties by solver:\n",
            " |  \n",
            " |         - 'lbfgs'           -   ['l2', None]\n",
            " |         - 'liblinear'       -   ['l1', 'l2']\n",
            " |         - 'newton-cg'       -   ['l2', None]\n",
            " |         - 'newton-cholesky' -   ['l2', None]\n",
            " |         - 'sag'             -   ['l2', None]\n",
            " |         - 'saga'            -   ['elasticnet', 'l1', 'l2', None]\n",
            " |  \n",
            " |      .. note::\n",
            " |         'sag' and 'saga' fast convergence is only guaranteed on features\n",
            " |         with approximately the same scale. You can preprocess the data with\n",
            " |         a scaler from :mod:`sklearn.preprocessing`.\n",
            " |  \n",
            " |      .. seealso::\n",
            " |         Refer to the User Guide for more information regarding\n",
            " |         :class:`LogisticRegression` and more specifically the\n",
            " |         :ref:`Table <Logistic_regression>`\n",
            " |         summarizing solver/penalty supports.\n",
            " |  \n",
            " |      .. versionadded:: 0.17\n",
            " |         Stochastic Average Gradient descent solver.\n",
            " |      .. versionadded:: 0.19\n",
            " |         SAGA solver.\n",
            " |      .. versionchanged:: 0.22\n",
            " |          The default solver changed from 'liblinear' to 'lbfgs' in 0.22.\n",
            " |      .. versionadded:: 1.2\n",
            " |         newton-cholesky solver.\n",
            " |  \n",
            " |  max_iter : int, default=100\n",
            " |      Maximum number of iterations taken for the solvers to converge.\n",
            " |  \n",
            " |  multi_class : {'auto', 'ovr', 'multinomial'}, default='auto'\n",
            " |      If the option chosen is 'ovr', then a binary problem is fit for each\n",
            " |      label. For 'multinomial' the loss minimised is the multinomial loss fit\n",
            " |      across the entire probability distribution, *even when the data is\n",
            " |      binary*. 'multinomial' is unavailable when solver='liblinear'.\n",
            " |      'auto' selects 'ovr' if the data is binary, or if solver='liblinear',\n",
            " |      and otherwise selects 'multinomial'.\n",
            " |  \n",
            " |      .. versionadded:: 0.18\n",
            " |         Stochastic Average Gradient descent solver for 'multinomial' case.\n",
            " |      .. versionchanged:: 0.22\n",
            " |          Default changed from 'ovr' to 'auto' in 0.22.\n",
            " |  \n",
            " |  verbose : int, default=0\n",
            " |      For the liblinear and lbfgs solvers set verbose to any positive\n",
            " |      number for verbosity.\n",
            " |  \n",
            " |  warm_start : bool, default=False\n",
            " |      When set to True, reuse the solution of the previous call to fit as\n",
            " |      initialization, otherwise, just erase the previous solution.\n",
            " |      Useless for liblinear solver. See :term:`the Glossary <warm_start>`.\n",
            " |  \n",
            " |      .. versionadded:: 0.17\n",
            " |         *warm_start* to support *lbfgs*, *newton-cg*, *sag*, *saga* solvers.\n",
            " |  \n",
            " |  n_jobs : int, default=None\n",
            " |      Number of CPU cores used when parallelizing over classes if\n",
            " |      multi_class='ovr'\". This parameter is ignored when the ``solver`` is\n",
            " |      set to 'liblinear' regardless of whether 'multi_class' is specified or\n",
            " |      not. ``None`` means 1 unless in a :obj:`joblib.parallel_backend`\n",
            " |      context. ``-1`` means using all processors.\n",
            " |      See :term:`Glossary <n_jobs>` for more details.\n",
            " |  \n",
            " |  l1_ratio : float, default=None\n",
            " |      The Elastic-Net mixing parameter, with ``0 <= l1_ratio <= 1``. Only\n",
            " |      used if ``penalty='elasticnet'``. Setting ``l1_ratio=0`` is equivalent\n",
            " |      to using ``penalty='l2'``, while setting ``l1_ratio=1`` is equivalent\n",
            " |      to using ``penalty='l1'``. For ``0 < l1_ratio <1``, the penalty is a\n",
            " |      combination of L1 and L2.\n",
            " |  \n",
            " |  Attributes\n",
            " |  ----------\n",
            " |  \n",
            " |  classes_ : ndarray of shape (n_classes, )\n",
            " |      A list of class labels known to the classifier.\n",
            " |  \n",
            " |  coef_ : ndarray of shape (1, n_features) or (n_classes, n_features)\n",
            " |      Coefficient of the features in the decision function.\n",
            " |  \n",
            " |      `coef_` is of shape (1, n_features) when the given problem is binary.\n",
            " |      In particular, when `multi_class='multinomial'`, `coef_` corresponds\n",
            " |      to outcome 1 (True) and `-coef_` corresponds to outcome 0 (False).\n",
            " |  \n",
            " |  intercept_ : ndarray of shape (1,) or (n_classes,)\n",
            " |      Intercept (a.k.a. bias) added to the decision function.\n",
            " |  \n",
            " |      If `fit_intercept` is set to False, the intercept is set to zero.\n",
            " |      `intercept_` is of shape (1,) when the given problem is binary.\n",
            " |      In particular, when `multi_class='multinomial'`, `intercept_`\n",
            " |      corresponds to outcome 1 (True) and `-intercept_` corresponds to\n",
            " |      outcome 0 (False).\n",
            " |  \n",
            " |  n_features_in_ : int\n",
            " |      Number of features seen during :term:`fit`.\n",
            " |  \n",
            " |      .. versionadded:: 0.24\n",
            " |  \n",
            " |  feature_names_in_ : ndarray of shape (`n_features_in_`,)\n",
            " |      Names of features seen during :term:`fit`. Defined only when `X`\n",
            " |      has feature names that are all strings.\n",
            " |  \n",
            " |      .. versionadded:: 1.0\n",
            " |  \n",
            " |  n_iter_ : ndarray of shape (n_classes,) or (1, )\n",
            " |      Actual number of iterations for all classes. If binary or multinomial,\n",
            " |      it returns only 1 element. For liblinear solver, only the maximum\n",
            " |      number of iteration across all classes is given.\n",
            " |  \n",
            " |      .. versionchanged:: 0.20\n",
            " |  \n",
            " |          In SciPy <= 1.0.0 the number of lbfgs iterations may exceed\n",
            " |          ``max_iter``. ``n_iter_`` will now report at most ``max_iter``.\n",
            " |  \n",
            " |  See Also\n",
            " |  --------\n",
            " |  SGDClassifier : Incrementally trained logistic regression (when given\n",
            " |      the parameter ``loss=\"log\"``).\n",
            " |  LogisticRegressionCV : Logistic regression with built-in cross validation.\n",
            " |  \n",
            " |  Notes\n",
            " |  -----\n",
            " |  The underlying C implementation uses a random number generator to\n",
            " |  select features when fitting the model. It is thus not uncommon,\n",
            " |  to have slightly different results for the same input data. If\n",
            " |  that happens, try with a smaller tol parameter.\n",
            " |  \n",
            " |  Predict output may not match that of standalone liblinear in certain\n",
            " |  cases. See :ref:`differences from liblinear <liblinear_differences>`\n",
            " |  in the narrative documentation.\n",
            " |  \n",
            " |  References\n",
            " |  ----------\n",
            " |  \n",
            " |  L-BFGS-B -- Software for Large-scale Bound-constrained Optimization\n",
            " |      Ciyou Zhu, Richard Byrd, Jorge Nocedal and Jose Luis Morales.\n",
            " |      http://users.iems.northwestern.edu/~nocedal/lbfgsb.html\n",
            " |  \n",
            " |  LIBLINEAR -- A Library for Large Linear Classification\n",
            " |      https://www.csie.ntu.edu.tw/~cjlin/liblinear/\n",
            " |  \n",
            " |  SAG -- Mark Schmidt, Nicolas Le Roux, and Francis Bach\n",
            " |      Minimizing Finite Sums with the Stochastic Average Gradient\n",
            " |      https://hal.inria.fr/hal-00860051/document\n",
            " |  \n",
            " |  SAGA -- Defazio, A., Bach F. & Lacoste-Julien S. (2014).\n",
            " |          :arxiv:`\"SAGA: A Fast Incremental Gradient Method With Support\n",
            " |          for Non-Strongly Convex Composite Objectives\" <1407.0202>`\n",
            " |  \n",
            " |  Hsiang-Fu Yu, Fang-Lan Huang, Chih-Jen Lin (2011). Dual coordinate descent\n",
            " |      methods for logistic regression and maximum entropy models.\n",
            " |      Machine Learning 85(1-2):41-75.\n",
            " |      https://www.csie.ntu.edu.tw/~cjlin/papers/maxent_dual.pdf\n",
            " |  \n",
            " |  Examples\n",
            " |  --------\n",
            " |  >>> from sklearn.datasets import load_iris\n",
            " |  >>> from sklearn.linear_model import LogisticRegression\n",
            " |  >>> X, y = load_iris(return_X_y=True)\n",
            " |  >>> clf = LogisticRegression(random_state=0).fit(X, y)\n",
            " |  >>> clf.predict(X[:2, :])\n",
            " |  array([0, 0])\n",
            " |  >>> clf.predict_proba(X[:2, :])\n",
            " |  array([[9.8...e-01, 1.8...e-02, 1.4...e-08],\n",
            " |         [9.7...e-01, 2.8...e-02, ...e-08]])\n",
            " |  >>> clf.score(X, y)\n",
            " |  0.97...\n",
            " |  \n",
            " |  Method resolution order:\n",
            " |      LogisticRegression\n",
            " |      sklearn.linear_model._base.LinearClassifierMixin\n",
            " |      sklearn.base.ClassifierMixin\n",
            " |      sklearn.linear_model._base.SparseCoefMixin\n",
            " |      sklearn.base.BaseEstimator\n",
            " |      builtins.object\n",
            " |  \n",
            " |  Methods defined here:\n",
            " |  \n",
            " |  __init__(self, penalty='l2', *, dual=False, tol=0.0001, C=1.0, fit_intercept=True, intercept_scaling=1, class_weight=None, random_state=None, solver='lbfgs', max_iter=100, multi_class='auto', verbose=0, warm_start=False, n_jobs=None, l1_ratio=None)\n",
            " |      Initialize self.  See help(type(self)) for accurate signature.\n",
            " |  \n",
            " |  fit(self, X, y, sample_weight=None)\n",
            " |      Fit the model according to the given training data.\n",
            " |      \n",
            " |      Parameters\n",
            " |      ----------\n",
            " |      X : {array-like, sparse matrix} of shape (n_samples, n_features)\n",
            " |          Training vector, where `n_samples` is the number of samples and\n",
            " |          `n_features` is the number of features.\n",
            " |      \n",
            " |      y : array-like of shape (n_samples,)\n",
            " |          Target vector relative to X.\n",
            " |      \n",
            " |      sample_weight : array-like of shape (n_samples,) default=None\n",
            " |          Array of weights that are assigned to individual samples.\n",
            " |          If not provided, then each sample is given unit weight.\n",
            " |      \n",
            " |          .. versionadded:: 0.17\n",
            " |             *sample_weight* support to LogisticRegression.\n",
            " |      \n",
            " |      Returns\n",
            " |      -------\n",
            " |      self\n",
            " |          Fitted estimator.\n",
            " |      \n",
            " |      Notes\n",
            " |      -----\n",
            " |      The SAGA solver supports both float64 and float32 bit arrays.\n",
            " |  \n",
            " |  predict_log_proba(self, X)\n",
            " |      Predict logarithm of probability estimates.\n",
            " |      \n",
            " |      The returned estimates for all classes are ordered by the\n",
            " |      label of classes.\n",
            " |      \n",
            " |      Parameters\n",
            " |      ----------\n",
            " |      X : array-like of shape (n_samples, n_features)\n",
            " |          Vector to be scored, where `n_samples` is the number of samples and\n",
            " |          `n_features` is the number of features.\n",
            " |      \n",
            " |      Returns\n",
            " |      -------\n",
            " |      T : array-like of shape (n_samples, n_classes)\n",
            " |          Returns the log-probability of the sample for each class in the\n",
            " |          model, where classes are ordered as they are in ``self.classes_``.\n",
            " |  \n",
            " |  predict_proba(self, X)\n",
            " |      Probability estimates.\n",
            " |      \n",
            " |      The returned estimates for all classes are ordered by the\n",
            " |      label of classes.\n",
            " |      \n",
            " |      For a multi_class problem, if multi_class is set to be \"multinomial\"\n",
            " |      the softmax function is used to find the predicted probability of\n",
            " |      each class.\n",
            " |      Else use a one-vs-rest approach, i.e calculate the probability\n",
            " |      of each class assuming it to be positive using the logistic function.\n",
            " |      and normalize these values across all the classes.\n",
            " |      \n",
            " |      Parameters\n",
            " |      ----------\n",
            " |      X : array-like of shape (n_samples, n_features)\n",
            " |          Vector to be scored, where `n_samples` is the number of samples and\n",
            " |          `n_features` is the number of features.\n",
            " |      \n",
            " |      Returns\n",
            " |      -------\n",
            " |      T : array-like of shape (n_samples, n_classes)\n",
            " |          Returns the probability of the sample for each class in the model,\n",
            " |          where classes are ordered as they are in ``self.classes_``.\n",
            " |  \n",
            " |  ----------------------------------------------------------------------\n",
            " |  Data and other attributes defined here:\n",
            " |  \n",
            " |  __annotations__ = {'_parameter_constraints': <class 'dict'>}\n",
            " |  \n",
            " |  ----------------------------------------------------------------------\n",
            " |  Methods inherited from sklearn.linear_model._base.LinearClassifierMixin:\n",
            " |  \n",
            " |  decision_function(self, X)\n",
            " |      Predict confidence scores for samples.\n",
            " |      \n",
            " |      The confidence score for a sample is proportional to the signed\n",
            " |      distance of that sample to the hyperplane.\n",
            " |      \n",
            " |      Parameters\n",
            " |      ----------\n",
            " |      X : {array-like, sparse matrix} of shape (n_samples, n_features)\n",
            " |          The data matrix for which we want to get the confidence scores.\n",
            " |      \n",
            " |      Returns\n",
            " |      -------\n",
            " |      scores : ndarray of shape (n_samples,) or (n_samples, n_classes)\n",
            " |          Confidence scores per `(n_samples, n_classes)` combination. In the\n",
            " |          binary case, confidence score for `self.classes_[1]` where >0 means\n",
            " |          this class would be predicted.\n",
            " |  \n",
            " |  predict(self, X)\n",
            " |      Predict class labels for samples in X.\n",
            " |      \n",
            " |      Parameters\n",
            " |      ----------\n",
            " |      X : {array-like, sparse matrix} of shape (n_samples, n_features)\n",
            " |          The data matrix for which we want to get the predictions.\n",
            " |      \n",
            " |      Returns\n",
            " |      -------\n",
            " |      y_pred : ndarray of shape (n_samples,)\n",
            " |          Vector containing the class labels for each sample.\n",
            " |  \n",
            " |  ----------------------------------------------------------------------\n",
            " |  Methods inherited from sklearn.base.ClassifierMixin:\n",
            " |  \n",
            " |  score(self, X, y, sample_weight=None)\n",
            " |      Return the mean accuracy on the given test data and labels.\n",
            " |      \n",
            " |      In multi-label classification, this is the subset accuracy\n",
            " |      which is a harsh metric since you require for each sample that\n",
            " |      each label set be correctly predicted.\n",
            " |      \n",
            " |      Parameters\n",
            " |      ----------\n",
            " |      X : array-like of shape (n_samples, n_features)\n",
            " |          Test samples.\n",
            " |      \n",
            " |      y : array-like of shape (n_samples,) or (n_samples, n_outputs)\n",
            " |          True labels for `X`.\n",
            " |      \n",
            " |      sample_weight : array-like of shape (n_samples,), default=None\n",
            " |          Sample weights.\n",
            " |      \n",
            " |      Returns\n",
            " |      -------\n",
            " |      score : float\n",
            " |          Mean accuracy of ``self.predict(X)`` w.r.t. `y`.\n",
            " |  \n",
            " |  ----------------------------------------------------------------------\n",
            " |  Data descriptors inherited from sklearn.base.ClassifierMixin:\n",
            " |  \n",
            " |  __dict__\n",
            " |      dictionary for instance variables (if defined)\n",
            " |  \n",
            " |  __weakref__\n",
            " |      list of weak references to the object (if defined)\n",
            " |  \n",
            " |  ----------------------------------------------------------------------\n",
            " |  Methods inherited from sklearn.linear_model._base.SparseCoefMixin:\n",
            " |  \n",
            " |  densify(self)\n",
            " |      Convert coefficient matrix to dense array format.\n",
            " |      \n",
            " |      Converts the ``coef_`` member (back) to a numpy.ndarray. This is the\n",
            " |      default format of ``coef_`` and is required for fitting, so calling\n",
            " |      this method is only required on models that have previously been\n",
            " |      sparsified; otherwise, it is a no-op.\n",
            " |      \n",
            " |      Returns\n",
            " |      -------\n",
            " |      self\n",
            " |          Fitted estimator.\n",
            " |  \n",
            " |  sparsify(self)\n",
            " |      Convert coefficient matrix to sparse format.\n",
            " |      \n",
            " |      Converts the ``coef_`` member to a scipy.sparse matrix, which for\n",
            " |      L1-regularized models can be much more memory- and storage-efficient\n",
            " |      than the usual numpy.ndarray representation.\n",
            " |      \n",
            " |      The ``intercept_`` member is not converted.\n",
            " |      \n",
            " |      Returns\n",
            " |      -------\n",
            " |      self\n",
            " |          Fitted estimator.\n",
            " |      \n",
            " |      Notes\n",
            " |      -----\n",
            " |      For non-sparse models, i.e. when there are not many zeros in ``coef_``,\n",
            " |      this may actually *increase* memory usage, so use this method with\n",
            " |      care. A rule of thumb is that the number of zero elements, which can\n",
            " |      be computed with ``(coef_ == 0).sum()``, must be more than 50% for this\n",
            " |      to provide significant benefits.\n",
            " |      \n",
            " |      After calling this method, further fitting with the partial_fit\n",
            " |      method (if any) will not work until you call densify.\n",
            " |  \n",
            " |  ----------------------------------------------------------------------\n",
            " |  Methods inherited from sklearn.base.BaseEstimator:\n",
            " |  \n",
            " |  __getstate__(self)\n",
            " |  \n",
            " |  __repr__(self, N_CHAR_MAX=700)\n",
            " |      Return repr(self).\n",
            " |  \n",
            " |  __setstate__(self, state)\n",
            " |  \n",
            " |  get_params(self, deep=True)\n",
            " |      Get parameters for this estimator.\n",
            " |      \n",
            " |      Parameters\n",
            " |      ----------\n",
            " |      deep : bool, default=True\n",
            " |          If True, will return the parameters for this estimator and\n",
            " |          contained subobjects that are estimators.\n",
            " |      \n",
            " |      Returns\n",
            " |      -------\n",
            " |      params : dict\n",
            " |          Parameter names mapped to their values.\n",
            " |  \n",
            " |  set_params(self, **params)\n",
            " |      Set the parameters of this estimator.\n",
            " |      \n",
            " |      The method works on simple estimators as well as on nested objects\n",
            " |      (such as :class:`~sklearn.pipeline.Pipeline`). The latter have\n",
            " |      parameters of the form ``<component>__<parameter>`` so that it's\n",
            " |      possible to update each component of a nested object.\n",
            " |      \n",
            " |      Parameters\n",
            " |      ----------\n",
            " |      **params : dict\n",
            " |          Estimator parameters.\n",
            " |      \n",
            " |      Returns\n",
            " |      -------\n",
            " |      self : estimator instance\n",
            " |          Estimator instance.\n",
            "\n"
          ]
        }
      ]
    },
    {
      "cell_type": "markdown",
      "source": [
        "Se puede observar que el objeto serializado es una instancia de la clase `LogisticRegression` del módulo `sklearn.linear_model._logistic`. Este objeto es un modelo de regresión logística entrenado, que se puede utilizar para predecir la probabilidad de que un cliente cometa fraude.\n",
        "Algunos métodos útiles de este objeto incluyen:\n",
        "\n",
        "* `fit`: para entrenar el modelo.\n",
        "* `predict`: para predecir las clases de las muestras.\n",
        "* `predict_proba`: para predecir las probabilidades de clase para las muestras.\n",
        "* `score`: para calcular la precisión del modelo."
      ],
      "metadata": {
        "id": "P3xstgRdQL_g"
      }
    },
    {
      "cell_type": "markdown",
      "source": [
        "3.-"
      ],
      "metadata": {
        "id": "UT2EMSgrQe3R"
      }
    },
    {
      "cell_type": "code",
      "source": [
        "from pyspark.sql.functions import udf\n",
        "from pyspark.sql.types import FloatType\n",
        "\n",
        "\n",
        "def predecir_probabilidad_fraude_ultimo_valor(*cols):\n",
        "    # Cargar el modelo serializado\n",
        "      with open(\"object.pkl\", \"rb\") as f:\n",
        "          obj = pickle.load(f)\n",
        "\n",
        "      df = pd.DataFrame([cols]).transpose()\n",
        "      df.columns = [\"Transaction Amount\",\"Quantity\",\"Customer Age\",\"Transaction Hour\",\"Unos\"]\n",
        "      X= df[[\"Transaction Amount\",\"Quantity\",\"Customer Age\",\"Transaction Hour\"]]\n",
        "      Y=df[\"Unos\"]\n",
        "      X_train = X.iloc[:, :-1]  # Use iloc for integer-based indexing\n",
        "      X_test = X.iloc[:, -1]     # Use iloc for integer-based indexing\n",
        "\n",
        "      Y_train = Y.iloc[:, :-1]  # Use iloc for integer-based indexing\n",
        "      Y_test = Y.iloc[:, -1]\n",
        "\n",
        "      obj.fit(X_train, Y_train)\n",
        "\n",
        "      probabilidad_fraude = obj.predict_proba(X_test)\n",
        "\n",
        "      return probabilidad_fraude\n",
        "\n"
      ],
      "metadata": {
        "id": "1sk8GBLi1tHS"
      },
      "execution_count": 356,
      "outputs": []
    },
    {
      "cell_type": "markdown",
      "source": [
        "se crea la funcion para poder entrenar con los datos y obtener la probabilidad del ultimo valor"
      ],
      "metadata": {
        "id": "aknx0-Pbt_ft"
      }
    },
    {
      "cell_type": "markdown",
      "source": [
        "4.-"
      ],
      "metadata": {
        "id": "JnkedBg9Quca"
      }
    },
    {
      "cell_type": "code",
      "source": [
        "# UDF para aplicar la función personalizada a un DataFrame de Spark\n",
        "fraud_probability_udf = udf(predecir_probabilidad_fraude_ultimo_valor, FloatType())"
      ],
      "metadata": {
        "id": "TXyJvCtvQvOJ"
      },
      "execution_count": 357,
      "outputs": []
    },
    {
      "cell_type": "markdown",
      "source": [
        "se agrega a la UDF"
      ],
      "metadata": {
        "id": "kGNvblHAuH3G"
      }
    },
    {
      "cell_type": "markdown",
      "source": [
        "5.-"
      ],
      "metadata": {
        "id": "IiPpTi-BRLb4"
      }
    },
    {
      "cell_type": "code",
      "source": [
        "from pyspark.sql.functions import lit\n",
        "# Seleccionar las columnas relevantes del DataFrame\n",
        "selected_columns = df_spark[[\"Transaction Amount\",\"Quantity\",\"Customer Age\",\"Transaction Hour\"]]\n",
        "\n",
        "\n",
        "from pyspark.sql.functions import rand, round\n",
        "\n",
        "# Generar una columna aleatoria de valores entre 0 y 1 que servira de etiqueta artificial para poder entrenar el modelo\n",
        "random_column = selected_columns.withColumn(\"random\", rand())\n",
        "random_a_b_column = random_column.withColumn(\"Unos\", when(random_column[\"random\"] < 0.5, lit(0)).otherwise(lit(1)))\n",
        "selected_columns = random_a_b_column.drop(\"random\")\n",
        "selected_columns.show()\n",
        "\n",
        "\n",
        "\n"
      ],
      "metadata": {
        "colab": {
          "base_uri": "https://localhost:8080/"
        },
        "id": "-vwmxYuQRD_k",
        "outputId": "ee82b8da-c042-40ed-91a8-0187825010f9"
      },
      "execution_count": 358,
      "outputs": [
        {
          "output_type": "stream",
          "name": "stdout",
          "text": [
            "+------------------+--------+------------+----------------+----+\n",
            "|Transaction Amount|Quantity|Customer Age|Transaction Hour|Unos|\n",
            "+------------------+--------+------------+----------------+----+\n",
            "|            131.79|     2.0|        39.0|            10.0|   1|\n",
            "|            243.12|     3.0|        37.0|            10.0|   1|\n",
            "|            198.24|     3.0|        39.0|             3.0|   0|\n",
            "|            159.56|     5.0|        36.0|            14.0|   0|\n",
            "|            344.53|     1.0|        29.0|            18.0|   0|\n",
            "|              44.5|     3.0|        34.0|             6.0|   1|\n",
            "|            295.89|     5.0|        24.0|             7.0|   1|\n",
            "|             55.65|     4.0|        39.0|            12.0|   0|\n",
            "|              33.3|     3.0|        20.0|             5.0|   1|\n",
            "|            388.46|     4.0|        55.0|            17.0|   1|\n",
            "|            361.76|     3.0|        29.0|            20.0|   0|\n",
            "|             88.01|     5.0|        26.0|             5.0|   1|\n",
            "|            308.87|     5.0|        14.0|            17.0|   0|\n",
            "|            119.79|     2.0|        52.0|             6.0|   0|\n",
            "|            121.22|     1.0|        38.0|            10.0|   0|\n",
            "|             20.93|     2.0|        30.0|             7.0|   1|\n",
            "|             34.28|     4.0|        30.0|            14.0|   1|\n",
            "|            240.72|     5.0|        32.0|             2.0|   1|\n",
            "|             33.08|     5.0|        36.0|            22.0|   1|\n",
            "|            222.15|     1.0|        13.0|             8.0|   1|\n",
            "+------------------+--------+------------+----------------+----+\n",
            "only showing top 20 rows\n",
            "\n"
          ]
        }
      ]
    },
    {
      "cell_type": "markdown",
      "source": [
        "es esta parte se define el dataframe con las columnas requeridas y se simula una etiqueta ya que es necesario entrenar el modelo previamente pero para eso se debe incluir una etiqueta o clase."
      ],
      "metadata": {
        "id": "HSySZwR3uKD9"
      }
    },
    {
      "cell_type": "code",
      "source": [
        "\n",
        "columnas = [\"Transaction Amount\",\"Quantity\",\"Customer Age\",\"Transaction Hour\",\"Unos\"]\n",
        "sparkDF2 = selected_columns.select(fraud_probability_udf(*columnas).alias(\"proba\"))\n",
        "\n",
        "\n",
        "sparkDF2.show()"
      ],
      "metadata": {
        "colab": {
          "base_uri": "https://localhost:8080/",
          "height": 547
        },
        "id": "tG4m3kV2otEk",
        "outputId": "a8996fec-cdbb-4fc1-b7de-e48bf0d144b9"
      },
      "execution_count": 359,
      "outputs": [
        {
          "output_type": "error",
          "ename": "PythonException",
          "evalue": "\n  An exception was thrown from the Python worker. Please see the stack trace below.\nTraceback (most recent call last):\n  File \"<ipython-input-356-6f2c6474d74c>\", line 13, in predecir_probabilidad_fraude_ultimo_valor\n  File \"/usr/local/lib/python3.10/dist-packages/pandas/core/generic.py\", line 6003, in __setattr__\n    except AttributeError:\n  File \"pandas/_libs/properties.pyx\", line 69, in pandas._libs.properties.AxisProperty.__set__\n  File \"/usr/local/lib/python3.10/dist-packages/pandas/core/generic.py\", line 730, in _set_axis\n    self._mgr.set_axis(axis, labels)\n  File \"/usr/local/lib/python3.10/dist-packages/pandas/core/internals/managers.py\", line 225, in set_axis\n    self._validate_set_axis(axis, new_labels)\n  File \"/usr/local/lib/python3.10/dist-packages/pandas/core/internals/base.py\", line 70, in _validate_set_axis\n    raise ValueError(\nValueError: Length mismatch: Expected axis has 1 elements, new values have 5 elements\n",
          "traceback": [
            "\u001b[0;31m---------------------------------------------------------------------------\u001b[0m",
            "\u001b[0;31mPythonException\u001b[0m                           Traceback (most recent call last)",
            "\u001b[0;32m<ipython-input-359-004cc66b406d>\u001b[0m in \u001b[0;36m<cell line: 5>\u001b[0;34m()\u001b[0m\n\u001b[1;32m      3\u001b[0m \u001b[0;34m\u001b[0m\u001b[0m\n\u001b[1;32m      4\u001b[0m \u001b[0;34m\u001b[0m\u001b[0m\n\u001b[0;32m----> 5\u001b[0;31m \u001b[0msparkDF2\u001b[0m\u001b[0;34m.\u001b[0m\u001b[0mshow\u001b[0m\u001b[0;34m(\u001b[0m\u001b[0;34m)\u001b[0m\u001b[0;34m\u001b[0m\u001b[0;34m\u001b[0m\u001b[0m\n\u001b[0m",
            "\u001b[0;32m/usr/local/lib/python3.10/dist-packages/pyspark/sql/dataframe.py\u001b[0m in \u001b[0;36mshow\u001b[0;34m(self, n, truncate, vertical)\u001b[0m\n\u001b[1;32m    943\u001b[0m         \u001b[0mname\u001b[0m \u001b[0;34m|\u001b[0m \u001b[0mBob\u001b[0m\u001b[0;34m\u001b[0m\u001b[0;34m\u001b[0m\u001b[0m\n\u001b[1;32m    944\u001b[0m         \"\"\"\n\u001b[0;32m--> 945\u001b[0;31m         \u001b[0mprint\u001b[0m\u001b[0;34m(\u001b[0m\u001b[0mself\u001b[0m\u001b[0;34m.\u001b[0m\u001b[0m_show_string\u001b[0m\u001b[0;34m(\u001b[0m\u001b[0mn\u001b[0m\u001b[0;34m,\u001b[0m \u001b[0mtruncate\u001b[0m\u001b[0;34m,\u001b[0m \u001b[0mvertical\u001b[0m\u001b[0;34m)\u001b[0m\u001b[0;34m)\u001b[0m\u001b[0;34m\u001b[0m\u001b[0;34m\u001b[0m\u001b[0m\n\u001b[0m\u001b[1;32m    946\u001b[0m \u001b[0;34m\u001b[0m\u001b[0m\n\u001b[1;32m    947\u001b[0m     def _show_string(\n",
            "\u001b[0;32m/usr/local/lib/python3.10/dist-packages/pyspark/sql/dataframe.py\u001b[0m in \u001b[0;36m_show_string\u001b[0;34m(self, n, truncate, vertical)\u001b[0m\n\u001b[1;32m    961\u001b[0m \u001b[0;34m\u001b[0m\u001b[0m\n\u001b[1;32m    962\u001b[0m         \u001b[0;32mif\u001b[0m \u001b[0misinstance\u001b[0m\u001b[0;34m(\u001b[0m\u001b[0mtruncate\u001b[0m\u001b[0;34m,\u001b[0m \u001b[0mbool\u001b[0m\u001b[0;34m)\u001b[0m \u001b[0;32mand\u001b[0m \u001b[0mtruncate\u001b[0m\u001b[0;34m:\u001b[0m\u001b[0;34m\u001b[0m\u001b[0;34m\u001b[0m\u001b[0m\n\u001b[0;32m--> 963\u001b[0;31m             \u001b[0;32mreturn\u001b[0m \u001b[0mself\u001b[0m\u001b[0;34m.\u001b[0m\u001b[0m_jdf\u001b[0m\u001b[0;34m.\u001b[0m\u001b[0mshowString\u001b[0m\u001b[0;34m(\u001b[0m\u001b[0mn\u001b[0m\u001b[0;34m,\u001b[0m \u001b[0;36m20\u001b[0m\u001b[0;34m,\u001b[0m \u001b[0mvertical\u001b[0m\u001b[0;34m)\u001b[0m\u001b[0;34m\u001b[0m\u001b[0;34m\u001b[0m\u001b[0m\n\u001b[0m\u001b[1;32m    964\u001b[0m         \u001b[0;32melse\u001b[0m\u001b[0;34m:\u001b[0m\u001b[0;34m\u001b[0m\u001b[0;34m\u001b[0m\u001b[0m\n\u001b[1;32m    965\u001b[0m             \u001b[0;32mtry\u001b[0m\u001b[0;34m:\u001b[0m\u001b[0;34m\u001b[0m\u001b[0;34m\u001b[0m\u001b[0m\n",
            "\u001b[0;32m/usr/local/lib/python3.10/dist-packages/py4j/java_gateway.py\u001b[0m in \u001b[0;36m__call__\u001b[0;34m(self, *args)\u001b[0m\n\u001b[1;32m   1320\u001b[0m \u001b[0;34m\u001b[0m\u001b[0m\n\u001b[1;32m   1321\u001b[0m         \u001b[0manswer\u001b[0m \u001b[0;34m=\u001b[0m \u001b[0mself\u001b[0m\u001b[0;34m.\u001b[0m\u001b[0mgateway_client\u001b[0m\u001b[0;34m.\u001b[0m\u001b[0msend_command\u001b[0m\u001b[0;34m(\u001b[0m\u001b[0mcommand\u001b[0m\u001b[0;34m)\u001b[0m\u001b[0;34m\u001b[0m\u001b[0;34m\u001b[0m\u001b[0m\n\u001b[0;32m-> 1322\u001b[0;31m         return_value = get_return_value(\n\u001b[0m\u001b[1;32m   1323\u001b[0m             answer, self.gateway_client, self.target_id, self.name)\n\u001b[1;32m   1324\u001b[0m \u001b[0;34m\u001b[0m\u001b[0m\n",
            "\u001b[0;32m/usr/local/lib/python3.10/dist-packages/pyspark/errors/exceptions/captured.py\u001b[0m in \u001b[0;36mdeco\u001b[0;34m(*a, **kw)\u001b[0m\n\u001b[1;32m    183\u001b[0m                 \u001b[0;31m# Hide where the exception came from that shows a non-Pythonic\u001b[0m\u001b[0;34m\u001b[0m\u001b[0;34m\u001b[0m\u001b[0m\n\u001b[1;32m    184\u001b[0m                 \u001b[0;31m# JVM exception message.\u001b[0m\u001b[0;34m\u001b[0m\u001b[0;34m\u001b[0m\u001b[0m\n\u001b[0;32m--> 185\u001b[0;31m                 \u001b[0;32mraise\u001b[0m \u001b[0mconverted\u001b[0m \u001b[0;32mfrom\u001b[0m \u001b[0;32mNone\u001b[0m\u001b[0;34m\u001b[0m\u001b[0;34m\u001b[0m\u001b[0m\n\u001b[0m\u001b[1;32m    186\u001b[0m             \u001b[0;32melse\u001b[0m\u001b[0;34m:\u001b[0m\u001b[0;34m\u001b[0m\u001b[0;34m\u001b[0m\u001b[0m\n\u001b[1;32m    187\u001b[0m                 \u001b[0;32mraise\u001b[0m\u001b[0;34m\u001b[0m\u001b[0;34m\u001b[0m\u001b[0m\n",
            "\u001b[0;31mPythonException\u001b[0m: \n  An exception was thrown from the Python worker. Please see the stack trace below.\nTraceback (most recent call last):\n  File \"<ipython-input-356-6f2c6474d74c>\", line 13, in predecir_probabilidad_fraude_ultimo_valor\n  File \"/usr/local/lib/python3.10/dist-packages/pandas/core/generic.py\", line 6003, in __setattr__\n    except AttributeError:\n  File \"pandas/_libs/properties.pyx\", line 69, in pandas._libs.properties.AxisProperty.__set__\n  File \"/usr/local/lib/python3.10/dist-packages/pandas/core/generic.py\", line 730, in _set_axis\n    self._mgr.set_axis(axis, labels)\n  File \"/usr/local/lib/python3.10/dist-packages/pandas/core/internals/managers.py\", line 225, in set_axis\n    self._validate_set_axis(axis, new_labels)\n  File \"/usr/local/lib/python3.10/dist-packages/pandas/core/internals/base.py\", line 70, in _validate_set_axis\n    raise ValueError(\nValueError: Length mismatch: Expected axis has 1 elements, new values have 5 elements\n"
          ]
        }
      ]
    },
    {
      "cell_type": "markdown",
      "source": [
        "finalmente se obtiene el valor."
      ],
      "metadata": {
        "id": "EPIvrrIDua0b"
      }
    },
    {
      "cell_type": "markdown",
      "source": [
        "### ¿Qué beneficios podría generar utilizar udf?\n",
        "\n",
        "*  el beneficio de utilizar una funcion UDF es poder utilizar los recursos en paralelo, para poder aprovechar mejor los recursos y disminuir el tiempo de ejecucion de las funciones.\n",
        "Esta es realmente la principal ventaja de utilizar pyspark"
      ],
      "metadata": {
        "id": "eUY84X9RuiRD"
      }
    }
  ]
}